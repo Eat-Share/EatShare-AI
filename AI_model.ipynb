{
 "cells": [
  {
   "cell_type": "code",
   "execution_count": 1,
   "metadata": {},
   "outputs": [],
   "source": [
    "import torch\n",
    "from torch import nn\n",
    "import torch.nn.functional as F\n",
    "import torch.optim as optim\n",
    "from torch.utils.data import Dataset, DataLoader\n",
    "\n",
    "from tqdm import tqdm\n",
    "from tqdm.notebook import tqdm as tqdm_notebook\n",
    "\n",
    "import pandas as pd\n",
    "import gluonnlp as nlp\n",
    "import numpy as np\n",
    "\n",
    "\n",
    "from transformers.optimization import get_cosine_schedule_with_warmup\n",
    "from transformers import BertModel\n",
    "from transformers import AdamW"
   ]
  },
  {
   "cell_type": "code",
   "execution_count": 2,
   "metadata": {},
   "outputs": [],
   "source": [
    "from kobert_hf.kobert_tokenizer import KoBERTTokenizer\n",
    "tokenizer = KoBERTTokenizer.from_pretrained('skt/kobert-base-v1')"
   ]
  },
  {
   "cell_type": "code",
   "execution_count": 3,
   "metadata": {},
   "outputs": [
    {
     "data": {
      "text/plain": [
       "'C:\\\\Users\\\\cpprh/.cache\\\\huggingface\\\\transformers\\\\6920ce54223b52af14e36b32047ced34c47ec88ac51f45ce0141aaa1054e3263.7eed87d19282a93a2d45e130f20b4d8e831cbf8e957f1476628fd4ab99ae977f'"
      ]
     },
     "execution_count": 3,
     "metadata": {},
     "output_type": "execute_result"
    }
   ],
   "source": [
    "tokenizer.vocab_file"
   ]
  },
  {
   "cell_type": "code",
   "execution_count": 4,
   "metadata": {},
   "outputs": [
    {
     "name": "stdout",
     "output_type": "stream",
     "text": [
      "using cached model. C:\\Users\\cpprh\\Documents\\GitHub\\EatShare-AI\\.cache\\kobert_v1.zip\n",
      "using cached model. C:\\Users\\cpprh\\Documents\\GitHub\\EatShare-AI\\.cache\\kobert_news_wiki_ko_cased-1087f8699e.spiece\n"
     ]
    }
   ],
   "source": [
    "from kobert.pytorch_kobert import get_pytorch_kobert_model\n",
    "bertmodel, vocab = get_pytorch_kobert_model('C:\\\\Users\\\\cpprh/.cache\\\\huggingface\\\\transformers', '.cache') "
   ]
  },
  {
   "cell_type": "code",
   "execution_count": 5,
   "metadata": {},
   "outputs": [
    {
     "data": {
      "text/plain": [
       "BertModel(\n",
       "  (embeddings): BertEmbeddings(\n",
       "    (word_embeddings): Embedding(8002, 768, padding_idx=1)\n",
       "    (position_embeddings): Embedding(512, 768)\n",
       "    (token_type_embeddings): Embedding(2, 768)\n",
       "    (LayerNorm): LayerNorm((768,), eps=1e-12, elementwise_affine=True)\n",
       "    (dropout): Dropout(p=0.1, inplace=False)\n",
       "  )\n",
       "  (encoder): BertEncoder(\n",
       "    (layer): ModuleList(\n",
       "      (0): BertLayer(\n",
       "        (attention): BertAttention(\n",
       "          (self): BertSelfAttention(\n",
       "            (query): Linear(in_features=768, out_features=768, bias=True)\n",
       "            (key): Linear(in_features=768, out_features=768, bias=True)\n",
       "            (value): Linear(in_features=768, out_features=768, bias=True)\n",
       "            (dropout): Dropout(p=0.1, inplace=False)\n",
       "          )\n",
       "          (output): BertSelfOutput(\n",
       "            (dense): Linear(in_features=768, out_features=768, bias=True)\n",
       "            (LayerNorm): LayerNorm((768,), eps=1e-12, elementwise_affine=True)\n",
       "            (dropout): Dropout(p=0.1, inplace=False)\n",
       "          )\n",
       "        )\n",
       "        (intermediate): BertIntermediate(\n",
       "          (dense): Linear(in_features=768, out_features=3072, bias=True)\n",
       "        )\n",
       "        (output): BertOutput(\n",
       "          (dense): Linear(in_features=3072, out_features=768, bias=True)\n",
       "          (LayerNorm): LayerNorm((768,), eps=1e-12, elementwise_affine=True)\n",
       "          (dropout): Dropout(p=0.1, inplace=False)\n",
       "        )\n",
       "      )\n",
       "      (1): BertLayer(\n",
       "        (attention): BertAttention(\n",
       "          (self): BertSelfAttention(\n",
       "            (query): Linear(in_features=768, out_features=768, bias=True)\n",
       "            (key): Linear(in_features=768, out_features=768, bias=True)\n",
       "            (value): Linear(in_features=768, out_features=768, bias=True)\n",
       "            (dropout): Dropout(p=0.1, inplace=False)\n",
       "          )\n",
       "          (output): BertSelfOutput(\n",
       "            (dense): Linear(in_features=768, out_features=768, bias=True)\n",
       "            (LayerNorm): LayerNorm((768,), eps=1e-12, elementwise_affine=True)\n",
       "            (dropout): Dropout(p=0.1, inplace=False)\n",
       "          )\n",
       "        )\n",
       "        (intermediate): BertIntermediate(\n",
       "          (dense): Linear(in_features=768, out_features=3072, bias=True)\n",
       "        )\n",
       "        (output): BertOutput(\n",
       "          (dense): Linear(in_features=3072, out_features=768, bias=True)\n",
       "          (LayerNorm): LayerNorm((768,), eps=1e-12, elementwise_affine=True)\n",
       "          (dropout): Dropout(p=0.1, inplace=False)\n",
       "        )\n",
       "      )\n",
       "      (2): BertLayer(\n",
       "        (attention): BertAttention(\n",
       "          (self): BertSelfAttention(\n",
       "            (query): Linear(in_features=768, out_features=768, bias=True)\n",
       "            (key): Linear(in_features=768, out_features=768, bias=True)\n",
       "            (value): Linear(in_features=768, out_features=768, bias=True)\n",
       "            (dropout): Dropout(p=0.1, inplace=False)\n",
       "          )\n",
       "          (output): BertSelfOutput(\n",
       "            (dense): Linear(in_features=768, out_features=768, bias=True)\n",
       "            (LayerNorm): LayerNorm((768,), eps=1e-12, elementwise_affine=True)\n",
       "            (dropout): Dropout(p=0.1, inplace=False)\n",
       "          )\n",
       "        )\n",
       "        (intermediate): BertIntermediate(\n",
       "          (dense): Linear(in_features=768, out_features=3072, bias=True)\n",
       "        )\n",
       "        (output): BertOutput(\n",
       "          (dense): Linear(in_features=3072, out_features=768, bias=True)\n",
       "          (LayerNorm): LayerNorm((768,), eps=1e-12, elementwise_affine=True)\n",
       "          (dropout): Dropout(p=0.1, inplace=False)\n",
       "        )\n",
       "      )\n",
       "      (3): BertLayer(\n",
       "        (attention): BertAttention(\n",
       "          (self): BertSelfAttention(\n",
       "            (query): Linear(in_features=768, out_features=768, bias=True)\n",
       "            (key): Linear(in_features=768, out_features=768, bias=True)\n",
       "            (value): Linear(in_features=768, out_features=768, bias=True)\n",
       "            (dropout): Dropout(p=0.1, inplace=False)\n",
       "          )\n",
       "          (output): BertSelfOutput(\n",
       "            (dense): Linear(in_features=768, out_features=768, bias=True)\n",
       "            (LayerNorm): LayerNorm((768,), eps=1e-12, elementwise_affine=True)\n",
       "            (dropout): Dropout(p=0.1, inplace=False)\n",
       "          )\n",
       "        )\n",
       "        (intermediate): BertIntermediate(\n",
       "          (dense): Linear(in_features=768, out_features=3072, bias=True)\n",
       "        )\n",
       "        (output): BertOutput(\n",
       "          (dense): Linear(in_features=3072, out_features=768, bias=True)\n",
       "          (LayerNorm): LayerNorm((768,), eps=1e-12, elementwise_affine=True)\n",
       "          (dropout): Dropout(p=0.1, inplace=False)\n",
       "        )\n",
       "      )\n",
       "      (4): BertLayer(\n",
       "        (attention): BertAttention(\n",
       "          (self): BertSelfAttention(\n",
       "            (query): Linear(in_features=768, out_features=768, bias=True)\n",
       "            (key): Linear(in_features=768, out_features=768, bias=True)\n",
       "            (value): Linear(in_features=768, out_features=768, bias=True)\n",
       "            (dropout): Dropout(p=0.1, inplace=False)\n",
       "          )\n",
       "          (output): BertSelfOutput(\n",
       "            (dense): Linear(in_features=768, out_features=768, bias=True)\n",
       "            (LayerNorm): LayerNorm((768,), eps=1e-12, elementwise_affine=True)\n",
       "            (dropout): Dropout(p=0.1, inplace=False)\n",
       "          )\n",
       "        )\n",
       "        (intermediate): BertIntermediate(\n",
       "          (dense): Linear(in_features=768, out_features=3072, bias=True)\n",
       "        )\n",
       "        (output): BertOutput(\n",
       "          (dense): Linear(in_features=3072, out_features=768, bias=True)\n",
       "          (LayerNorm): LayerNorm((768,), eps=1e-12, elementwise_affine=True)\n",
       "          (dropout): Dropout(p=0.1, inplace=False)\n",
       "        )\n",
       "      )\n",
       "      (5): BertLayer(\n",
       "        (attention): BertAttention(\n",
       "          (self): BertSelfAttention(\n",
       "            (query): Linear(in_features=768, out_features=768, bias=True)\n",
       "            (key): Linear(in_features=768, out_features=768, bias=True)\n",
       "            (value): Linear(in_features=768, out_features=768, bias=True)\n",
       "            (dropout): Dropout(p=0.1, inplace=False)\n",
       "          )\n",
       "          (output): BertSelfOutput(\n",
       "            (dense): Linear(in_features=768, out_features=768, bias=True)\n",
       "            (LayerNorm): LayerNorm((768,), eps=1e-12, elementwise_affine=True)\n",
       "            (dropout): Dropout(p=0.1, inplace=False)\n",
       "          )\n",
       "        )\n",
       "        (intermediate): BertIntermediate(\n",
       "          (dense): Linear(in_features=768, out_features=3072, bias=True)\n",
       "        )\n",
       "        (output): BertOutput(\n",
       "          (dense): Linear(in_features=3072, out_features=768, bias=True)\n",
       "          (LayerNorm): LayerNorm((768,), eps=1e-12, elementwise_affine=True)\n",
       "          (dropout): Dropout(p=0.1, inplace=False)\n",
       "        )\n",
       "      )\n",
       "      (6): BertLayer(\n",
       "        (attention): BertAttention(\n",
       "          (self): BertSelfAttention(\n",
       "            (query): Linear(in_features=768, out_features=768, bias=True)\n",
       "            (key): Linear(in_features=768, out_features=768, bias=True)\n",
       "            (value): Linear(in_features=768, out_features=768, bias=True)\n",
       "            (dropout): Dropout(p=0.1, inplace=False)\n",
       "          )\n",
       "          (output): BertSelfOutput(\n",
       "            (dense): Linear(in_features=768, out_features=768, bias=True)\n",
       "            (LayerNorm): LayerNorm((768,), eps=1e-12, elementwise_affine=True)\n",
       "            (dropout): Dropout(p=0.1, inplace=False)\n",
       "          )\n",
       "        )\n",
       "        (intermediate): BertIntermediate(\n",
       "          (dense): Linear(in_features=768, out_features=3072, bias=True)\n",
       "        )\n",
       "        (output): BertOutput(\n",
       "          (dense): Linear(in_features=3072, out_features=768, bias=True)\n",
       "          (LayerNorm): LayerNorm((768,), eps=1e-12, elementwise_affine=True)\n",
       "          (dropout): Dropout(p=0.1, inplace=False)\n",
       "        )\n",
       "      )\n",
       "      (7): BertLayer(\n",
       "        (attention): BertAttention(\n",
       "          (self): BertSelfAttention(\n",
       "            (query): Linear(in_features=768, out_features=768, bias=True)\n",
       "            (key): Linear(in_features=768, out_features=768, bias=True)\n",
       "            (value): Linear(in_features=768, out_features=768, bias=True)\n",
       "            (dropout): Dropout(p=0.1, inplace=False)\n",
       "          )\n",
       "          (output): BertSelfOutput(\n",
       "            (dense): Linear(in_features=768, out_features=768, bias=True)\n",
       "            (LayerNorm): LayerNorm((768,), eps=1e-12, elementwise_affine=True)\n",
       "            (dropout): Dropout(p=0.1, inplace=False)\n",
       "          )\n",
       "        )\n",
       "        (intermediate): BertIntermediate(\n",
       "          (dense): Linear(in_features=768, out_features=3072, bias=True)\n",
       "        )\n",
       "        (output): BertOutput(\n",
       "          (dense): Linear(in_features=3072, out_features=768, bias=True)\n",
       "          (LayerNorm): LayerNorm((768,), eps=1e-12, elementwise_affine=True)\n",
       "          (dropout): Dropout(p=0.1, inplace=False)\n",
       "        )\n",
       "      )\n",
       "      (8): BertLayer(\n",
       "        (attention): BertAttention(\n",
       "          (self): BertSelfAttention(\n",
       "            (query): Linear(in_features=768, out_features=768, bias=True)\n",
       "            (key): Linear(in_features=768, out_features=768, bias=True)\n",
       "            (value): Linear(in_features=768, out_features=768, bias=True)\n",
       "            (dropout): Dropout(p=0.1, inplace=False)\n",
       "          )\n",
       "          (output): BertSelfOutput(\n",
       "            (dense): Linear(in_features=768, out_features=768, bias=True)\n",
       "            (LayerNorm): LayerNorm((768,), eps=1e-12, elementwise_affine=True)\n",
       "            (dropout): Dropout(p=0.1, inplace=False)\n",
       "          )\n",
       "        )\n",
       "        (intermediate): BertIntermediate(\n",
       "          (dense): Linear(in_features=768, out_features=3072, bias=True)\n",
       "        )\n",
       "        (output): BertOutput(\n",
       "          (dense): Linear(in_features=3072, out_features=768, bias=True)\n",
       "          (LayerNorm): LayerNorm((768,), eps=1e-12, elementwise_affine=True)\n",
       "          (dropout): Dropout(p=0.1, inplace=False)\n",
       "        )\n",
       "      )\n",
       "      (9): BertLayer(\n",
       "        (attention): BertAttention(\n",
       "          (self): BertSelfAttention(\n",
       "            (query): Linear(in_features=768, out_features=768, bias=True)\n",
       "            (key): Linear(in_features=768, out_features=768, bias=True)\n",
       "            (value): Linear(in_features=768, out_features=768, bias=True)\n",
       "            (dropout): Dropout(p=0.1, inplace=False)\n",
       "          )\n",
       "          (output): BertSelfOutput(\n",
       "            (dense): Linear(in_features=768, out_features=768, bias=True)\n",
       "            (LayerNorm): LayerNorm((768,), eps=1e-12, elementwise_affine=True)\n",
       "            (dropout): Dropout(p=0.1, inplace=False)\n",
       "          )\n",
       "        )\n",
       "        (intermediate): BertIntermediate(\n",
       "          (dense): Linear(in_features=768, out_features=3072, bias=True)\n",
       "        )\n",
       "        (output): BertOutput(\n",
       "          (dense): Linear(in_features=3072, out_features=768, bias=True)\n",
       "          (LayerNorm): LayerNorm((768,), eps=1e-12, elementwise_affine=True)\n",
       "          (dropout): Dropout(p=0.1, inplace=False)\n",
       "        )\n",
       "      )\n",
       "      (10): BertLayer(\n",
       "        (attention): BertAttention(\n",
       "          (self): BertSelfAttention(\n",
       "            (query): Linear(in_features=768, out_features=768, bias=True)\n",
       "            (key): Linear(in_features=768, out_features=768, bias=True)\n",
       "            (value): Linear(in_features=768, out_features=768, bias=True)\n",
       "            (dropout): Dropout(p=0.1, inplace=False)\n",
       "          )\n",
       "          (output): BertSelfOutput(\n",
       "            (dense): Linear(in_features=768, out_features=768, bias=True)\n",
       "            (LayerNorm): LayerNorm((768,), eps=1e-12, elementwise_affine=True)\n",
       "            (dropout): Dropout(p=0.1, inplace=False)\n",
       "          )\n",
       "        )\n",
       "        (intermediate): BertIntermediate(\n",
       "          (dense): Linear(in_features=768, out_features=3072, bias=True)\n",
       "        )\n",
       "        (output): BertOutput(\n",
       "          (dense): Linear(in_features=3072, out_features=768, bias=True)\n",
       "          (LayerNorm): LayerNorm((768,), eps=1e-12, elementwise_affine=True)\n",
       "          (dropout): Dropout(p=0.1, inplace=False)\n",
       "        )\n",
       "      )\n",
       "      (11): BertLayer(\n",
       "        (attention): BertAttention(\n",
       "          (self): BertSelfAttention(\n",
       "            (query): Linear(in_features=768, out_features=768, bias=True)\n",
       "            (key): Linear(in_features=768, out_features=768, bias=True)\n",
       "            (value): Linear(in_features=768, out_features=768, bias=True)\n",
       "            (dropout): Dropout(p=0.1, inplace=False)\n",
       "          )\n",
       "          (output): BertSelfOutput(\n",
       "            (dense): Linear(in_features=768, out_features=768, bias=True)\n",
       "            (LayerNorm): LayerNorm((768,), eps=1e-12, elementwise_affine=True)\n",
       "            (dropout): Dropout(p=0.1, inplace=False)\n",
       "          )\n",
       "        )\n",
       "        (intermediate): BertIntermediate(\n",
       "          (dense): Linear(in_features=768, out_features=3072, bias=True)\n",
       "        )\n",
       "        (output): BertOutput(\n",
       "          (dense): Linear(in_features=3072, out_features=768, bias=True)\n",
       "          (LayerNorm): LayerNorm((768,), eps=1e-12, elementwise_affine=True)\n",
       "          (dropout): Dropout(p=0.1, inplace=False)\n",
       "        )\n",
       "      )\n",
       "    )\n",
       "  )\n",
       "  (pooler): BertPooler(\n",
       "    (dense): Linear(in_features=768, out_features=768, bias=True)\n",
       "    (activation): Tanh()\n",
       "  )\n",
       ")"
      ]
     },
     "execution_count": 5,
     "metadata": {},
     "output_type": "execute_result"
    }
   ],
   "source": [
    "bertmodel"
   ]
  },
  {
   "cell_type": "code",
   "execution_count": 10,
   "metadata": {},
   "outputs": [],
   "source": [
    "data = pd.read_csv('./final.csv', encoding='utf8')"
   ]
  },
  {
   "cell_type": "code",
   "execution_count": 11,
   "metadata": {},
   "outputs": [],
   "source": [
    "data.drop(['Unnamed: 0'], axis=1, inplace=True)"
   ]
  },
  {
   "cell_type": "code",
   "execution_count": 12,
   "metadata": {},
   "outputs": [
    {
     "data": {
      "text/html": [
       "<div>\n",
       "<style scoped>\n",
       "    .dataframe tbody tr th:only-of-type {\n",
       "        vertical-align: middle;\n",
       "    }\n",
       "\n",
       "    .dataframe tbody tr th {\n",
       "        vertical-align: top;\n",
       "    }\n",
       "\n",
       "    .dataframe thead th {\n",
       "        text-align: right;\n",
       "    }\n",
       "</style>\n",
       "<table border=\"1\" class=\"dataframe\">\n",
       "  <thead>\n",
       "    <tr style=\"text-align: right;\">\n",
       "      <th></th>\n",
       "      <th>DESC_KOR</th>\n",
       "      <th>label</th>\n",
       "    </tr>\n",
       "  </thead>\n",
       "  <tbody>\n",
       "    <tr>\n",
       "      <th>0</th>\n",
       "      <td>굴국밥</td>\n",
       "      <td>0</td>\n",
       "    </tr>\n",
       "    <tr>\n",
       "      <th>1</th>\n",
       "      <td>물회</td>\n",
       "      <td>0</td>\n",
       "    </tr>\n",
       "    <tr>\n",
       "      <th>2</th>\n",
       "      <td>생선물회</td>\n",
       "      <td>0</td>\n",
       "    </tr>\n",
       "    <tr>\n",
       "      <th>3</th>\n",
       "      <td>닭칼국수</td>\n",
       "      <td>0</td>\n",
       "    </tr>\n",
       "    <tr>\n",
       "      <th>4</th>\n",
       "      <td>삼선자장면</td>\n",
       "      <td>0</td>\n",
       "    </tr>\n",
       "    <tr>\n",
       "      <th>...</th>\n",
       "      <td>...</td>\n",
       "      <td>...</td>\n",
       "    </tr>\n",
       "    <tr>\n",
       "      <th>78193</th>\n",
       "      <td>닭고기표고버섯렌틸콩진밥 밀키트</td>\n",
       "      <td>26</td>\n",
       "    </tr>\n",
       "    <tr>\n",
       "      <th>78194</th>\n",
       "      <td>설성목장 한우 사골육수 떡볶이</td>\n",
       "      <td>26</td>\n",
       "    </tr>\n",
       "    <tr>\n",
       "      <th>78195</th>\n",
       "      <td>우둔 스테이크 도시락</td>\n",
       "      <td>26</td>\n",
       "    </tr>\n",
       "    <tr>\n",
       "      <th>78196</th>\n",
       "      <td>표고버섯, 배지재배, 갓, 말린것</td>\n",
       "      <td>26</td>\n",
       "    </tr>\n",
       "    <tr>\n",
       "      <th>78197</th>\n",
       "      <td>분유, 탈지</td>\n",
       "      <td>26</td>\n",
       "    </tr>\n",
       "  </tbody>\n",
       "</table>\n",
       "<p>78198 rows × 2 columns</p>\n",
       "</div>"
      ],
      "text/plain": [
       "                 DESC_KOR  label\n",
       "0                     굴국밥      0\n",
       "1                      물회      0\n",
       "2                    생선물회      0\n",
       "3                    닭칼국수      0\n",
       "4                   삼선자장면      0\n",
       "...                   ...    ...\n",
       "78193    닭고기표고버섯렌틸콩진밥 밀키트     26\n",
       "78194    설성목장 한우 사골육수 떡볶이     26\n",
       "78195         우둔 스테이크 도시락     26\n",
       "78196  표고버섯, 배지재배, 갓, 말린것     26\n",
       "78197              분유, 탈지     26\n",
       "\n",
       "[78198 rows x 2 columns]"
      ]
     },
     "execution_count": 12,
     "metadata": {},
     "output_type": "execute_result"
    }
   ],
   "source": [
    "data"
   ]
  },
  {
   "cell_type": "code",
   "execution_count": 13,
   "metadata": {},
   "outputs": [],
   "source": [
    "data_list = []\n",
    "for quest, label in zip(data['DESC_KOR'], data['label']):\n",
    "    data=[]\n",
    "    data.append(quest)\n",
    "    data.append(str(label))\n",
    "    \n",
    "    data_list.append(data)"
   ]
  },
  {
   "cell_type": "code",
   "execution_count": 14,
   "metadata": {},
   "outputs": [
    {
     "data": {
      "text/plain": [
       "([['굴국밥', '0'],\n",
       "  ['물회', '0'],\n",
       "  ['생선물회', '0'],\n",
       "  ['닭칼국수', '0'],\n",
       "  ['삼선자장면', '0'],\n",
       "  ['우동(중식)', '0'],\n",
       "  ['해물크림소스스파게티', '0'],\n",
       "  ['돼지국밥', '0'],\n",
       "  ['잡탕밥', '0'],\n",
       "  ['장어덮밥', '0'],\n",
       "  ['참치덮밥', '0'],\n",
       "  ['해물덮밥', '0'],\n",
       "  ['회덮밥', '0'],\n",
       "  ['치즈피자', '0'],\n",
       "  ['페퍼로니피자', '0'],\n",
       "  ['돼지등갈비찜', '0'],\n",
       "  ['붕어찜', '0'],\n",
       "  ['안동찜닭', '0'],\n",
       "  ['치킨데리야끼', '0'],\n",
       "  ['미트볼 토마토 스파게티', '0'],\n",
       "  ['쟁반국수', '0'],\n",
       "  ['콩국수', '0'],\n",
       "  ['회냉면', '0'],\n",
       "  ['돼지머리국밥', '0'],\n",
       "  ['모듬회덮밥', '0'],\n",
       "  ['비빔밥', '0'],\n",
       "  ['제육덮밥', '0'],\n",
       "  ['짬뽕밥', '0'],\n",
       "  ['오리고기죽', '0'],\n",
       "  ['부대찌개', '0'],\n",
       "  ['클래식치즈피자', '0'],\n",
       "  ['햄앤체다피자', '0'],\n",
       "  ['고르곤졸라피자', '0'],\n",
       "  ['페파로니', '0'],\n",
       "  ['페파로니매니아피자', '0'],\n",
       "  ['청양페파로니피자', '0'],\n",
       "  ['하와이안피자', '0'],\n",
       "  ['베이컨포테이토피자', '0'],\n",
       "  ['불고기피자', '0'],\n",
       "  ['부라타치즈피자', '0'],\n",
       "  ['나폴리슈림프피자', '0'],\n",
       "  ['디아볼라피자', '0'],\n",
       "  ['볼로네즈', '0'],\n",
       "  ['고향 만두', '0'],\n",
       "  ['신 비비고 한섬 만두', '0'],\n",
       "  ['서원 교자만두', '0'],\n",
       "  ['밴쯔 덤플링', '0'],\n",
       "  ['매생이 삼계탕', '0'],\n",
       "  ['더욱 맛있어진 뉴 백설군만두', '0'],\n",
       "  ['청고추만두', '0'],\n",
       "  ['알찬소시지', '0'],\n",
       "  ['전통 우리만두', '0'],\n",
       "  ['맘마밀1', '0'],\n",
       "  ['맘마밀2', '0'],\n",
       "  ['맘마밀3', '0'],\n",
       "  ['맘마밀4', '0'],\n",
       "  ['쎄레락1', '0'],\n",
       "  ['쎄레락2', '0'],\n",
       "  ['쎄레락3', '0'],\n",
       "  ['아기밀s1', '0'],\n",
       "  ['아기밀s2', '0'],\n",
       "  ['아기밀s3', '0'],\n",
       "  ['다운령 녹차', '0'],\n",
       "  ['원두커피', '0'],\n",
       "  ['네스카페 카페라떼', '0'],\n",
       "  ['본카레 매운맛', '0'],\n",
       "  ['본카레 쇠고기', '0'],\n",
       "  ['본카레 순한맛', '0'],\n",
       "  ['본카레 중간맛', '0'],\n",
       "  ['야채카레1000g단위', '0'],\n",
       "  ['하이본카레 디럭스', '0'],\n",
       "  ['하이본카레 매운맛', '0'],\n",
       "  ['하이본카레 순한맛', '0'],\n",
       "  ['하이본카레 중간맛', '0'],\n",
       "  ['그린비아 RTH', '0'],\n",
       "  ['청정원 카레여왕 약간매운맛 90g', '0'],\n",
       "  ['롯데마트 통큰 사천짜장', '0'],\n",
       "  ['맛있는 김치 참치 덮밥', '0'],\n",
       "  ['오삼 불고기 덮밥', '0'],\n",
       "  ['춘천 닭갈비 덮밥', '0'],\n",
       "  ['햄버그덮밥', '0'],\n",
       "  ['화끈한 닭강정', '0'],\n",
       "  ['타시모 게발리아 카푸치노', '0'],\n",
       "  ['서울연유', '0'],\n",
       "  ['연유', '0'],\n",
       "  ['빅아메리칸즈 페퍼로니', '0'],\n",
       "  ['리스토란테 하와이 피자', '0'],\n",
       "  ['빅아메리칸즈 풀드포크', '0'],\n",
       "  ['빅아메리칸즈 포치즈 피자', '0'],\n",
       "  ['카프레제 피자', '0'],\n",
       "  ['미니 브라우니', '0'],\n",
       "  ['커클랜드 시그니춰 치즈 피자', '0'],\n",
       "  ['리스토란테 살라미 피자', '0'],\n",
       "  ['고기진짜많구나', '0'],\n",
       "  ['진짜진짜많구나도시락', '0'],\n",
       "  ['치킨몬스터도시락', '0'],\n",
       "  ['불고기버거', '0'],\n",
       "  ['신당동식 떡볶이', '0'],\n",
       "  ['화이트초콜릿', '0'],\n",
       "  ['고메그릴피자 불고기', '0'],\n",
       "  ['비프&살사 께사디야', '0'],\n",
       "  ['고메고르곤졸라피자', '0'],\n",
       "  ['고메디아볼라피자', '0'],\n",
       "  ['탕종식빵', '0'],\n",
       "  ['메밀생면', '0'],\n",
       "  ['알찬소시지', '0'],\n",
       "  ['슬라이스흑마늘삼겹', '0'],\n",
       "  ['해씨초콜릿', '0'],\n",
       "  ['신 비비고 한섬만두', '0'],\n",
       "  ['신 비비고물만두', '0'],\n",
       "  ['비비고(bibio)군만두', '0'],\n",
       "  ['맛있는교자만두', '0'],\n",
       "  ['담두감자찐만두', '0'],\n",
       "  ['옛날왕교자만두', '0'],\n",
       "  ['담두김치손만두', '0'],\n",
       "  ['개성왕교자', '0'],\n",
       "  ['엄지김치손만두', '0'],\n",
       "  ['씨제이고추군만두392+392', '0'],\n",
       "  ['비비고 소고기 한섬만두', '0'],\n",
       "  ['이츠웰실속교자만두', '0'],\n",
       "  ['바삭한 찹쌀군만두', '0'],\n",
       "  ['아하김치손만두', '0'],\n",
       "  ['식자재왕 군만두', '0'],\n",
       "  ['명인 잎새고기만두', '0'],\n",
       "  ['까레 레', '0'],\n",
       "  ['고기만두', '0'],\n",
       "  ['군만두', '0'],\n",
       "  ['물만두', '0'],\n",
       "  ['김치만두', '0'],\n",
       "  ['피자군만두', '0'],\n",
       "  ['왕만두', '0'],\n",
       "  ['잡채만두', '0'],\n",
       "  ['군만두(벌크)', '0'],\n",
       "  ['물만두(벌크)', '0'],\n",
       "  ['고기교자만두', '0'],\n",
       "  ['고추군만두', '0'],\n",
       "  ['콤비네이션피자*쿱도우', '0'],\n",
       "  ['한우불고기피자', '0'],\n",
       "  ['우리밀롤빵', '0'],\n",
       "  ['당근케이크', '0'],\n",
       "  ['고구마봉봉2호', '0'],\n",
       "  ['기리쉬케이크2호', '0'],\n",
       "  ['볼빨간아기곰', '0'],\n",
       "  ['산딸기무스케이크', '0'],\n",
       "  ['쇼콜라티라미스', '0'],\n",
       "  ['치즈케이크', '0'],\n",
       "  ['미니크림치즈케익(20개)', '0'],\n",
       "  ['호두과자(선물)', '0'],\n",
       "  ['우리밀모카롤', '0'],\n",
       "  ['우리밀밀크롤', '0'],\n",
       "  ['우리밀사과잼롤', '0'],\n",
       "  ['우리밀소프트롤', '0'],\n",
       "  ['우리밀카푸치노롤', '0'],\n",
       "  ['우리쌀소프트롤', '0'],\n",
       "  ['우리쌀카푸치노롤', '0'],\n",
       "  ['포근포근스폰지케이크', '0'],\n",
       "  ['허니카스테라', '0'],\n",
       "  ['삼계탕', '0'],\n",
       "  ['찜닭', '0'],\n",
       "  ['개성왕교자', '0'],\n",
       "  ['Premium X.O.이북식 손만두', '0'],\n",
       "  ['옛날 물만두', '0'],\n",
       "  ['고메그릴피자 불고기', '0'],\n",
       "  ['4치즈 피자(FOUR CHEESE PIZZA)', '0'],\n",
       "  ['알찬소시지', '0'],\n",
       "  ['옥수수식빵믹스', '0'],\n",
       "  ['취영루 고기손만두', '0'],\n",
       "  ['해보래 새우 짜조', '0'],\n",
       "  ['퀴노아영양밥&숯불고기', '0'],\n",
       "  ['야채볶음밥&닭가슴살스테이크', '0'],\n",
       "  ['부지깽이나물밥&갈치구이', '0'],\n",
       "  ['스위트맛살샐러드M', '0'],\n",
       "  ['사천식 고추잡채', '0'],\n",
       "  ['11가지찬많은도시락', '0'],\n",
       "  ['요리하다 장충동고기순대', '0'],\n",
       "  ['요리하다 담백한 두부순대', '0'],\n",
       "  ['매콤한 고기순대', '0'],\n",
       "  ['고기듬뿍김치제육', '0'],\n",
       "  ['오늘은 치킨이닭', '0'],\n",
       "  ['7찬매콤불고기', '0'],\n",
       "  ['꿀조합 최애7찬', '0'],\n",
       "  ['맛있겠쥬 닭갈비', '0'],\n",
       "  ['강력추천 8찬정식', '0'],\n",
       "  ['12찬한판도시락', '0'],\n",
       "  ['남도떡갈비정식', '0'],\n",
       "  ['궁매콤한쪽갈비', '0'],\n",
       "  ['양념소갈비찜', '0'],\n",
       "  ['정성가득밥상매운돼지갈비찜', '0'],\n",
       "  ['유부초밥&크림치즈롤', '0'],\n",
       "  ['연탄불고기도시락', '0'],\n",
       "  ['반반치킨', '0'],\n",
       "  ['불고기크래미불닭유부초밥', '0'],\n",
       "  ['우주인 피자키트 페퍼로니 앤 파인애플', '0'],\n",
       "  ['샐러드&볼로네즈파스타', '0'],\n",
       "  ['우주인 피자키트 스위트포테이토', '0'],\n",
       "  ['짜장면을빼당빼당', '0'],\n",
       "  ['안심 닭볶음탕', '0'],\n",
       "  ['제주흑돈치즈돈까스도시락', '0'],\n",
       "  ['왕돈까스도시락', '0'],\n",
       "  ['제육에그참치유부초밥', '0'],\n",
       "  ['갈비맛&양념치킨', '0'],\n",
       "  ['도시락의정석)꽈리고추&치킨편', '0'],\n",
       "  ['마더세이', '0'],\n",
       "  ['리얼치즈등심돈까스도시락', '0'],\n",
       "  ['닭가슴살흑임자샌드', '0'],\n",
       "  ['마성의 돈까스', '0'],\n",
       "  ['까스왕', '0'],\n",
       "  ['두유투움바파스타를빼당빼당', '0'],\n",
       "  ['세줄김밥(불고기,참치,치즈)', '0'],\n",
       "  ['페파로니 시카고 치즈피자', '0'],\n",
       "  ['11겹등심돈까스도시락', '0'],\n",
       "  ['11찬도시락', '0'],\n",
       "  ['볼로네즈&크림펜네파스타', '0'],\n",
       "  ['베이컨&포테이토치아바타', '0'],\n",
       "  ['요리비책)불고기파스타', '0'],\n",
       "  ['떡갈비&닭갈비', '0'],\n",
       "  ['직화불고기참피온', '0'],\n",
       "  ['햄치즈크로와상샌드', '0'],\n",
       "  ['눈꽃치즈함박', '0'],\n",
       "  ['퀴노아영앙밥&깻잎동그랑땡', '0'],\n",
       "  ['보성녹돈불고기정식', '0'],\n",
       "  ['2가지고기많은도시락', '0'],\n",
       "  ['간장불고기도시락', '0'],\n",
       "  ['엄마의제육볶음도시락', '0'],\n",
       "  ['매콤왕돈가스도시락', '0'],\n",
       "  ['모닝크로와상', '0'],\n",
       "  ['고기진짜많구나도시락', '0'],\n",
       "  ['햄치즈크로와상(4입)', '0'],\n",
       "  ['비프함박&토네이도소시지', '0'],\n",
       "  ['바베큐치킨 치즈 치아바타', '0'],\n",
       "  ['칠리미트 파스타 & 함박', '0'],\n",
       "  ['대파제육정식', '0'],\n",
       "  ['김치제육두루치기도시락', '0'],\n",
       "  ['우주인 피자키트 뉴욕치즈앤 페파로니', '0'],\n",
       "  ['도시락의정석)돼지불고기편', '0'],\n",
       "  ['제주흑돼지비빔밥', '0'],\n",
       "  ['황금왕돈까스도시락', '0'],\n",
       "  ['미로식당 국물소갈비찜', '0'],\n",
       "  ['빅&더블버거', '0'],\n",
       "  ['치킨마요덮밥', '0'],\n",
       "  ['넘버원도시락', '0'],\n",
       "  ['우유튀김', '0'],\n",
       "  ['뉴NEW순창고추장불고기도시락', '0'],\n",
       "  ['한정식도시락', '0'],\n",
       "  ['의성마늘햄쌈도시락', '0'],\n",
       "  ['오리엔탈분짜를빼당빼당', '0'],\n",
       "  ['뉴반반고구마닭강정', '0'],\n",
       "  ['할라피뇨후실리샐러드', '0'],\n",
       "  ['매콤왕돈가스도시락', '0'],\n",
       "  ['우주인 피자키트 콰트로 포르마지', '0'],\n",
       "  ['고구마튀김', '0'],\n",
       "  ['[Careplus]통마늘병아리콩조림 행복한맛남', '0'],\n",
       "  ['매운간장찜닭', '0'],\n",
       "  ['치킨&카레', '0'],\n",
       "  ['함박 스테이크 파스타', '0'],\n",
       "  ['서울마님 오감떡볶이 전통짜장맛', '0'],\n",
       "  ['시그니쳐 부대찌개', '0'],\n",
       "  ['살사후실리샐러드', '0'],\n",
       "  ['새우&까르보나라', '0'],\n",
       "  ['주부9단도시락', '0'],\n",
       "  ['뉴NEW언양식바싹불고기도시락', '0'],\n",
       "  ['갈비양념치킨도시락', '0'],\n",
       "  ['맛의레전드 고기듬뿍미니핫도그', '0'],\n",
       "  ['도시락의정석)바싹불고기편', '0'],\n",
       "  ['오테이스트 정성가득밥상 마늘닭볶음탕', '0'],\n",
       "  ['그때그도시락', '0'],\n",
       "  ['리챔&치킨도시락', '0'],\n",
       "  ['트리플함박도시락', '0'],\n",
       "  ['완전먹음직비프함박', '0'],\n",
       "  ['가정식백반)제육밥상', '0'],\n",
       "  ['새우펜네파스타', '0'],\n",
       "  ['푸짐한바싹불고기', '0'],\n",
       "  ['짜장스파게티샐러드', '0'],\n",
       "  ['요리하다 칼칼한 김치순대', '0'],\n",
       "  ['의성마늘 고기왕교자', '0'],\n",
       "  ['마늘치킨&깐풍치킨도시락', '0'],\n",
       "  ['다섯가지나물밥&손포어전', '0'],\n",
       "  ['제육챌린지', '0'],\n",
       "  ['고기진짜많구나도시락', '0'],\n",
       "  ['간장어묵말이(3입)', '0'],\n",
       "  ['매콤어묵말이(3입)', '0'],\n",
       "  ['두부한상도시락', '0'],\n",
       "  ['리챔참치부대찌개', '0'],\n",
       "  ['불고기말이(3입)', '0'],\n",
       "  ['볼로네제스파게티샐러드', '0'],\n",
       "  ['신당동식 떡볶이', '0'],\n",
       "  ['응원합니닭!도시락', '0'],\n",
       "  ['트리플함박도시락', '0'],\n",
       "  ['함박&치킨까스도시락', '0'],\n",
       "  ['해보래 치즈 짜조', '0'],\n",
       "  ['고향만두 치즈갈비교자', '0'],\n",
       "  ['미가인의정부식부대찌개', '0'],\n",
       "  ['쿡탐 마라전골', '0'],\n",
       "  ['CJ비비고김치왕만두', '0'],\n",
       "  ['Premium X.O.교자 새우&홍게살', '0'],\n",
       "  ['소시지와 햄맛이 깊은 의정부식 부대찌개', '0'],\n",
       "  ['신 비비고 한섬만두', '0'],\n",
       "  ['Premium X.O.교자', '0'],\n",
       "  ['소곱창전골', '0'],\n",
       "  ['떡갈비말이(3입)', '0'],\n",
       "  ['갈릭스파게티샐러드', '0'],\n",
       "  ['더블소떡소떡', '0'],\n",
       "  ['메추리알골드샐러드', '0'],\n",
       "  ['칼칼하고 시원한 부대찌개', '0'],\n",
       "  ['물만 부어 바로 끓여먹는 부대찌개', '0'],\n",
       "  ['곰곰감자에그샐러드', '0'],\n",
       "  ['모짜렐라치즈스틱', '0'],\n",
       "  ['고추참치말이(3입)', '0'],\n",
       "  ['기사님도반한불백도시락', '0'],\n",
       "  ['치즈돈까스도시락', '0'],\n",
       "  ['에그포테이토샐러드', '0'],\n",
       "  ['쿡탐 부대전골', '0'],\n",
       "  ['햄우동사리부대찌개', '0'],\n",
       "  ['오케이쿡 우거지 감자탕', '0'],\n",
       "  ['에그샌드위치샐러드 오리지날', '0'],\n",
       "  ['마카로니샐러드', '0'],\n",
       "  ['곰곰 부대찌개', '0'],\n",
       "  ['에그샌드위치샐러드 콘감자', '0'],\n",
       "  ['곰곰 장충동식 찰순대', '0'],\n",
       "  ['치킨 로제 도리아', '0'],\n",
       "  ['흑미들깨삼계탕', '0'],\n",
       "  ['퀴노아를 더한 블랙 미숫가루', '0'],\n",
       "  ['참치마요말이(3입)', '0'],\n",
       "  ['누룽지반계탕', '0'],\n",
       "  ['로스팜말이(3입)', '0'],\n",
       "  ['직화냄비떡볶이', '0'],\n",
       "  ['얇은피꽉찬속 김치만두', '0'],\n",
       "  ['얇은피꽉찬속 고기만두', '0'],\n",
       "  ['식이섬유가 풍부한 귀리 미숫가루', '0'],\n",
       "  ['얇은피 꽉찬 교자', '0'],\n",
       "  ['유탕감자스틱', '0'],\n",
       "  ['해씨초코볼', '0'],\n",
       "  ['해를 품은 초코씨', '0'],\n",
       "  ['후레쉬 초콜릿 아몬드 다크', '0'],\n",
       "  ['후레쉬 초콜릿 헤이즐넛 다크', '0'],\n",
       "  ['후레쉬 초콜릿 라즈베리 블랙베리 화이트', '0'],\n",
       "  ['후레쉬초콜릿 오렌지아몬드 다크', '0'],\n",
       "  ['후레쉬 초콜릿 오렌지아몬드', '0'],\n",
       "  ['비프&살사 께사디야', '0'],\n",
       "  ['치킨&치뽈레살사 께사디야', '0'],\n",
       "  ['요리하다 4치즈 스노잉피자', '0'],\n",
       "  ['콤비네이션피자', '0'],\n",
       "  ['요리하다 풀드포크 바비큐피자', '0'],\n",
       "  ['불고기피자', '0'],\n",
       "  ['볼케이노치킨&빠네', '0'],\n",
       "  ['르방 호두 깜빠뉴', '0'],\n",
       "  ['한라산 녹차 케이크 1호', '0'],\n",
       "  ['오 프라이스 고르곤졸라피자', '0'],\n",
       "  ['오 프라이스 불고기피자', '0'],\n",
       "  ['오 프라이스 콤비네이션피자', '0'],\n",
       "  ['콤비조각피자80', '0'],\n",
       "  ['제주 녹차크레이프 케이크(원형)', '0'],\n",
       "  ['레이먼킴의블랙앵거스스테이크&쉬림프피자', '0'],\n",
       "  ['레이먼킴의페페로니피자', '0'],\n",
       "  ['블루베리 치즈케익', '0'],\n",
       "  ['미니붕어빵(자색고구마)', '0'],\n",
       "  ['본정오렌지파운드케익', '0'],\n",
       "  ['먹물먹은치즈쌀식빵', '0'],\n",
       "  ['콘모닝빵', '0'],\n",
       "  ['우주인피자 파이브 치즈', '0'],\n",
       "  ['미니크림치즈케익', '0'],\n",
       "  ['오뚜기 콤비네이션 피자', '0'],\n",
       "  ['오뚜기 불고기 피자', '0'],\n",
       "  ['아침미소!토스트', '0'],\n",
       "  ['하이포크플레로티고르곤갈릭사각피자', '0'],\n",
       "  ['고메 하프피자 베이컨포테이토', '0'],\n",
       "  ['수제 Grilled Pizza(그릴드 피자) 불고기', '0'],\n",
       "  ['뱅글뱅글 쏘시지', '0'],\n",
       "  ['불고기피자', '0'],\n",
       "  ['하이포크플레로티토마토사각피자', '0'],\n",
       "  ['시카고리얼치즈피자', '0'],\n",
       "  ['오리지널 콤비네이션 피자', '0'],\n",
       "  ['노엣지 꽉찬토핑피자 페퍼로니콤비네이션', '0'],\n",
       "  ['미니 붕어빵 (카스타드크림)', '0'],\n",
       "  ['시카고리얼불고기피자', '0'],\n",
       "  ['미니 붕어빵 (통팥앙금 )', '0'],\n",
       "  ['스파이시 콤비네이션 피자', '0'],\n",
       "  ['오설록 그린티 롤케익(화이트)', '0'],\n",
       "  ['잭슨피자 수퍼잭슨', '0'],\n",
       "  ['콰트로치즈피자 콤비네이션', '0'],\n",
       "  ['콰트로치즈피자 불고기', '0'],\n",
       "  ['잭슨피자 페퍼로니', '0'],\n",
       "  ['콤비네이션피자', '0'],\n",
       "  ['잭슨피자 하와이안', '0'],\n",
       "  ['시카고리얼페페로니피자', '0'],\n",
       "  ['불고기씬피자', '0'],\n",
       "  ['콤비조각피자50', '0'],\n",
       "  ['콤비네이션 피자', '0'],\n",
       "  ['우리밀 또띠아 400g', '0'],\n",
       "  ['우리밀소프트롤', '0'],\n",
       "  ['미니붕어빵(치즈)', '0'],\n",
       "  ['씬고르곤졸라피자', '0'],\n",
       "  ['부어스첸 핫도그', '0'],\n",
       "  ['촉촉우유식빵', '0'],\n",
       "  ['시카고리얼 베이컨포테이토피자', '0'],\n",
       "  ['오리지날 시카고 딥디쉬피자', '0'],\n",
       "  ['시카고리얼쉬림프피자', '0'],\n",
       "  ['씬불고기피자', '0'],\n",
       "  ['뉴욕 치즈케이크 딥디쉬피자', '0'],\n",
       "  ['베샤멜고르곤졸라씬피자', '0'],\n",
       "  ['마르게리따피자', '0'],\n",
       "  ['시카고리얼 불닭피자', '0'],\n",
       "  ['핫치킨씬피자', '0'],\n",
       "  ['불고기 콤비 반반피자', '0'],\n",
       "  ['후르츠파운드', '0'],\n",
       "  ['우리밀로 만든 어린이 치즈볼', '0'],\n",
       "  ['우리밀칼슘증숙꽈베기', '0'],\n",
       "  ['잭슨피자 에어 하와이안', '0'],\n",
       "  ['원테이블 콰트로 치즈 피자', '0'],\n",
       "  ['자이언트피자 불고기', '0'],\n",
       "  ['담백한감자롤', '0'],\n",
       "  ['고메그릴피자 포테이토', '0'],\n",
       "  ['고메그릴피자 디아볼라', '0'],\n",
       "  ['콤비네이션 쌀피자', '0'],\n",
       "  ['고메그릴피자 콤비네이션', '0'],\n",
       "  ['인생식빵', '0'],\n",
       "  ['브리오슈 식빵', '0'],\n",
       "  ['하프앤하프 피자', '0'],\n",
       "  ['하이클래스치즈앤콤비네이션피자', '0'],\n",
       "  ['하이클래스치즈앤불고기피자', '0'],\n",
       "  ['콤비네이션피자', '0'],\n",
       "  ['하이클래스치즈앤치즈피자', '0'],\n",
       "  ['핫치킨 시카고 치즈피자', '0'],\n",
       "  ['핫치킨 쉬림프 반반피자', '0'],\n",
       "  ['원테이블 슈림프 하와이안 피자', '0'],\n",
       "  ['잭슨피자 시카고 페퍼로니', '0'],\n",
       "  ['크림치즈아몬드', '0'],\n",
       "  ['불고기 시카고 치즈피자', '0'],\n",
       "  ['REAL프렌치크로크무슈베이컨치즈', '0'],\n",
       "  ['페퍼로니피자', '0'],\n",
       "  ['잉글리쉬머핀 브레드', '0'],\n",
       "  ['탕종식빵', '0'],\n",
       "  ['호밀빵', '0'],\n",
       "  ['새싹보리 한끼칩', '0'],\n",
       "  ['김맛나', '0'],\n",
       "  ['허쉬 초콜릿 칩 쿠키', '0'],\n",
       "  ['깨돌이', '0'],\n",
       "  ['김맛나-2', '0'],\n",
       "  ['백설공주 2호', '0'],\n",
       "  ['제명공주세트', '0'],\n",
       "  ['선화공주세트', '0'],\n",
       "  ['오 프라이스 고구마형과자', '0'],\n",
       "  ['찹쌀약과 대바구니석', '0'],\n",
       "  ['호정가 찹쌀약과 3kg', '0'],\n",
       "  ['달콤허니 꿀약과', '0'],\n",
       "  ['오란다', '0'],\n",
       "  ['찹쌀약과 1kg', '0'],\n",
       "  ['오리지널 팝콘', '0'],\n",
       "  ['알찬소시지', '0'],\n",
       "  ['벨라유 블루베리 요구르트', '0'],\n",
       "  ['땅콩캬라멜', '0'],\n",
       "  ['유한M키드맘비타민칼슘', '0'],\n",
       "  ['지쿱 이너뷰티 콜라겐 캐러멜', '0'],\n",
       "  ['베리컬리벗 다크초콜릿', '0'],\n",
       "  ['베리컬리벗 밀크초콜릿', '0'],\n",
       "  ['베리컬리벗 화이트초콜릿', '0'],\n",
       "  ['통밀 메찌 리가토니 인테그랄레', '0'],\n",
       "  ['후레쉬 초콜릿 라즈베리 블랙베리 화이트', '0'],\n",
       "  ['후레쉬 초콜릿 브라질 70% 다크', '0'],\n",
       "  ['후레쉬 초콜릿 브라질 70% 다크', '0'],\n",
       "  ['후레쉬 초콜릿 아몬드 다크', '0'],\n",
       "  ['후레쉬 초콜릿 애플 아몬드 밀크', '0'],\n",
       "  ['후레쉬 초콜릿 허니 밀크', '0'],\n",
       "  ['후레쉬 초콜릿 허니 밀크', '0'],\n",
       "  ['후레쉬 초콜릿 헤이즐넛 다크', '0'],\n",
       "  ['슈프레모 62%', '0'],\n",
       "  ['맥스스포츠 프로틴넬라', '0'],\n",
       "  ['원스어게인 유기농 크런치 땅콩버터', '0'],\n",
       "  ['둘씨미엘', '0'],\n",
       "  ['디플로마 블랑', '0'],\n",
       "  ['부에나비스타 레', '0'],\n",
       "  ['허쉬 스프레드 초콜릿', '0'],\n",
       "  ['허쉬쇼콜라케익', '0'],\n",
       "  ['마담정 하트 마카롱', '0'],\n",
       "  ['마담정 뉴하트마카롱', '0'],\n",
       "  ['허쉬 초콜릿 칩 쿠키', '0'],\n",
       "  ['쉬림프피자', '0'],\n",
       "  ['콤비네이션피자', '0'],\n",
       "  ['한우불고기피자', '0'],\n",
       "  ['요리하다 시카고 에어피자', '0'],\n",
       "  ['준스맘 피자', '0'],\n",
       "  ['프레시 오늘 신선냉장 시카고 오리지널 에어프라이어피자', '0'],\n",
       "  ['비프&살사 께사디야', '0'],\n",
       "  ['치킨&치뽈레살사 께사디야', '0'],\n",
       "  ['리스토란테 콰트로 포르마지 피자', '0'],\n",
       "  ['글레이즈드 도넛 (냉동)', '0'],\n",
       "  ['딸기맛필링도너츠 (냉동)', '0'],\n",
       "  ['딸기츄잉도넛(냉동)', '0'],\n",
       "  ['딸기쿠키링(냉동)', '0'],\n",
       "  ['바닐라 후로스트(냉동)', '0'],\n",
       "  ['바바리안필링도너츠 (냉동)', '0'],\n",
       "  ['백앙금베터보스톤 (냉동)', '0'],\n",
       "  ['아몬드화이트링(냉동)', '0'],\n",
       "  ['올드글레이즈(냉동)', '0'],\n",
       "  ['초코보스톤(냉동)', '0'],\n",
       "  ['초코쿠키링(냉동)', '0'],\n",
       "  ['화이트 보스톤(냉동)', '0'],\n",
       "  ['화이트링 (냉동)', '0'],\n",
       "  ['아미고 나쵸칩(454g)', '0'],\n",
       "  ['동물모양찐빵', '0'],\n",
       "  ['삼색화권', '0'],\n",
       "  ['씨앗고로케', '0'],\n",
       "  ['유티아오', '0'],\n",
       "  ['타코야끼', '0'],\n",
       "  ['프리미엄 타코야끼', '0'],\n",
       "  ['화권(랜시꽃빵) (1.5kg)', '0'],\n",
       "  ['12곡식빵', '0'],\n",
       "  ['옥수수식빵', '0'],\n",
       "  ['뱅글뱅글 쏘시지 롤도그', '0'],\n",
       "  ['113553 초코 케이크', '0'],\n",
       "  ['113553 초코 케이크', '0'],\n",
       "  ['135483 코코넛 타르트', '0'],\n",
       "  ['135483 코코넛타르트', '0'],\n",
       "  ['168383 코코넛 타르트 16컷', '0'],\n",
       "  ['순우유식빵', '0'],\n",
       "  ['잡곡식빵', '0'],\n",
       "  ['촉촉우유식빵', '0'],\n",
       "  ['프로틴플러스 크랜베리깜빠뉴', '0'],\n",
       "  ['프로틴플러스두유두부식빵', '0'],\n",
       "  ['프로틴플러스우유식빵', '0'],\n",
       "  ['프로틴플러스크렌베리깜바뉴', '0'],\n",
       "  ['하이프로틴무화과파운드', '0'],\n",
       "  ['하이프로틴무화과파운드', '0'],\n",
       "  ['자이언트피자 불고기', '0'],\n",
       "  ['6오리지널 치즈케익', '0'],\n",
       "  ['플레이크페이스트리도우', '0'],\n",
       "  ['셀레브르쿠키(대)', '0'],\n",
       "  ['호밀빵', '0'],\n",
       "  ['넛츠깜빠뉴', '0'],\n",
       "  ['고구마피자', '0'],\n",
       "  ['고르곤졸라피자', '0'],\n",
       "  ['불고기피자', '0'],\n",
       "  ['사조 그릴드피자 불고기', '0'],\n",
       "  ['사조 그릴드피자 콤비네이션', '0'],\n",
       "  ['사조 그릴드피자 트리플치즈', '0'],\n",
       "  ['스파이시 콤비네이션 피자', '0'],\n",
       "  ['오리지널 콘치즈 피자', '0'],\n",
       "  ['오리지널 콤비네이션 피자', '0'],\n",
       "  ['익스트림핫불닭피자', '0'],\n",
       "  ['콤비네이션피자', '0'],\n",
       "  ['콰트로치즈피자 불고기', '0'],\n",
       "  ['콰트로치즈피자 콤비네이션', '0'],\n",
       "  ['클래식 불고기피자', '0'],\n",
       "  ['클래식 트리플치즈피자', '0'],\n",
       "  ['페퍼로니피자', '0'],\n",
       "  ['흑당아몬드 피자', '0'],\n",
       "  ['크리스피롤12곡', '0'],\n",
       "  ['유한M키드맘비타민칼슘', '0'],\n",
       "  ['뉴욕 치즈케이크 딥디쉬피자', '0'],\n",
       "  ['마르게리따피자', '0'],\n",
       "  ['베샤멜고르곤졸라씬피자', '0'],\n",
       "  ['불고기 시카고 치즈피자', '0'],\n",
       "  ['불고기 콤비 반반피자', '0'],\n",
       "  ['불고기씬피자', '0'],\n",
       "  ['씬고르곤졸라피자', '0'],\n",
       "  ['오리지날 시카고 딥디쉬피자', '0'],\n",
       "  ['콤비네이션피자', '0'],\n",
       "  ['크레이지 치즈 멕시칸 피자', '0'],\n",
       "  ['크레이지 치즈 페파로니 피자', '0'],\n",
       "  ['크레이지 치즈 하와이안 피자', '0'],\n",
       "  ['페파로니 시카고 치즈피자', '0'],\n",
       "  ['페파로니 씬피자', '0'],\n",
       "  ['하이클래스치즈앤불고기피자', '0'],\n",
       "  ['하이클래스치즈앤치즈피자', '0'],\n",
       "  ['하이클래스치즈앤콤비네이션피자', '0'],\n",
       "  ['핫치킨 쉬림프 반반피자', '0'],\n",
       "  ['핫치킨 시카고 치즈피자', '0'],\n",
       "  ['핫치킨씬피자', '0'],\n",
       "  ['6 초콜릿 치즈케익', '0'],\n",
       "  ['말렌카 레몬맛 허니케이크(800g)', '0'],\n",
       "  ['건빵', '0'],\n",
       "  ['몰티저스', '0'],\n",
       "  ['Chunky 페페로니 Pizza', '0'],\n",
       "  ['Queen 마르게리따 Pizza', '0'],\n",
       "  ['비프 라쟈냐피자', '0'],\n",
       "  ['시카고 리얼 불닭피자', '0'],\n",
       "  ['시카고리얼 베이컨포테이토피자', '0'],\n",
       "  ['시카고리얼 불닭피자', '0'],\n",
       "  ['시카고리얼불고기피자', '0'],\n",
       "  ['시카고리얼불고기피자', '0'],\n",
       "  ['시카고리얼쉬림프피자', '0'],\n",
       "  ['시카고리얼치즈피자', '0'],\n",
       "  ['시카고리얼치즈피자', '0'],\n",
       "  ['시카고리얼페페로니피자', '0'],\n",
       "  ['와규불고기 시카고피자', '0'],\n",
       "  ['크림 라쟈냐피자', '0'],\n",
       "  ['트리플치즈 시카고피자', '0'],\n",
       "  ['페퍼로니 꽃 피자', '0'],\n",
       "  ['프렌치프라이 피자', '0'],\n",
       "  ['하림 시카고피자', '0'],\n",
       "  ['화이트크림 시카고피자', '0'],\n",
       "  ['사보이아르디', '0'],\n",
       "  ['잉글리쉬머핀 브레드', '0'],\n",
       "  ['크림가득 부드럽고 달콤한 만쥬', '0'],\n",
       "  ['4가지 치즈 피자', '0'],\n",
       "  ['리스토란테 콰트로치즈 피자', '0'],\n",
       "  ['마르게리타 피자', '0'],\n",
       "  ['치즈토마토 피자', '0'],\n",
       "  ['4가지 치즈 피자', '0'],\n",
       "  ['뺑 세레알', '0'],\n",
       "  ['3시오븐 알라팔라 고르곤졸라피자', '0'],\n",
       "  ['3시오븐 알라팔라 포테이토&베이컨피자', '0'],\n",
       "  ['사옹원 햄치즈브리또', '0'],\n",
       "  ['제육볶음 피자', '0'],\n",
       "  ['캄파니아 나폴리 핏자 마르게리타', '0'],\n",
       "  ['치알다', '0'],\n",
       "  ['치알다 비엔나 피콜라', '0'],\n",
       "  ['치알다 크로칸테', '0'],\n",
       "  ['펭수 칼슘을 더한 트위스트 과자', '0'],\n",
       "  ['펭수 칼슘을 더한 왕소라형 과자', '0'],\n",
       "  ['오 프라이스 고구마형과자', '0'],\n",
       "  ['쌀떡볶이', '0'],\n",
       "  ['멀티버스II 추억의 과자', '0'],\n",
       "  ['베라체 델 골포 카프리', '0'],\n",
       "  ['고메 하프피자 베이컨포테이토', '0'],\n",
       "  ['리얼피자 불고기', '0'],\n",
       "  ['리얼피자 콤비네이션', '0'],\n",
       "  ['오 프라이스 고르곤졸라피자', '0'],\n",
       "  ['오 프라이스 불고기피자', '0'],\n",
       "  ['오 프라이스 콤비네이션피자', '0'],\n",
       "  ['콤비조각피자50', '0'],\n",
       "  ['콤비조각피자80', '0'],\n",
       "  ['제주 녹차크레이프 케이크(원형)', '0'],\n",
       "  ['곰곰불고기피자', '0'],\n",
       "  ['곰곰페퍼로니피자', '0'],\n",
       "  ['노엣지 꽉찬토핑피자 베이컨파이브치즈', '0'],\n",
       "  ['노엣지 꽉찬토핑피자 페퍼로니콤비네이션', '0'],\n",
       "  ['불고기피자', '0'],\n",
       "  ['콤비네이션피자', '0'],\n",
       "  ['리얼 불고기 쌀눈피자', '0'],\n",
       "  ['클래식 제주녹차 치즈 케이크 홀', '0'],\n",
       "  ['한라산 녹차 케이크 1호', '0'],\n",
       "  ['브리오슈 식빵', '0'],\n",
       "  ['4치즈 스노잉 피자', '0'],\n",
       "  ['갈릭 까르보나라 피자', '0'],\n",
       "  ['스파이시 미트러버 피자', '0'],\n",
       "  ['케이준 감자튀김 피자', '0'],\n",
       "  ['콤비네이션 피자', '0'],\n",
       "  ['풀드포크 바비큐 피자', '0'],\n",
       "  ['필리 크림치즈 피자', '0'],\n",
       "  ['하프앤하프 피자', '0'],\n",
       "  ['구로칸토슈니탱', '0'],\n",
       "  ['산딸기크림치즈롤', '0'],\n",
       "  ['담백한우리밀또띠아', '0'],\n",
       "  ['우리밀 또띠아 400g', '0'],\n",
       "  ['기리쉬케익2호(생협)', '0'],\n",
       "  ['우리밀딸기잼롤', '0'],\n",
       "  ['우리밀모카롤', '0'],\n",
       "  ['우리밀밀크롤', '0'],\n",
       "  ['우리밀사과잼롤', '0'],\n",
       "  ['우리밀소프트롤', '0'],\n",
       "  ['우리밀카푸치노롤', '0'],\n",
       "  ['우리쌀소프트롤', '0'],\n",
       "  ['우리쌀카푸치노롤', '0'],\n",
       "  ['포근포근스폰지케이크', '0'],\n",
       "  ['허니카스테라', '0'],\n",
       "  ['대림선 핫도그', '0'],\n",
       "  ['무화당 당근케이크', '0'],\n",
       "  ['리스토란테 모짜렐라 피자', '0'],\n",
       "  ['리스토란테 화와이 피자', '0'],\n",
       "  ['New 초코케이크(냉동)', '0'],\n",
       "  ['더화이트앤블랙케이크(냉동)', '0'],\n",
       "  ['비건 사과 반달케이크', '0'],\n",
       "  ['비건 초코 반달케이크', '0'],\n",
       "  ['생크림케이크', '0'],\n",
       "  ['안녕,나의라임레몬케이크(냉동)', '0'],\n",
       "  ['커피퐁당케이크(냉동)', '0'],\n",
       "  ['코코망고케이크(냉동)', '0'],\n",
       "  ['해를 품은 초코씨', '0'],\n",
       "  ['냉동생지(버터필링)', '0'],\n",
       "  ['치즈케익 베이스', '0'],\n",
       "  ['땅콩캬라멜', '0'],\n",
       "  ['오트밀 미니바이트', '0'],\n",
       "  ['허쉬 다크초콜릿 아사이 앤드 블루베리', '0'],\n",
       "  ['먹물먹은치즈쌀식빵', '0'],\n",
       "  ['크림치즈아몬드', '0'],\n",
       "  ['우리쌀 땅콩쿠키', '0'],\n",
       "  ['오렌지 앤 밀크초콜릿쿠키용 도우', '0'],\n",
       "  ['본정오렌지파운드케익', '0'],\n",
       "  ['루솔 브레드팜 우리밀 미니 핫도그', '0'],\n",
       "  ['루솔 브레드팜 우리밀 미니 핫도그(치즈)', '0'],\n",
       "  ['루솔 브레드팜 치즈찰빵(글루텐프리)', '0'],\n",
       "  ['루솔 브레드팜 프리미엄 탕종 식빵', '0'],\n",
       "  ['리얼 허니 카스테라', '0'],\n",
       "  ['보리건빵', '0'],\n",
       "  ['고메고르곤졸라피자', '0'],\n",
       "  ['고메그릴피자 디아볼라', '0'],\n",
       "  ['고메그릴피자 불고기', '0'],\n",
       "  ['고메그릴피자 콤비네이션', '0'],\n",
       "  ['고메그릴피자 포테이토', '0'],\n",
       "  ['곰곰 콤비네이션 피자', '0'],\n",
       "  ['곰곰 통밀고르곤졸라 피자', '0'],\n",
       "  ['올바른구운핫도그갈릭', '0'],\n",
       "  ['김맛나-2', '0'],\n",
       "  ['김맛나', '0'],\n",
       "  ['알찬소시지', '0'],\n",
       "  ['누룽지미인', '0'],\n",
       "  ['고메 나폴리 마르게리타 피자', '0'],\n",
       "  ['고메 로마 콰트로포르마지 피자', '0'],\n",
       "  ['고메 바르셀로나 칠리감바스 피자', '0'],\n",
       "  ['고메 불고기 피자', '0'],\n",
       "  ['고메 콤비네이션 피자', '0'],\n",
       "  ['고메 포테이토 피자', '0'],\n",
       "  ['씨튼 우리밀 밤식빵', '0'],\n",
       "  ['씨튼 우리밀 요구르트빵', '0'],\n",
       "  ['씨튼 우리밀 잡곡식빵', '0'],\n",
       "  ['씨튼 우리밀 통밀식빵', '0'],\n",
       "  ['우리밀 과일빵', '0'],\n",
       "  ['우유식빵', '0'],\n",
       "  ['몰테져스', '0'],\n",
       "  ['애슐리 고구마 딥디쉬피자', '0'],\n",
       "  ['애슐리 시카고 딥디쉬피자', '0'],\n",
       "  ['애슐리 치즈 포테이토 딥디쉬피자', '0'],\n",
       "  ['밀크 초코 커피빈', '0'],\n",
       "  ['반피아 리우샤 피아 케이크', '0'],\n",
       "  ['녹차 파운드케이크', '0'],\n",
       "  ['단호박 파운드케이크', '0'],\n",
       "  ['아몬드 파운드케이크', '0'],\n",
       "  ['서리태팡', '0'],\n",
       "  ['오인월병', '0'],\n",
       "  ['잭슨피자 수퍼잭슨', '0'],\n",
       "  ['잭슨피자 시카고 페퍼로니', '0'],\n",
       "  ['잭슨피자 에어 하와이안', '0'],\n",
       "  ['잭슨피자 페퍼로니', '0'],\n",
       "  ['잭슨피자 하와이안', '0'],\n",
       "  ['미니볼리에 어소티드 패스트리', '0'],\n",
       "  ['우리밀로 만든 어린이 치즈볼', '0'],\n",
       "  ['베네치아나 만다리노 따르디보 차꿀리 550', '0'],\n",
       "  ['빠네또네 클라시코', '0'],\n",
       "  ['빠네또네 클라시코 500', '0'],\n",
       "  ['빤도로 클라시코 1000', '0'],\n",
       "  ['달콤한 마카롱(딸기 초코 오레오)', '0'],\n",
       "  ['데일리 퀸 바닐라향 아이스밀크', '0'],\n",
       "  ['할와 푸리', '0'],\n",
       "  ['슬랩', '0'],\n",
       "  ['REAL프렌치크로크무슈베이컨치즈', '0'],\n",
       "  ['고구마피자', '0'],\n",
       "  ['레이먼킴의블랙앵거스스테이크&쉬림프피자', '0'],\n",
       "  ['레이먼킴의블랙앵거스스테이크피자', '0'],\n",
       "  ['레이먼킴의콰트로치즈피자', '0'],\n",
       "  ['레이먼킴의페페로니피자', '0'],\n",
       "  ['마또네고르곤졸라씬피자', '0'],\n",
       "  ['마또네불고기피자', '0'],\n",
       "  ['불고기피자', '0'],\n",
       "  ['오뚜기 고르곤졸라 씬피자', '0'],\n",
       "  ['오뚜기 불고기 피자', '0'],\n",
       "  ['오뚜기6포르마지피자', '0'],\n",
       "  ['오뚜기머쉬룸스테이크피자', '0'],\n",
       "  ['오뚜기쉬림프스테이크피자', '0'],\n",
       "  ['오뚜기쉬림프피자', '0'],\n",
       "  ['오뚜기슈퍼슈프림피자', '0'],\n",
       "  ['오뚜기올미트콤보피자', '0'],\n",
       "  ['오뚜기페페로니피자', '0'],\n",
       "  ['오뚜기포테이토피자', '0'],\n",
       "  ['오쉐프불고기피자', '0'],\n",
       "  ['오쉐프콤비네이션피자', '0'],\n",
       "  ['콤비네이션피자', '0'],\n",
       "  ['하이포크플레로티고르곤갈릭사각피자', '0'],\n",
       "  ['카오숑 우유 땅콩과자', '0'],\n",
       "  ['카오숑 커피 땅콩과자', '0'],\n",
       "  ['카오숑 코코넛 땅콩과자', '0'],\n",
       "  ['스카이플렉스 크레커 마늘향', '0'],\n",
       "  ['스카이플렉스 크레커 양파&골파향', '0'],\n",
       "  ['엠.와이.썬 스카이플렉스 크레커', '0'],\n",
       "  ['까눌레드보르도초콜릿', '0'],\n",
       "  ['프레첼 믹스', '0'],\n",
       "  ['다크초콜릿 다쿠아즈', '0'],\n",
       "  ['더블 그린티 다쿠아즈', '0'],\n",
       "  ['밀크카라멜 다쿠아즈', '0'],\n",
       "  ['스트로베리 다쿠아즈', '0'],\n",
       "  ['오설록 그린티 롤케익(화이트)', '0'],\n",
       "  ['카페모카 다쿠아즈', '0'],\n",
       "  ['끄루뿍 뗌빼', '0'],\n",
       "  ['미니붕어빵(통팥앙금 )', '0'],\n",
       "  ['미니붕어빵(고구마)', '0'],\n",
       "  ['미니붕어빵(치즈)', '0'],\n",
       "  ['자유시간Mini', '0'],\n",
       "  ['리스토란테 마게리타 피자', '0'],\n",
       "  ['리스토란테 살라미 피자', '0'],\n",
       "  ['빅아메리칸즈 풀드포크', '0'],\n",
       "  ['엑스트라 보글리아 포 치즈 피자', '0'],\n",
       "  ['화덕식 마게리타 피자', '0'],\n",
       "  ['그린피스 와사비향 380g', '0'],\n",
       "  ['11겹등심돈까스도시락', '0'],\n",
       "  ['11찬도시락', '0'],\n",
       "  ['12찬한판도시락', '0'],\n",
       "  ['2가지고기많은도시락', '0'],\n",
       "  ['7찬매콤불고기', '0'],\n",
       "  [\"99's 자이언트 부대찌개\", '0'],\n",
       "  ['DIY 만두 만들기 세트', '0'],\n",
       "  ['DIY 미니 피자 만들기 세트', '0'],\n",
       "  ['DIY 삼색 떡만둣국 만들기 세트', '0'],\n",
       "  ['H닭볶음탕', '0'],\n",
       "  ['NEW TLJ시그니처', '0'],\n",
       "  ['NEW 바베큐치킨치즈치아바타', '0'],\n",
       "  ['NEW 베이컨포테이토치아바타', '0'],\n",
       "  ['NEW 어니언베이컨체다치아바타', '0'],\n",
       "  ['UFO 부대찌개', '0'],\n",
       "  ['가우초 곱창전골', '0'],\n",
       "  ['가정식제육편', '0'],\n",
       "  ['간장불고기와매콤닭갈비', '0'],\n",
       "  ['갈릭스파게티샐러드', '0'],\n",
       "  ['갈비양념치킨도시락', '0'],\n",
       "  ['감바스 알 아히요', '0'],\n",
       "  ['감바스알아히요 & 파스타', '0'],\n",
       "  ['감자탕', '0'],\n",
       "  ['강남면옥 사골떡만두국', '0'],\n",
       "  ['강남면옥 사골만두칼국수', '0'],\n",
       "  ['강남면옥 소갈비찜', '0'],\n",
       "  ['강력추천!8찬정식', '0'],\n",
       "  ['강황쌀잡곡밥 치즈&고추장불고기', '0'],\n",
       "  ['검은미숫가루', '0'],\n",
       "  ['견과류 가득 우렁쌈장', '0'],\n",
       "  ['경양식돈까스와미트볼펜네', '0'],\n",
       "  ['계란폭탄두부면김밥', '0'],\n",
       "  ['계란폭탄참치&소고기김밥', '0'],\n",
       "  ['계절밥상마늘간장닭갈비', '0'],\n",
       "  ['계절밥상매운고추장닭갈비', '0'],\n",
       "  ['고구마 품은 라자냐', '0'],\n",
       "  ['고기 가득 짜글이', '0'],\n",
       "  ['고기가득 버섯잡채', '0'],\n",
       "  ['고기듬뿍 시골김치찌개', '0'],\n",
       "  ['고기듬뿍 토마토 파스타', '0'],\n",
       "  ['고기듬뿍매콤 중화제육볶음면', '0'],\n",
       "  ['고기듬뿍불고기백반', '0'],\n",
       "  ['고등급식)이불돈까스도시락', '0'],\n",
       "  ['고추잡채', '0'],\n",
       "  ['고추잡채와꽃빵', '0'],\n",
       "  ['고추장버섯불고기', '0'],\n",
       "  ['곡금초대가 해물짬뽕', '0'],\n",
       "  ['곰곰 부대찌개', '0'],\n",
       "  ['곰곰감자에그샐러드', '0'],\n",
       "  ['곰곰꽃맛살샐러드', '0'],\n",
       "  ['곰곰에그샐러드', '0'],\n",
       "  ['곰표 닭갈비 떡볶이', '0'],\n",
       "  ['곰표 청양크림 우삼겹 떡볶이', '0'],\n",
       "  ['곱창전골', '0'],\n",
       "  ['국물자작 소불고기전골', '0'],\n",
       "  ['국민집밥 소불고기정식', '0'],\n",
       "  ['궁극의도시락 불백편', '0'],\n",
       "  ['궁매콤한쪽갈비', '0'],\n",
       "  ['궁중 소고기 갈비찜', '0'],\n",
       "  ['궁중소불고기', '0'],\n",
       "  ['기네스 스테이크 버거 키트', '0'],\n",
       "  ['기네스 핫치킨 버거 키트', '0'],\n",
       "  ['김치닭쫄면', '0'],\n",
       "  ['까르보라자냐', '0'],\n",
       "  ['깔끔하고 담백한맛 매생이굴국', '0'],\n",
       "  ['꼬꼬닭볶이', '0'],\n",
       "  ['꿀조합 최애7찬', '0'],\n",
       "  ['나혼자 밀푀유 샤브전골', '0'],\n",
       "  ['나혼자 산삼배양근 반계탕', '0'],\n",
       "  ['낙지곱창전골', '0'],\n",
       "  ['남도떡갈비정식', '0'],\n",
       "  ['남양 찹쌀순대', '0'],\n",
       "  ['냄비가득 5분 모둠 부대찌개', '0'],\n",
       "  ['냉이봉골레오일파스타', '0'],\n",
       "  ['눈꽃 함박 스테이크', '0'],\n",
       "  ['뉴NEW순창고추장불고기도시락', '0'],\n",
       "  ['뉴NEW언양식바싹불고기도시락', '0'],\n",
       "  ['뉴순창고추장불고기도시락', '0'],\n",
       "  ['다섯가지나물밥&손포어전', '0'],\n",
       "  ['닭한마리의 고수', '0'],\n",
       "  ['대패 삼겹 떡볶이', '0'],\n",
       "  ['대한곱창 곱창전골', '0'],\n",
       "  ['더 든든한두부한상도시락', '0'],\n",
       "  ['더블치즈인헬', '0'],\n",
       "  ['더큰 햄가득 부대전골', '0'],\n",
       "  ['도시락의 정석 고추장바싹불고기편', '0'],\n",
       "  ['도시락의정석)돼지갈비편', '0'],\n",
       "  ['도시락의정석)돼지불고기편', '0'],\n",
       "  ['도시락의정석)한돈불고기편', '0'],\n",
       "  ['도우룸 까르보나라 파스타', '0'],\n",
       "  ['돈까스&김치볶음밥오믈렛', '0'],\n",
       "  ['돈까스김치나베', '0'],\n",
       "  ['돌아온더블치킨도시락', '0'],\n",
       "  ['돼지고기감자고추장찌개', '0'],\n",
       "  ['돼지불고기육쌈쫄면', '0'],\n",
       "  ['두유 투움바 파스타를 빼당빼당', '0'],\n",
       "  ['둘도없는 돼지곱창볶음', '0'],\n",
       "  ['들깨 크림파스타', '0'],\n",
       "  ['듬뿍 스테이크 솥밥 키트', '0'],\n",
       "  ['땡초 불족발', '0'],\n",
       "  ['땡초 크림 우삼겹 빠네', '0'],\n",
       "  ['떠먹는B.B.Q치킨피자', '0'],\n",
       "  ['떠먹는페퍼로니피자', '0'],\n",
       "  ['떠먹는포테이토소시지피자', '0'],\n",
       "  ['떡갈비&닭갈비', '0'],\n",
       "  ['로얄크리미 스테이크', '0'],\n",
       "  ['리얼 스테이크 피자', '0'],\n",
       "  ['리챔&치킨도시락', '0'],\n",
       "  ['리챔참치부대찌개', '0'],\n",
       "  ['마그마 순살 닭볶음탕', '0'],\n",
       "  ['마라 고추잡채와 꽃빵', '0'],\n",
       "  ['마라고추잡채와 한입가득꽃빵', '0'],\n",
       "  ['마라밀푀유', '0'],\n",
       "  ['마라밀푀유나베', '0'],\n",
       "  ['마라볼케이노나베', '0'],\n",
       "  ['마라탕', '0'],\n",
       "  ['마라탕', '0'],\n",
       "  ['마라탕', '0'],\n",
       "  ['마이셰프 레드와인스테이크', '0'],\n",
       "  ['마이셰프 밀푀유나베', '0'],\n",
       "  ['마이셰프 볼케이노나베', '0'],\n",
       "  ['마이셰프 쉬림프로제파스타', '0'],\n",
       "  ['마이셰프 양장피', '0'],\n",
       "  ['마이셰프 월남쌈', '0'],\n",
       "  ['마이셰프 찹스테이크', '0'],\n",
       "  ['만조 풍기 크림파스타', '0'],\n",
       "  ['맛있는 잡채', '0'],\n",
       "  ['망고치킨샐러드', '0'],\n",
       "  ['매드포갈릭 갈릭 시즐링 라이스 밀키트', '0'],\n",
       "  ['매드포갈릭 아라비아따 밀키트', '0'],\n",
       "  ['매콤 깻잎 순대볶음', '0'],\n",
       "  ['매콤 크림 닭 떡볶이', '0'],\n",
       "  ['매콤달콤 양념치킨', '0'],\n",
       "  ['매콤로제치킨파스타', '0'],\n",
       "  ['매콤소고기고추잡채꽃빵', '0'],\n",
       "  ['매콤순대볶음', '0'],\n",
       "  ['매콤칼칼 아귀찜', '0'],\n",
       "  ['매콤한 고기순대', '0'],\n",
       "  ['메추리알골드샐러드', '0'],\n",
       "  ['명품10찬도시락', '0'],\n",
       "  ['모두의급식버섯불고기', '0'],\n",
       "  ['모두의급식제육편', '0'],\n",
       "  ['모밀앤POP만두', '0'],\n",
       "  ['모짜렐라토마토스파게티', '0'],\n",
       "  ['무등산식당 꽃도리탕', '0'],\n",
       "  ['문어담은 약선 해신탕', '0'],\n",
       "  ['뭘좋아할지몰라다넣어봤어도시락', '0'],\n",
       "  ['밀푀유나베&칼국수', '0'],\n",
       "  ['바질페스토 감바스', '0'],\n",
       "  ['반반닭강정', '0'],\n",
       "  ['밥은먹고다니자얘들아 스테이크편', '0'],\n",
       "  ['배찢 부대찌개', '0'],\n",
       "  ['백종원의매콤닭볶음탕', '0'],\n",
       "  ['버섯 소불고기전골', '0'],\n",
       "  ['버섯가득 소불고기 전골', '0'],\n",
       "  ['버섯가득 소불고기전골', '0'],\n",
       "  ['버섯된장전골', '0'],\n",
       "  ['버터 쉬림프 로제파스타', '0'],\n",
       "  ['베이컨 크림 빠네파스타', '0'],\n",
       "  ['베이컨&포테이토치아바타', '0'],\n",
       "  ['베이컨&포테이토치아바타K', '0'],\n",
       "  ['베이컨새우로제펜네밀키트', '0'],\n",
       "  ['볼로네제스파게티샐러드', '0'],\n",
       "  ['볼로네제파스타', '0'],\n",
       "  ['볼로네즈&크림펜네파스타', '0'],\n",
       "  ['볼케이노나베', '0'],\n",
       "  ['볼케이노샤브전골', '0'],\n",
       "  ['봉골레 칼국수', '0'],\n",
       "  ['봉골레 크림 빠네 파스타', '0'],\n",
       "  ['봉골레파스타', '0'],\n",
       "  ['부대찌개', '0'],\n",
       "  ['부뚜막 청국장찌개', '0'],\n",
       "  ['부뚜막 청국장찌개(2)', '0'],\n",
       "  ['부지깽이나물밥&갈치구이', '0'],\n",
       "  ['불고기 월남쌈', '0'],\n",
       "  ['불맛 해산물 파스타', '0'],\n",
       "  ['브레드업 콤비네이션피자토핑', '0'],\n",
       "  ['비프 에그인헬', '0'],\n",
       "  ['비프찹스테이크', '0'],\n",
       "  ['비프함박&토네이도소시지 도시락', '0'],\n",
       "  ['빅&더블버거', '0'],\n",
       "  ['빕스미트라자냐', '0'],\n",
       "  ['빼어날수秀정찬', '0'],\n",
       "  ['빽햄스페셜정식', '0'],\n",
       "  ['사골떡국', '0'],\n",
       "  ['사골순댓국', '0'],\n",
       "  ['사와디캅 팟타이', '0'],\n",
       "  ['사천식 마라샹궈', '0'],\n",
       "  ['사천식 잡채', '0'],\n",
       "  ['산삼배양근 삼계탕&죽', '0'],\n",
       "  ['살사후실리샐러드', '0'],\n",
       "  ['상하이 파스타', '0'],\n",
       "  ['새우 감바스', '0'],\n",
       "  ['새우 듬뿍 쿵 팟 퐁커리', '0'],\n",
       "  ['새우 듬뿍 팟타이', '0'],\n",
       "  ['새우펜네파스타', '0'],\n",
       "  ['샐러드&볼로네즈파스타', '0'],\n",
       "  ['샤브만두전골', '0'],\n",
       "  ['서울마님 오감떡볶이 전통짜장맛', '0'],\n",
       "  ['서울식 불고기 전골', '0'],\n",
       "  ['소고기 매콤 쫄면', '0'],\n",
       "  ['소고기 샤브샤브', '0'],\n",
       "  ['소고기고추잡채 & 꽃빵', '0'],\n",
       "  ['소불고기 전골', '0'],\n",
       "  ['속초식코다리비빔냉면', '0'],\n",
       "  ['속초코다리냉면', '0'],\n",
       "  ['순살 족발덮밥', '0'],\n",
       "  ['숯불닭갈비', '0'],\n",
       "  ['숯불바싹불고기편', '0'],\n",
       "  ['쉬림프 로제 파스타', '0'],\n",
       "  ['슈퍼키친 즉석떡볶이(셀프)', '0'],\n",
       "  ['스노우 치즈 폭립덮밥', '0'],\n",
       "  ['스리라차 크림 쉬림프 리조또', '0'],\n",
       "  ['스위트맛살샐러드', '0'],\n",
       "  ['스키야끼', '0'],\n",
       "  ['스키야끼(셀프)', '0'],\n",
       "  ['스테이크 로제 빠네 파스타', '0'],\n",
       "  ...],\n",
       " 78198)"
      ]
     },
     "execution_count": 14,
     "metadata": {},
     "output_type": "execute_result"
    }
   ],
   "source": [
    "data_list, len(data_list)"
   ]
  },
  {
   "cell_type": "code",
   "execution_count": 15,
   "metadata": {},
   "outputs": [],
   "source": [
    "class BERTDataset(Dataset):\n",
    "    def __init__(self, dataset, sent_idx, label_idx, bert_tokenizer,vocab, max_len,\n",
    "                 pad, pair):\n",
    "        transform = nlp.data.BERTSentenceTransform(bert_tokenizer, max_seq_length=max_len,vocab=vocab, pad=pad, pair=pair)\n",
    "        \n",
    "        self.sentences = [transform([i[sent_idx]]) for i in dataset]\n",
    "        self.labels = [np.int32(i[label_idx]) for i in dataset]\n",
    "\n",
    "    def __getitem__(self, i):\n",
    "        return (self.sentences[i] + (self.labels[i], ))\n",
    "         \n",
    "\n",
    "    def __len__(self):\n",
    "        return (len(self.labels))"
   ]
  },
  {
   "cell_type": "code",
   "execution_count": 16,
   "metadata": {},
   "outputs": [],
   "source": [
    "max_len = 64\n",
    "batch_size = 4\n",
    "warmup_ratio = 0.1\n",
    "num_epochs = 5  \n",
    "max_grad_norm = 1\n",
    "log_interval = 200\n",
    "learning_rate =  5e-5\n",
    "\n",
    "device = torch.device(\"cuda:0\")"
   ]
  },
  {
   "cell_type": "code",
   "execution_count": 17,
   "metadata": {},
   "outputs": [],
   "source": [
    "from sklearn.model_selection import train_test_split\n",
    "dataset_train, dataset_test = train_test_split(data_list, test_size=0.2, shuffle=True, random_state=10)"
   ]
  },
  {
   "cell_type": "code",
   "execution_count": 18,
   "metadata": {},
   "outputs": [],
   "source": [
    "tok=tokenizer.tokenize\n",
    "data_train = BERTDataset(dataset_train, 0, 1, tok, vocab, max_len, True, False)\n",
    "data_test = BERTDataset(dataset_test,0, 1, tok, vocab,  max_len, True, False)"
   ]
  },
  {
   "cell_type": "code",
   "execution_count": 19,
   "metadata": {},
   "outputs": [],
   "source": [
    "train_dataloader = torch.utils.data.DataLoader(data_train, batch_size=batch_size)\n",
    "test_dataloader = torch.utils.data.DataLoader(data_test, batch_size=batch_size)"
   ]
  },
  {
   "cell_type": "code",
   "execution_count": 20,
   "metadata": {},
   "outputs": [],
   "source": [
    "class BERTClassifier(nn.Module):\n",
    "    def __init__(self,\n",
    "                 bert,\n",
    "                 hidden_size = 768,\n",
    "                 num_classes=27,\n",
    "                 dr_rate=None,\n",
    "                 params=None):\n",
    "        super(BERTClassifier, self).__init__()\n",
    "        self.bert = bert\n",
    "        self.dr_rate = dr_rate\n",
    "                 \n",
    "        self.classifier = nn.Linear(hidden_size , num_classes)\n",
    "        if dr_rate:\n",
    "            self.dropout = nn.Dropout(p=dr_rate)\n",
    "    \n",
    "    def gen_attention_mask(self, token_ids, valid_length):\n",
    "        attention_mask = torch.zeros_like(token_ids)\n",
    "        for i, v in enumerate(valid_length):\n",
    "            attention_mask[i][:v] = 1\n",
    "        return attention_mask.float()\n",
    "\n",
    "    def forward(self, token_ids, valid_length, segment_ids):\n",
    "        attention_mask = self.gen_attention_mask(token_ids, valid_length)\n",
    "        \n",
    "        _, pooler = self.bert(input_ids = token_ids, token_type_ids = segment_ids.long(), attention_mask = attention_mask.float().to(token_ids.device),return_dict=False)\n",
    "        if self.dr_rate:\n",
    "            out = self.dropout(pooler)\n",
    "        return self.classifier(out)"
   ]
  },
  {
   "cell_type": "code",
   "execution_count": 21,
   "metadata": {},
   "outputs": [
    {
     "data": {
      "text/plain": [
       "<torch.utils.data.dataloader.DataLoader at 0x1f35595aac0>"
      ]
     },
     "execution_count": 21,
     "metadata": {},
     "output_type": "execute_result"
    }
   ],
   "source": [
    "model = BERTClassifier(bertmodel,  dr_rate=0.5).to(device)\n",
    " \n",
    "no_decay = ['bias', 'LayerNorm.weight']\n",
    "optimizer_grouped_parameters = [\n",
    "    {'params': [p for n, p in model.named_parameters() if not any(nd in n for nd in no_decay)], 'weight_decay': 0.01},\n",
    "    {'params': [p for n, p in model.named_parameters() if any(nd in n for nd in no_decay)], 'weight_decay': 0.0}\n",
    "]\n",
    "\n",
    "optimizer = AdamW(optimizer_grouped_parameters, lr=learning_rate)\n",
    "loss_fn = nn.CrossEntropyLoss()\n",
    "\n",
    "t_total = len(train_dataloader) * num_epochs\n",
    "warmup_step = int(t_total * warmup_ratio)\n",
    "\n",
    "scheduler = get_cosine_schedule_with_warmup(optimizer, num_warmup_steps=warmup_step, num_training_steps=t_total)\n",
    "\n",
    "def calc_accuracy(X,Y):\n",
    "    max_vals, max_indices = torch.max(X, 1)\n",
    "    train_acc = (max_indices == Y).sum().data.cpu().numpy()/max_indices.size()[0]\n",
    "    return train_acc\n",
    "    \n",
    "train_dataloader"
   ]
  },
  {
   "cell_type": "code",
   "execution_count": null,
   "metadata": {},
   "outputs": [
    {
     "name": "stderr",
     "output_type": "stream",
     "text": [
      "  0%|                                                                              | 3/15640 [00:00<1:58:17,  2.20it/s]"
     ]
    },
    {
     "name": "stdout",
     "output_type": "stream",
     "text": [
      "epoch: 1, batch id: 1, loss: 3.1744022369384766, train acc: 0.0\n"
     ]
    },
    {
     "name": "stderr",
     "output_type": "stream",
     "text": [
      "  1%|█                                                                             | 203/15640 [00:15<21:03, 12.21it/s]"
     ]
    },
    {
     "name": "stdout",
     "output_type": "stream",
     "text": [
      "epoch: 1, batch id: 201, loss: 3.235738515853882, train acc: 0.1318407960199005\n"
     ]
    },
    {
     "name": "stderr",
     "output_type": "stream",
     "text": [
      "  3%|█▉                                                                            | 401/15640 [00:32<22:13, 11.43it/s]"
     ]
    },
    {
     "name": "stdout",
     "output_type": "stream",
     "text": [
      "epoch: 1, batch id: 401, loss: 2.210911750793457, train acc: 0.20199501246882792\n"
     ]
    },
    {
     "name": "stderr",
     "output_type": "stream",
     "text": [
      "  4%|███                                                                           | 602/15640 [00:49<23:12, 10.80it/s]"
     ]
    },
    {
     "name": "stdout",
     "output_type": "stream",
     "text": [
      "epoch: 1, batch id: 601, loss: 3.1308937072753906, train acc: 0.2391846921797005\n"
     ]
    },
    {
     "name": "stderr",
     "output_type": "stream",
     "text": [
      "  5%|███▉                                                                          | 802/15640 [01:05<17:58, 13.76it/s]"
     ]
    },
    {
     "name": "stdout",
     "output_type": "stream",
     "text": [
      "epoch: 1, batch id: 801, loss: 2.6245386600494385, train acc: 0.25124843945068664\n"
     ]
    },
    {
     "name": "stderr",
     "output_type": "stream",
     "text": [
      "  6%|████▉                                                                        | 1002/15640 [01:22<19:22, 12.59it/s]"
     ]
    },
    {
     "name": "stdout",
     "output_type": "stream",
     "text": [
      "epoch: 1, batch id: 1001, loss: 2.6792309284210205, train acc: 0.26373626373626374\n"
     ]
    },
    {
     "name": "stderr",
     "output_type": "stream",
     "text": [
      "  8%|█████▉                                                                       | 1202/15640 [01:38<17:11, 14.00it/s]"
     ]
    },
    {
     "name": "stdout",
     "output_type": "stream",
     "text": [
      "epoch: 1, batch id: 1201, loss: 3.2044057846069336, train acc: 0.2722731057452123\n"
     ]
    },
    {
     "name": "stderr",
     "output_type": "stream",
     "text": [
      "  9%|██████▉                                                                      | 1403/15640 [01:55<18:34, 12.77it/s]"
     ]
    },
    {
     "name": "stdout",
     "output_type": "stream",
     "text": [
      "epoch: 1, batch id: 1401, loss: 1.58082115650177, train acc: 0.2780157030692363\n"
     ]
    },
    {
     "name": "stderr",
     "output_type": "stream",
     "text": [
      " 10%|███████▉                                                                     | 1603/15640 [02:11<23:41,  9.88it/s]"
     ]
    },
    {
     "name": "stdout",
     "output_type": "stream",
     "text": [
      "epoch: 1, batch id: 1601, loss: 2.6531379222869873, train acc: 0.2812304809494066\n"
     ]
    },
    {
     "name": "stderr",
     "output_type": "stream",
     "text": [
      " 12%|████████▉                                                                    | 1803/15640 [02:28<18:25, 12.52it/s]"
     ]
    },
    {
     "name": "stdout",
     "output_type": "stream",
     "text": [
      "epoch: 1, batch id: 1801, loss: 2.8854317665100098, train acc: 0.28387007218212107\n"
     ]
    },
    {
     "name": "stderr",
     "output_type": "stream",
     "text": [
      " 13%|█████████▊                                                                   | 2002/15640 [02:44<17:03, 13.33it/s]"
     ]
    },
    {
     "name": "stdout",
     "output_type": "stream",
     "text": [
      "epoch: 1, batch id: 2001, loss: 2.0180273056030273, train acc: 0.28473263368315843\n"
     ]
    },
    {
     "name": "stderr",
     "output_type": "stream",
     "text": [
      " 14%|██████████▊                                                                  | 2202/15640 [03:00<19:12, 11.66it/s]"
     ]
    },
    {
     "name": "stdout",
     "output_type": "stream",
     "text": [
      "epoch: 1, batch id: 2201, loss: 3.010880470275879, train acc: 0.2869150386188096\n"
     ]
    },
    {
     "name": "stderr",
     "output_type": "stream",
     "text": [
      " 15%|███████████▊                                                                 | 2402/15640 [03:18<19:37, 11.24it/s]"
     ]
    },
    {
     "name": "stdout",
     "output_type": "stream",
     "text": [
      "epoch: 1, batch id: 2401, loss: 2.4640228748321533, train acc: 0.29081632653061223\n"
     ]
    },
    {
     "name": "stderr",
     "output_type": "stream",
     "text": [
      " 17%|████████████▊                                                                | 2603/15640 [03:34<20:36, 10.55it/s]"
     ]
    },
    {
     "name": "stdout",
     "output_type": "stream",
     "text": [
      "epoch: 1, batch id: 2601, loss: 1.92498779296875, train acc: 0.291522491349481\n"
     ]
    },
    {
     "name": "stderr",
     "output_type": "stream",
     "text": [
      " 18%|█████████████▊                                                               | 2802/15640 [03:50<18:02, 11.86it/s]"
     ]
    },
    {
     "name": "stdout",
     "output_type": "stream",
     "text": [
      "epoch: 1, batch id: 2801, loss: 2.7982964515686035, train acc: 0.2918600499821492\n"
     ]
    },
    {
     "name": "stderr",
     "output_type": "stream",
     "text": [
      " 19%|██████████████▊                                                              | 3003/15640 [04:08<16:26, 12.81it/s]"
     ]
    },
    {
     "name": "stdout",
     "output_type": "stream",
     "text": [
      "epoch: 1, batch id: 3001, loss: 1.9277865886688232, train acc: 0.29423525491502833\n"
     ]
    },
    {
     "name": "stderr",
     "output_type": "stream",
     "text": [
      " 20%|███████████████▊                                                             | 3203/15640 [04:23<14:22, 14.42it/s]"
     ]
    },
    {
     "name": "stdout",
     "output_type": "stream",
     "text": [
      "epoch: 1, batch id: 3201, loss: 2.8211846351623535, train acc: 0.2935020306154327\n"
     ]
    },
    {
     "name": "stderr",
     "output_type": "stream",
     "text": [
      " 22%|████████████████▋                                                            | 3402/15640 [04:40<15:42, 12.98it/s]"
     ]
    },
    {
     "name": "stdout",
     "output_type": "stream",
     "text": [
      "epoch: 1, batch id: 3401, loss: 3.8794713020324707, train acc: 0.29432519847103794\n"
     ]
    },
    {
     "name": "stderr",
     "output_type": "stream",
     "text": [
      " 23%|█████████████████▋                                                           | 3602/15640 [04:57<20:28,  9.80it/s]"
     ]
    },
    {
     "name": "stdout",
     "output_type": "stream",
     "text": [
      "epoch: 1, batch id: 3601, loss: 1.3454034328460693, train acc: 0.2956817550680367\n"
     ]
    },
    {
     "name": "stderr",
     "output_type": "stream",
     "text": [
      " 24%|██████████████████▋                                                          | 3802/15640 [05:13<14:11, 13.91it/s]"
     ]
    },
    {
     "name": "stdout",
     "output_type": "stream",
     "text": [
      "epoch: 1, batch id: 3801, loss: 2.526069402694702, train acc: 0.2972244146277295\n"
     ]
    },
    {
     "name": "stderr",
     "output_type": "stream",
     "text": [
      " 26%|███████████████████▋                                                         | 4002/15640 [05:30<20:12,  9.60it/s]"
     ]
    },
    {
     "name": "stdout",
     "output_type": "stream",
     "text": [
      "epoch: 1, batch id: 4001, loss: 2.1125786304473877, train acc: 0.29967508122969255\n"
     ]
    },
    {
     "name": "stderr",
     "output_type": "stream",
     "text": [
      " 27%|████████████████████▋                                                        | 4203/15640 [05:47<14:24, 13.23it/s]"
     ]
    },
    {
     "name": "stdout",
     "output_type": "stream",
     "text": [
      "epoch: 1, batch id: 4201, loss: 2.3238441944122314, train acc: 0.3029040704594144\n"
     ]
    },
    {
     "name": "stderr",
     "output_type": "stream",
     "text": [
      " 28%|█████████████████████▋                                                       | 4403/15640 [06:03<13:48, 13.57it/s]"
     ]
    },
    {
     "name": "stdout",
     "output_type": "stream",
     "text": [
      "epoch: 1, batch id: 4401, loss: 3.4850072860717773, train acc: 0.3026016814360373\n"
     ]
    },
    {
     "name": "stderr",
     "output_type": "stream",
     "text": [
      " 29%|██████████████████████▋                                                      | 4603/15640 [06:18<14:57, 12.30it/s]"
     ]
    },
    {
     "name": "stdout",
     "output_type": "stream",
     "text": [
      "epoch: 1, batch id: 4601, loss: 2.748196601867676, train acc: 0.3034123016735492\n"
     ]
    },
    {
     "name": "stderr",
     "output_type": "stream",
     "text": [
      " 31%|███████████████████████▋                                                     | 4802/15640 [06:36<15:39, 11.54it/s]"
     ]
    },
    {
     "name": "stdout",
     "output_type": "stream",
     "text": [
      "epoch: 1, batch id: 4801, loss: 2.213165760040283, train acc: 0.3053530514476151\n"
     ]
    },
    {
     "name": "stderr",
     "output_type": "stream",
     "text": [
      " 32%|████████████████████████▌                                                    | 5001/15640 [06:52<17:23, 10.19it/s]"
     ]
    },
    {
     "name": "stdout",
     "output_type": "stream",
     "text": [
      "epoch: 1, batch id: 5001, loss: 3.1321821212768555, train acc: 0.30663867226554686\n"
     ]
    },
    {
     "name": "stderr",
     "output_type": "stream",
     "text": [
      " 33%|█████████████████████████▌                                                   | 5203/15640 [07:09<14:33, 11.94it/s]"
     ]
    },
    {
     "name": "stdout",
     "output_type": "stream",
     "text": [
      "epoch: 1, batch id: 5201, loss: 1.5834251642227173, train acc: 0.3077773505095174\n"
     ]
    },
    {
     "name": "stderr",
     "output_type": "stream",
     "text": [
      " 35%|██████████████████████████▌                                                  | 5403/15640 [07:26<13:13, 12.90it/s]"
     ]
    },
    {
     "name": "stdout",
     "output_type": "stream",
     "text": [
      "epoch: 1, batch id: 5401, loss: 2.6389999389648438, train acc: 0.310081466395112\n"
     ]
    },
    {
     "name": "stderr",
     "output_type": "stream",
     "text": [
      " 36%|███████████████████████████▌                                                 | 5603/15640 [07:42<11:46, 14.20it/s]"
     ]
    },
    {
     "name": "stdout",
     "output_type": "stream",
     "text": [
      "epoch: 1, batch id: 5601, loss: 1.3452110290527344, train acc: 0.31280128548473485\n"
     ]
    },
    {
     "name": "stderr",
     "output_type": "stream",
     "text": [
      " 37%|████████████████████████████▌                                                | 5803/15640 [07:58<12:03, 13.59it/s]"
     ]
    },
    {
     "name": "stdout",
     "output_type": "stream",
     "text": [
      "epoch: 1, batch id: 5801, loss: 1.4709264039993286, train acc: 0.3135666264437166\n"
     ]
    },
    {
     "name": "stderr",
     "output_type": "stream",
     "text": [
      " 38%|█████████████████████████████▌                                               | 6003/15640 [08:14<14:08, 11.35it/s]"
     ]
    },
    {
     "name": "stdout",
     "output_type": "stream",
     "text": [
      "epoch: 1, batch id: 6001, loss: 1.5384900569915771, train acc: 0.3148225295784036\n"
     ]
    },
    {
     "name": "stderr",
     "output_type": "stream",
     "text": [
      " 40%|██████████████████████████████▌                                              | 6202/15640 [08:31<12:06, 12.98it/s]"
     ]
    },
    {
     "name": "stdout",
     "output_type": "stream",
     "text": [
      "epoch: 1, batch id: 6201, loss: 2.737062692642212, train acc: 0.31627963231736816\n"
     ]
    },
    {
     "name": "stderr",
     "output_type": "stream",
     "text": [
      " 41%|███████████████████████████████▌                                             | 6403/15640 [08:47<14:24, 10.69it/s]"
     ]
    },
    {
     "name": "stdout",
     "output_type": "stream",
     "text": [
      "epoch: 1, batch id: 6401, loss: 3.7658157348632812, train acc: 0.3170598344008749\n"
     ]
    },
    {
     "name": "stderr",
     "output_type": "stream",
     "text": [
      " 42%|████████████████████████████████▌                                            | 6603/15640 [09:04<11:46, 12.79it/s]"
     ]
    },
    {
     "name": "stdout",
     "output_type": "stream",
     "text": [
      "epoch: 1, batch id: 6601, loss: 3.132086753845215, train acc: 0.31858809271322525\n"
     ]
    },
    {
     "name": "stderr",
     "output_type": "stream",
     "text": [
      " 43%|█████████████████████████████████▍                                           | 6803/15640 [09:21<10:47, 13.64it/s]"
     ]
    },
    {
     "name": "stdout",
     "output_type": "stream",
     "text": [
      "epoch: 1, batch id: 6801, loss: 1.4654819965362549, train acc: 0.31951183649463316\n"
     ]
    },
    {
     "name": "stderr",
     "output_type": "stream",
     "text": [
      " 45%|██████████████████████████████████▍                                          | 7003/15640 [09:36<09:52, 14.59it/s]"
     ]
    },
    {
     "name": "stdout",
     "output_type": "stream",
     "text": [
      "epoch: 1, batch id: 7001, loss: 2.491446018218994, train acc: 0.31991858305956294\n"
     ]
    },
    {
     "name": "stderr",
     "output_type": "stream",
     "text": [
      " 46%|███████████████████████████████████▍                                         | 7202/15640 [09:53<11:47, 11.93it/s]"
     ]
    },
    {
     "name": "stdout",
     "output_type": "stream",
     "text": [
      "epoch: 1, batch id: 7201, loss: 2.8804852962493896, train acc: 0.3204416053325927\n"
     ]
    },
    {
     "name": "stderr",
     "output_type": "stream",
     "text": [
      " 47%|████████████████████████████████████▍                                        | 7402/15640 [10:09<14:18,  9.59it/s]"
     ]
    },
    {
     "name": "stdout",
     "output_type": "stream",
     "text": [
      "epoch: 1, batch id: 7401, loss: 1.652545690536499, train acc: 0.3212065937035536\n"
     ]
    },
    {
     "name": "stderr",
     "output_type": "stream",
     "text": [
      " 49%|█████████████████████████████████████▍                                       | 7602/15640 [10:25<09:53, 13.55it/s]"
     ]
    },
    {
     "name": "stdout",
     "output_type": "stream",
     "text": [
      "epoch: 1, batch id: 7601, loss: 1.6997361183166504, train acc: 0.32281936587291143\n"
     ]
    },
    {
     "name": "stderr",
     "output_type": "stream",
     "text": [
      " 50%|██████████████████████████████████████▍                                      | 7801/15640 [10:42<11:36, 11.25it/s]"
     ]
    },
    {
     "name": "stdout",
     "output_type": "stream",
     "text": [
      "epoch: 1, batch id: 7801, loss: 1.75899076461792, train acc: 0.3243494423791822\n"
     ]
    },
    {
     "name": "stderr",
     "output_type": "stream",
     "text": [
      " 51%|███████████████████████████████████████▍                                     | 8003/15640 [10:58<08:42, 14.62it/s]"
     ]
    },
    {
     "name": "stdout",
     "output_type": "stream",
     "text": [
      "epoch: 1, batch id: 8001, loss: 0.5727085471153259, train acc: 0.3253030871141107\n"
     ]
    },
    {
     "name": "stderr",
     "output_type": "stream",
     "text": [
      " 52%|████████████████████████████████████████▍                                    | 8202/15640 [11:14<08:57, 13.84it/s]"
     ]
    },
    {
     "name": "stdout",
     "output_type": "stream",
     "text": [
      "epoch: 1, batch id: 8201, loss: 2.1749658584594727, train acc: 0.3257529569564687\n"
     ]
    },
    {
     "name": "stderr",
     "output_type": "stream",
     "text": [
      " 54%|█████████████████████████████████████████▎                                   | 8402/15640 [11:30<09:21, 12.89it/s]"
     ]
    },
    {
     "name": "stdout",
     "output_type": "stream",
     "text": [
      "epoch: 1, batch id: 8401, loss: 2.1598706245422363, train acc: 0.32695512438995356\n"
     ]
    },
    {
     "name": "stderr",
     "output_type": "stream",
     "text": [
      " 55%|██████████████████████████████████████████▎                                  | 8602/15640 [11:47<08:19, 14.08it/s]"
     ]
    },
    {
     "name": "stdout",
     "output_type": "stream",
     "text": [
      "epoch: 1, batch id: 8601, loss: 0.957973301410675, train acc: 0.32810138356005114\n"
     ]
    },
    {
     "name": "stderr",
     "output_type": "stream",
     "text": [
      " 56%|███████████████████████████████████████████▎                                 | 8801/15640 [12:03<10:46, 10.58it/s]"
     ]
    },
    {
     "name": "stdout",
     "output_type": "stream",
     "text": [
      "epoch: 1, batch id: 8801, loss: 1.7618780136108398, train acc: 0.3287126462901943\n"
     ]
    },
    {
     "name": "stderr",
     "output_type": "stream",
     "text": [
      " 58%|████████████████████████████████████████████▎                                | 9002/15640 [12:20<09:00, 12.29it/s]"
     ]
    },
    {
     "name": "stdout",
     "output_type": "stream",
     "text": [
      "epoch: 1, batch id: 9001, loss: 1.6113612651824951, train acc: 0.32982446394845016\n"
     ]
    },
    {
     "name": "stderr",
     "output_type": "stream",
     "text": [
      " 59%|█████████████████████████████████████████████▎                               | 9203/15640 [12:38<08:12, 13.08it/s]"
     ]
    },
    {
     "name": "stdout",
     "output_type": "stream",
     "text": [
      "epoch: 1, batch id: 9201, loss: 2.2073609828948975, train acc: 0.33083360504293013\n"
     ]
    },
    {
     "name": "stderr",
     "output_type": "stream",
     "text": [
      " 60%|██████████████████████████████████████████████▎                              | 9403/15640 [12:53<07:11, 14.44it/s]"
     ]
    },
    {
     "name": "stdout",
     "output_type": "stream",
     "text": [
      "epoch: 1, batch id: 9401, loss: 3.3381311893463135, train acc: 0.33124135730241466\n"
     ]
    },
    {
     "name": "stderr",
     "output_type": "stream",
     "text": [
      " 61%|███████████████████████████████████████████████▎                             | 9602/15640 [13:10<07:36, 13.23it/s]"
     ]
    },
    {
     "name": "stdout",
     "output_type": "stream",
     "text": [
      "epoch: 1, batch id: 9601, loss: 1.8594939708709717, train acc: 0.3331944589105302\n"
     ]
    },
    {
     "name": "stderr",
     "output_type": "stream",
     "text": [
      " 63%|████████████████████████████████████████████████▎                            | 9802/15640 [13:27<09:42, 10.02it/s]"
     ]
    },
    {
     "name": "stdout",
     "output_type": "stream",
     "text": [
      "epoch: 1, batch id: 9801, loss: 1.9502155780792236, train acc: 0.3338179777573717\n"
     ]
    },
    {
     "name": "stderr",
     "output_type": "stream",
     "text": [
      " 64%|████████████████████████████████████████████████▌                           | 10002/15640 [13:43<08:20, 11.27it/s]"
     ]
    },
    {
     "name": "stdout",
     "output_type": "stream",
     "text": [
      "epoch: 1, batch id: 10001, loss: 1.4844577312469482, train acc: 0.3344915508449155\n"
     ]
    },
    {
     "name": "stderr",
     "output_type": "stream",
     "text": [
      " 65%|█████████████████████████████████████████████████▌                          | 10202/15640 [14:00<08:46, 10.33it/s]"
     ]
    },
    {
     "name": "stdout",
     "output_type": "stream",
     "text": [
      "epoch: 1, batch id: 10201, loss: 1.483496069908142, train acc: 0.3354818155082835\n"
     ]
    },
    {
     "name": "stderr",
     "output_type": "stream",
     "text": [
      " 67%|██████████████████████████████████████████████████▌                         | 10402/15640 [14:16<07:01, 12.44it/s]"
     ]
    },
    {
     "name": "stdout",
     "output_type": "stream",
     "text": [
      "epoch: 1, batch id: 10401, loss: 1.9280543327331543, train acc: 0.33578502067108934\n"
     ]
    },
    {
     "name": "stderr",
     "output_type": "stream",
     "text": [
      " 68%|███████████████████████████████████████████████████▌                        | 10603/15640 [14:33<06:12, 13.53it/s]"
     ]
    },
    {
     "name": "stdout",
     "output_type": "stream",
     "text": [
      "epoch: 1, batch id: 10601, loss: 2.837447166442871, train acc: 0.3363833600603717\n"
     ]
    },
    {
     "name": "stderr",
     "output_type": "stream",
     "text": [
      " 69%|████████████████████████████████████████████████████▍                       | 10803/15640 [14:49<06:22, 12.64it/s]"
     ]
    },
    {
     "name": "stdout",
     "output_type": "stream",
     "text": [
      "epoch: 1, batch id: 10801, loss: 1.9117681980133057, train acc: 0.3373298768632534\n"
     ]
    },
    {
     "name": "stderr",
     "output_type": "stream",
     "text": [
      " 70%|█████████████████████████████████████████████████████▍                      | 11002/15640 [15:06<05:54, 13.09it/s]"
     ]
    },
    {
     "name": "stdout",
     "output_type": "stream",
     "text": [
      "epoch: 1, batch id: 11001, loss: 2.5293726921081543, train acc: 0.33785564948641034\n"
     ]
    },
    {
     "name": "stderr",
     "output_type": "stream",
     "text": [
      " 72%|██████████████████████████████████████████████████████▍                     | 11202/15640 [15:21<06:23, 11.56it/s]"
     ]
    },
    {
     "name": "stdout",
     "output_type": "stream",
     "text": [
      "epoch: 1, batch id: 11201, loss: 1.0469824075698853, train acc: 0.33842960449959825\n"
     ]
    },
    {
     "name": "stderr",
     "output_type": "stream",
     "text": [
      " 73%|███████████████████████████████████████████████████████▍                    | 11402/15640 [15:38<05:51, 12.06it/s]"
     ]
    },
    {
     "name": "stdout",
     "output_type": "stream",
     "text": [
      "epoch: 1, batch id: 11401, loss: 1.745417594909668, train acc: 0.3394877642312078\n"
     ]
    },
    {
     "name": "stderr",
     "output_type": "stream",
     "text": [
      " 74%|████████████████████████████████████████████████████████▎                   | 11601/15640 [15:55<06:48,  9.90it/s]"
     ]
    },
    {
     "name": "stdout",
     "output_type": "stream",
     "text": [
      "epoch: 1, batch id: 11601, loss: 0.8167910575866699, train acc: 0.34078958710456\n"
     ]
    },
    {
     "name": "stderr",
     "output_type": "stream",
     "text": [
      " 75%|█████████████████████████████████████████████████████████▎                  | 11803/15640 [16:11<04:34, 13.98it/s]"
     ]
    },
    {
     "name": "stdout",
     "output_type": "stream",
     "text": [
      "epoch: 1, batch id: 11801, loss: 2.153538227081299, train acc: 0.34156003728497586\n"
     ]
    },
    {
     "name": "stderr",
     "output_type": "stream",
     "text": [
      " 77%|██████████████████████████████████████████████████████████▎                 | 12003/15640 [16:27<04:36, 13.14it/s]"
     ]
    },
    {
     "name": "stdout",
     "output_type": "stream",
     "text": [
      "epoch: 1, batch id: 12001, loss: 1.8185888528823853, train acc: 0.34203399716690275\n"
     ]
    },
    {
     "name": "stderr",
     "output_type": "stream",
     "text": [
      " 78%|███████████████████████████████████████████████████████████▎                | 12201/15640 [16:44<05:13, 10.98it/s]"
     ]
    },
    {
     "name": "stdout",
     "output_type": "stream",
     "text": [
      "epoch: 1, batch id: 12201, loss: 2.3973724842071533, train acc: 0.3426973198918121\n"
     ]
    },
    {
     "name": "stderr",
     "output_type": "stream",
     "text": [
      " 79%|████████████████████████████████████████████████████████████▎               | 12403/15640 [17:00<03:52, 13.92it/s]"
     ]
    },
    {
     "name": "stdout",
     "output_type": "stream",
     "text": [
      "epoch: 1, batch id: 12401, loss: 1.1702300310134888, train acc: 0.34380291911942584\n"
     ]
    },
    {
     "name": "stderr",
     "output_type": "stream",
     "text": [
      " 81%|█████████████████████████████████████████████████████████████▏              | 12602/15640 [17:16<04:38, 10.91it/s]"
     ]
    },
    {
     "name": "stdout",
     "output_type": "stream",
     "text": [
      "epoch: 1, batch id: 12601, loss: 2.543942928314209, train acc: 0.34435759066740734\n"
     ]
    },
    {
     "name": "stderr",
     "output_type": "stream",
     "text": [
      " 82%|██████████████████████████████████████████████████████████████▏             | 12802/15640 [17:33<03:47, 12.45it/s]"
     ]
    },
    {
     "name": "stdout",
     "output_type": "stream",
     "text": [
      "epoch: 1, batch id: 12801, loss: 1.078452229499817, train acc: 0.34505116787750956\n"
     ]
    },
    {
     "name": "stderr",
     "output_type": "stream",
     "text": [
      " 83%|███████████████████████████████████████████████████████████████▏            | 13002/15640 [17:49<03:16, 13.46it/s]"
     ]
    },
    {
     "name": "stdout",
     "output_type": "stream",
     "text": [
      "epoch: 1, batch id: 13001, loss: 1.6297571659088135, train acc: 0.34568494731174526\n"
     ]
    },
    {
     "name": "stderr",
     "output_type": "stream",
     "text": [
      " 84%|████████████████████████████████████████████████████████████████▏           | 13202/15640 [18:05<03:13, 12.60it/s]"
     ]
    },
    {
     "name": "stdout",
     "output_type": "stream",
     "text": [
      "epoch: 1, batch id: 13201, loss: 4.272177219390869, train acc: 0.34622377092644496\n"
     ]
    },
    {
     "name": "stderr",
     "output_type": "stream",
     "text": [
      " 86%|█████████████████████████████████████████████████████████████████           | 13402/15640 [18:22<03:16, 11.39it/s]"
     ]
    },
    {
     "name": "stdout",
     "output_type": "stream",
     "text": [
      "epoch: 1, batch id: 13401, loss: 2.3703773021698, train acc: 0.3469703753451235\n"
     ]
    },
    {
     "name": "stderr",
     "output_type": "stream",
     "text": [
      " 87%|██████████████████████████████████████████████████████████████████          | 13602/15640 [18:38<03:06, 10.94it/s]"
     ]
    },
    {
     "name": "stdout",
     "output_type": "stream",
     "text": [
      "epoch: 1, batch id: 13601, loss: 1.5284205675125122, train acc: 0.34767664142342475\n"
     ]
    },
    {
     "name": "stderr",
     "output_type": "stream",
     "text": [
      " 88%|███████████████████████████████████████████████████████████████████         | 13802/15640 [18:55<02:35, 11.81it/s]"
     ]
    },
    {
     "name": "stdout",
     "output_type": "stream",
     "text": [
      "epoch: 1, batch id: 13801, loss: 1.9884403944015503, train acc: 0.3481994058401565\n"
     ]
    },
    {
     "name": "stderr",
     "output_type": "stream",
     "text": [
      " 90%|████████████████████████████████████████████████████████████████████        | 14003/15640 [19:12<02:36, 10.46it/s]"
     ]
    },
    {
     "name": "stdout",
     "output_type": "stream",
     "text": [
      "epoch: 1, batch id: 14001, loss: 2.2928261756896973, train acc: 0.3485643882579816\n"
     ]
    },
    {
     "name": "stderr",
     "output_type": "stream",
     "text": [
      " 91%|█████████████████████████████████████████████████████████████████████       | 14203/15640 [19:28<01:41, 14.17it/s]"
     ]
    },
    {
     "name": "stdout",
     "output_type": "stream",
     "text": [
      "epoch: 1, batch id: 14201, loss: 0.5309339761734009, train acc: 0.34930638687416377\n"
     ]
    },
    {
     "name": "stderr",
     "output_type": "stream",
     "text": [
      " 92%|█████████████████████████████████████████████████████████████████████▉      | 14403/15640 [19:45<01:32, 13.37it/s]"
     ]
    },
    {
     "name": "stdout",
     "output_type": "stream",
     "text": [
      "epoch: 1, batch id: 14401, loss: 0.7991712689399719, train acc: 0.3503402541490174\n"
     ]
    },
    {
     "name": "stderr",
     "output_type": "stream",
     "text": [
      " 93%|██████████████████████████████████████████████████████████████████████▉     | 14603/15640 [20:01<01:22, 12.54it/s]"
     ]
    },
    {
     "name": "stdout",
     "output_type": "stream",
     "text": [
      "epoch: 1, batch id: 14601, loss: 1.973130464553833, train acc: 0.35095198958975415\n"
     ]
    },
    {
     "name": "stderr",
     "output_type": "stream",
     "text": [
      " 95%|███████████████████████████████████████████████████████████████████████▉    | 14802/15640 [20:18<00:59, 13.98it/s]"
     ]
    },
    {
     "name": "stdout",
     "output_type": "stream",
     "text": [
      "epoch: 1, batch id: 14801, loss: 1.4011927843093872, train acc: 0.3515134112559962\n"
     ]
    },
    {
     "name": "stderr",
     "output_type": "stream",
     "text": [
      " 96%|████████████████████████████████████████████████████████████████████████▉   | 15002/15640 [20:34<01:10,  9.08it/s]"
     ]
    },
    {
     "name": "stdout",
     "output_type": "stream",
     "text": [
      "epoch: 1, batch id: 15001, loss: 1.3850641250610352, train acc: 0.35222651823211787\n"
     ]
    },
    {
     "name": "stderr",
     "output_type": "stream",
     "text": [
      " 97%|█████████████████████████████████████████████████████████████████████████▊  | 15202/15640 [20:51<00:34, 12.55it/s]"
     ]
    },
    {
     "name": "stdout",
     "output_type": "stream",
     "text": [
      "epoch: 1, batch id: 15201, loss: 1.7076590061187744, train acc: 0.35297019932899154\n"
     ]
    },
    {
     "name": "stderr",
     "output_type": "stream",
     "text": [
      " 98%|██████████████████████████████████████████████████████████████████████████▊ | 15402/15640 [21:08<00:18, 13.18it/s]"
     ]
    },
    {
     "name": "stdout",
     "output_type": "stream",
     "text": [
      "epoch: 1, batch id: 15401, loss: 3.1067214012145996, train acc: 0.3535322381663528\n"
     ]
    },
    {
     "name": "stderr",
     "output_type": "stream",
     "text": [
      "100%|███████████████████████████████████████████████████████████████████████████▊| 15602/15640 [21:23<00:02, 14.12it/s]"
     ]
    },
    {
     "name": "stdout",
     "output_type": "stream",
     "text": [
      "epoch: 1, batch id: 15601, loss: 1.233143925666809, train acc: 0.35412794051663354\n"
     ]
    },
    {
     "name": "stderr",
     "output_type": "stream",
     "text": [
      "100%|████████████████████████████████████████████████████████████████████████████| 15640/15640 [21:26<00:00, 12.16it/s]\n",
      "  0%|                                                                                 | 5/3910 [00:00<01:24, 46.27it/s]"
     ]
    },
    {
     "name": "stdout",
     "output_type": "stream",
     "text": [
      "epoch: 1, train acc: 0.35429987212276215\n"
     ]
    },
    {
     "name": "stderr",
     "output_type": "stream",
     "text": [
      "100%|██████████████████████████████████████████████████████████████████████████████| 3910/3910 [00:56<00:00, 69.35it/s]\n",
      "  0%|                                                                                | 2/15640 [00:00<18:14, 14.28it/s]"
     ]
    },
    {
     "name": "stdout",
     "output_type": "stream",
     "text": [
      "epoch: 1, test acc: 0.4108695652173913\n",
      "epoch: 2, batch id: 1, loss: 1.3945467472076416, train acc: 0.5\n"
     ]
    },
    {
     "name": "stderr",
     "output_type": "stream",
     "text": [
      "  1%|█                                                                             | 201/15640 [00:17<25:59,  9.90it/s]"
     ]
    },
    {
     "name": "stdout",
     "output_type": "stream",
     "text": [
      "epoch: 2, batch id: 201, loss: 1.9479695558547974, train acc: 0.40298507462686567\n"
     ]
    },
    {
     "name": "stderr",
     "output_type": "stream",
     "text": [
      "  3%|██                                                                            | 403/15640 [00:33<17:50, 14.23it/s]"
     ]
    },
    {
     "name": "stdout",
     "output_type": "stream",
     "text": [
      "epoch: 2, batch id: 401, loss: 2.4828946590423584, train acc: 0.4021197007481297\n"
     ]
    },
    {
     "name": "stderr",
     "output_type": "stream",
     "text": [
      "  4%|███                                                                           | 603/15640 [00:49<18:42, 13.40it/s]"
     ]
    },
    {
     "name": "stdout",
     "output_type": "stream",
     "text": [
      "epoch: 2, batch id: 601, loss: 2.081570863723755, train acc: 0.40931780366056575\n"
     ]
    },
    {
     "name": "stderr",
     "output_type": "stream",
     "text": [
      "  5%|████                                                                          | 803/15640 [01:05<18:33, 13.32it/s]"
     ]
    },
    {
     "name": "stdout",
     "output_type": "stream",
     "text": [
      "epoch: 2, batch id: 801, loss: 1.2131773233413696, train acc: 0.4085518102372035\n"
     ]
    },
    {
     "name": "stderr",
     "output_type": "stream",
     "text": [
      "  6%|████▉                                                                        | 1003/15640 [01:22<18:33, 13.15it/s]"
     ]
    },
    {
     "name": "stdout",
     "output_type": "stream",
     "text": [
      "epoch: 2, batch id: 1001, loss: 2.0278873443603516, train acc: 0.40409590409590407\n"
     ]
    },
    {
     "name": "stderr",
     "output_type": "stream",
     "text": [
      "  8%|█████▉                                                                       | 1201/15640 [01:38<23:09, 10.39it/s]"
     ]
    },
    {
     "name": "stdout",
     "output_type": "stream",
     "text": [
      "epoch: 2, batch id: 1201, loss: 2.4686062335968018, train acc: 0.40903413821815154\n"
     ]
    },
    {
     "name": "stderr",
     "output_type": "stream",
     "text": [
      "  9%|██████▉                                                                      | 1403/15640 [01:55<20:27, 11.60it/s]"
     ]
    },
    {
     "name": "stdout",
     "output_type": "stream",
     "text": [
      "epoch: 2, batch id: 1401, loss: 0.9865354895591736, train acc: 0.4054246966452534\n"
     ]
    },
    {
     "name": "stderr",
     "output_type": "stream",
     "text": [
      " 10%|███████▉                                                                     | 1603/15640 [02:13<17:57, 13.03it/s]"
     ]
    },
    {
     "name": "stdout",
     "output_type": "stream",
     "text": [
      "epoch: 2, batch id: 1601, loss: 3.132720470428467, train acc: 0.40677701436602126\n"
     ]
    },
    {
     "name": "stderr",
     "output_type": "stream",
     "text": [
      " 12%|████████▉                                                                    | 1803/15640 [02:28<16:03, 14.37it/s]"
     ]
    },
    {
     "name": "stdout",
     "output_type": "stream",
     "text": [
      "epoch: 2, batch id: 1801, loss: 3.021733045578003, train acc: 0.40685730149916716\n"
     ]
    },
    {
     "name": "stderr",
     "output_type": "stream",
     "text": [
      " 13%|█████████▊                                                                   | 2002/15640 [02:45<17:08, 13.26it/s]"
     ]
    },
    {
     "name": "stdout",
     "output_type": "stream",
     "text": [
      "epoch: 2, batch id: 2001, loss: 1.3057390451431274, train acc: 0.4065467266366817\n"
     ]
    },
    {
     "name": "stderr",
     "output_type": "stream",
     "text": [
      " 14%|██████████▊                                                                  | 2202/15640 [03:02<22:34,  9.92it/s]"
     ]
    },
    {
     "name": "stdout",
     "output_type": "stream",
     "text": [
      "epoch: 2, batch id: 2201, loss: 2.878096580505371, train acc: 0.4075420263516583\n"
     ]
    },
    {
     "name": "stderr",
     "output_type": "stream",
     "text": [
      " 15%|███████████▊                                                                 | 2402/15640 [03:19<18:53, 11.67it/s]"
     ]
    },
    {
     "name": "stdout",
     "output_type": "stream",
     "text": [
      "epoch: 2, batch id: 2401, loss: 2.4054791927337646, train acc: 0.4080591420241566\n"
     ]
    },
    {
     "name": "stderr",
     "output_type": "stream",
     "text": [
      " 17%|████████████▊                                                                | 2602/15640 [03:36<22:07,  9.82it/s]"
     ]
    },
    {
     "name": "stdout",
     "output_type": "stream",
     "text": [
      "epoch: 2, batch id: 2601, loss: 1.1751011610031128, train acc: 0.4076316801230296\n"
     ]
    },
    {
     "name": "stderr",
     "output_type": "stream",
     "text": [
      " 18%|█████████████▊                                                               | 2802/15640 [03:52<16:18, 13.12it/s]"
     ]
    },
    {
     "name": "stdout",
     "output_type": "stream",
     "text": [
      "epoch: 2, batch id: 2801, loss: 1.244735598564148, train acc: 0.40797929310960374\n"
     ]
    },
    {
     "name": "stderr",
     "output_type": "stream",
     "text": [
      " 19%|██████████████▊                                                              | 3003/15640 [04:09<15:05, 13.96it/s]"
     ]
    },
    {
     "name": "stdout",
     "output_type": "stream",
     "text": [
      "epoch: 2, batch id: 3001, loss: 1.9487087726593018, train acc: 0.4080306564478507\n"
     ]
    },
    {
     "name": "stderr",
     "output_type": "stream",
     "text": [
      " 20%|███████████████▊                                                             | 3203/15640 [04:24<15:03, 13.76it/s]"
     ]
    },
    {
     "name": "stdout",
     "output_type": "stream",
     "text": [
      "epoch: 2, batch id: 3201, loss: 2.184830904006958, train acc: 0.40893470790378006\n"
     ]
    },
    {
     "name": "stderr",
     "output_type": "stream",
     "text": [
      " 22%|████████████████▊                                                            | 3403/15640 [04:41<17:39, 11.55it/s]"
     ]
    },
    {
     "name": "stdout",
     "output_type": "stream",
     "text": [
      "epoch: 2, batch id: 3401, loss: 2.7112021446228027, train acc: 0.4086298147603646\n"
     ]
    },
    {
     "name": "stderr",
     "output_type": "stream",
     "text": [
      " 23%|█████████████████▋                                                           | 3602/15640 [04:58<20:51,  9.62it/s]"
     ]
    },
    {
     "name": "stdout",
     "output_type": "stream",
     "text": [
      "epoch: 2, batch id: 3601, loss: 0.4334290325641632, train acc: 0.40974729241877256\n"
     ]
    },
    {
     "name": "stderr",
     "output_type": "stream",
     "text": [
      " 24%|██████████████████▋                                                          | 3803/15640 [05:14<17:17, 11.41it/s]"
     ]
    },
    {
     "name": "stdout",
     "output_type": "stream",
     "text": [
      "epoch: 2, batch id: 3801, loss: 1.1073251962661743, train acc: 0.4102867666403578\n"
     ]
    },
    {
     "name": "stderr",
     "output_type": "stream",
     "text": [
      " 26%|███████████████████▋                                                         | 4003/15640 [05:32<15:34, 12.45it/s]"
     ]
    },
    {
     "name": "stdout",
     "output_type": "stream",
     "text": [
      "epoch: 2, batch id: 4001, loss: 2.08813214302063, train acc: 0.4127093226693327\n"
     ]
    },
    {
     "name": "stderr",
     "output_type": "stream",
     "text": [
      " 27%|████████████████████▋                                                        | 4203/15640 [05:48<13:37, 13.99it/s]"
     ]
    },
    {
     "name": "stdout",
     "output_type": "stream",
     "text": [
      "epoch: 2, batch id: 4201, loss: 1.928961157798767, train acc: 0.4135324922637467\n"
     ]
    },
    {
     "name": "stderr",
     "output_type": "stream",
     "text": [
      " 28%|█████████████████████▋                                                       | 4403/15640 [06:04<14:02, 13.34it/s]"
     ]
    },
    {
     "name": "stdout",
     "output_type": "stream",
     "text": [
      "epoch: 2, batch id: 4401, loss: 3.2695751190185547, train acc: 0.4131447398318564\n"
     ]
    },
    {
     "name": "stderr",
     "output_type": "stream",
     "text": [
      " 29%|██████████████████████▋                                                      | 4602/15640 [06:21<20:26,  9.00it/s]"
     ]
    },
    {
     "name": "stdout",
     "output_type": "stream",
     "text": [
      "epoch: 2, batch id: 4601, loss: 1.3160830736160278, train acc: 0.41425777004998915\n"
     ]
    },
    {
     "name": "stderr",
     "output_type": "stream",
     "text": [
      " 31%|███████████████████████▋                                                     | 4803/15640 [06:38<16:09, 11.18it/s]"
     ]
    },
    {
     "name": "stdout",
     "output_type": "stream",
     "text": [
      "epoch: 2, batch id: 4801, loss: 2.144050359725952, train acc: 0.41449697979587585\n"
     ]
    },
    {
     "name": "stderr",
     "output_type": "stream",
     "text": [
      " 32%|████████████████████████▌                                                    | 5001/15640 [06:55<16:52, 10.51it/s]"
     ]
    },
    {
     "name": "stdout",
     "output_type": "stream",
     "text": [
      "epoch: 2, batch id: 5001, loss: 1.7307188510894775, train acc: 0.41421715656868624\n"
     ]
    },
    {
     "name": "stderr",
     "output_type": "stream",
     "text": [
      " 33%|█████████████████████████▌                                                   | 5202/15640 [07:11<14:24, 12.07it/s]"
     ]
    },
    {
     "name": "stdout",
     "output_type": "stream",
     "text": [
      "epoch: 2, batch id: 5201, loss: 1.0694621801376343, train acc: 0.41419919246298786\n"
     ]
    },
    {
     "name": "stderr",
     "output_type": "stream",
     "text": [
      " 35%|██████████████████████████▌                                                  | 5403/15640 [07:28<12:26, 13.70it/s]"
     ]
    },
    {
     "name": "stdout",
     "output_type": "stream",
     "text": [
      "epoch: 2, batch id: 5401, loss: 2.328127384185791, train acc: 0.4157563414182559\n"
     ]
    },
    {
     "name": "stderr",
     "output_type": "stream",
     "text": [
      " 36%|███████████████████████████▌                                                 | 5603/15640 [07:43<11:45, 14.22it/s]"
     ]
    },
    {
     "name": "stdout",
     "output_type": "stream",
     "text": [
      "epoch: 2, batch id: 5601, loss: 1.461138367652893, train acc: 0.41702374575968576\n"
     ]
    },
    {
     "name": "stderr",
     "output_type": "stream",
     "text": [
      " 37%|████████████████████████████▌                                                | 5803/15640 [08:00<12:52, 12.73it/s]"
     ]
    },
    {
     "name": "stdout",
     "output_type": "stream",
     "text": [
      "epoch: 2, batch id: 5801, loss: 0.939501941204071, train acc: 0.416910877434925\n"
     ]
    },
    {
     "name": "stderr",
     "output_type": "stream",
     "text": [
      " 38%|█████████████████████████████▌                                               | 6002/15640 [08:17<15:35, 10.30it/s]"
     ]
    },
    {
     "name": "stdout",
     "output_type": "stream",
     "text": [
      "epoch: 2, batch id: 6001, loss: 1.2186328172683716, train acc: 0.4167222129645059\n"
     ]
    },
    {
     "name": "stderr",
     "output_type": "stream",
     "text": [
      " 40%|██████████████████████████████▌                                              | 6203/15640 [08:34<12:12, 12.89it/s]"
     ]
    },
    {
     "name": "stdout",
     "output_type": "stream",
     "text": [
      "epoch: 2, batch id: 6201, loss: 2.446932315826416, train acc: 0.41779551685212063\n"
     ]
    },
    {
     "name": "stderr",
     "output_type": "stream",
     "text": [
      " 41%|███████████████████████████████▌                                             | 6402/15640 [08:51<15:17, 10.06it/s]"
     ]
    },
    {
     "name": "stdout",
     "output_type": "stream",
     "text": [
      "epoch: 2, batch id: 6401, loss: 2.315028429031372, train acc: 0.4182549601624746\n"
     ]
    },
    {
     "name": "stderr",
     "output_type": "stream",
     "text": [
      " 42%|████████████████████████████████▌                                            | 6602/15640 [09:07<10:14, 14.72it/s]"
     ]
    },
    {
     "name": "stdout",
     "output_type": "stream",
     "text": [
      "epoch: 2, batch id: 6601, loss: 2.7442879676818848, train acc: 0.41880018179063777\n"
     ]
    },
    {
     "name": "stderr",
     "output_type": "stream",
     "text": [
      " 43%|█████████████████████████████████▍                                           | 6803/15640 [09:23<10:40, 13.79it/s]"
     ]
    },
    {
     "name": "stdout",
     "output_type": "stream",
     "text": [
      "epoch: 2, batch id: 6801, loss: 1.7155091762542725, train acc: 0.4190560211733569\n"
     ]
    },
    {
     "name": "stderr",
     "output_type": "stream",
     "text": [
      " 45%|██████████████████████████████████▍                                          | 7003/15640 [09:39<11:14, 12.80it/s]"
     ]
    },
    {
     "name": "stdout",
     "output_type": "stream",
     "text": [
      "epoch: 2, batch id: 7001, loss: 1.8803596496582031, train acc: 0.4189758605913441\n"
     ]
    },
    {
     "name": "stderr",
     "output_type": "stream",
     "text": [
      " 46%|███████████████████████████████████▍                                         | 7202/15640 [09:56<12:30, 11.24it/s]"
     ]
    },
    {
     "name": "stdout",
     "output_type": "stream",
     "text": [
      "epoch: 2, batch id: 7201, loss: 2.0613815784454346, train acc: 0.4185182613525899\n"
     ]
    },
    {
     "name": "stderr",
     "output_type": "stream",
     "text": [
      " 47%|████████████████████████████████████▍                                        | 7402/15640 [10:13<13:28, 10.19it/s]"
     ]
    },
    {
     "name": "stdout",
     "output_type": "stream",
     "text": [
      "epoch: 2, batch id: 7401, loss: 0.9147982597351074, train acc: 0.41882853668423187\n"
     ]
    },
    {
     "name": "stderr",
     "output_type": "stream",
     "text": [
      " 49%|█████████████████████████████████████▍                                       | 7602/15640 [10:29<11:01, 12.16it/s]"
     ]
    },
    {
     "name": "stdout",
     "output_type": "stream",
     "text": [
      "epoch: 2, batch id: 7601, loss: 1.6181203126907349, train acc: 0.4198460728851467\n"
     ]
    },
    {
     "name": "stderr",
     "output_type": "stream",
     "text": [
      " 50%|██████████████████████████████████████▍                                      | 7802/15640 [10:47<10:07, 12.89it/s]"
     ]
    },
    {
     "name": "stdout",
     "output_type": "stream",
     "text": [
      "epoch: 2, batch id: 7801, loss: 1.0332086086273193, train acc: 0.4202025381361364\n"
     ]
    },
    {
     "name": "stderr",
     "output_type": "stream",
     "text": [
      " 51%|███████████████████████████████████████▍                                     | 8002/15640 [11:02<08:57, 14.21it/s]"
     ]
    },
    {
     "name": "stdout",
     "output_type": "stream",
     "text": [
      "epoch: 2, batch id: 8001, loss: 0.3093584477901459, train acc: 0.4207286589176353\n"
     ]
    },
    {
     "name": "stderr",
     "output_type": "stream",
     "text": [
      " 52%|████████████████████████████████████████▍                                    | 8203/15640 [11:19<09:17, 13.34it/s]"
     ]
    },
    {
     "name": "stdout",
     "output_type": "stream",
     "text": [
      "epoch: 2, batch id: 8201, loss: 1.9140816926956177, train acc: 0.4211986343128887\n"
     ]
    },
    {
     "name": "stderr",
     "output_type": "stream",
     "text": [
      " 54%|█████████████████████████████████████████▎                                   | 8401/15640 [11:36<11:00, 10.96it/s]"
     ]
    },
    {
     "name": "stdout",
     "output_type": "stream",
     "text": [
      "epoch: 2, batch id: 8401, loss: 1.9494397640228271, train acc: 0.4224794667301512\n"
     ]
    },
    {
     "name": "stderr",
     "output_type": "stream",
     "text": [
      " 55%|██████████████████████████████████████████▎                                  | 8603/15640 [11:53<09:02, 12.98it/s]"
     ]
    },
    {
     "name": "stdout",
     "output_type": "stream",
     "text": [
      "epoch: 2, batch id: 8601, loss: 0.786263644695282, train acc: 0.42279967445645855\n"
     ]
    },
    {
     "name": "stderr",
     "output_type": "stream",
     "text": [
      " 56%|███████████████████████████████████████████▎                                 | 8801/15640 [12:09<10:34, 10.78it/s]"
     ]
    },
    {
     "name": "stdout",
     "output_type": "stream",
     "text": [
      "epoch: 2, batch id: 8801, loss: 1.294402003288269, train acc: 0.42319054652880356\n"
     ]
    },
    {
     "name": "stderr",
     "output_type": "stream",
     "text": [
      " 58%|████████████████████████████████████████████▎                                | 9003/15640 [12:25<08:50, 12.51it/s]"
     ]
    },
    {
     "name": "stdout",
     "output_type": "stream",
     "text": [
      "epoch: 2, batch id: 9001, loss: 1.3457436561584473, train acc: 0.4242584157315854\n"
     ]
    },
    {
     "name": "stderr",
     "output_type": "stream",
     "text": [
      " 59%|█████████████████████████████████████████████▎                               | 9202/15640 [12:42<07:41, 13.96it/s]"
     ]
    },
    {
     "name": "stdout",
     "output_type": "stream",
     "text": [
      "epoch: 2, batch id: 9201, loss: 2.1634836196899414, train acc: 0.4247636126507988\n"
     ]
    },
    {
     "name": "stderr",
     "output_type": "stream",
     "text": [
      " 60%|██████████████████████████████████████████████▎                              | 9402/15640 [12:57<08:03, 12.90it/s]"
     ]
    },
    {
     "name": "stdout",
     "output_type": "stream",
     "text": [
      "epoch: 2, batch id: 9401, loss: 2.5168297290802, train acc: 0.42506116370598873\n"
     ]
    },
    {
     "name": "stderr",
     "output_type": "stream",
     "text": [
      " 61%|███████████████████████████████████████████████▎                             | 9603/15640 [13:15<08:37, 11.66it/s]"
     ]
    },
    {
     "name": "stdout",
     "output_type": "stream",
     "text": [
      "epoch: 2, batch id: 9601, loss: 0.8688086867332458, train acc: 0.42654410998854286\n"
     ]
    },
    {
     "name": "stderr",
     "output_type": "stream",
     "text": [
      " 63%|████████████████████████████████████████████████▎                            | 9801/15640 [13:31<09:50,  9.89it/s]"
     ]
    },
    {
     "name": "stdout",
     "output_type": "stream",
     "text": [
      "epoch: 2, batch id: 9801, loss: 2.5599582195281982, train acc: 0.42666564636261606\n"
     ]
    },
    {
     "name": "stderr",
     "output_type": "stream",
     "text": [
      " 64%|████████████████████████████████████████████████▌                           | 10002/15640 [13:47<07:44, 12.13it/s]"
     ]
    },
    {
     "name": "stdout",
     "output_type": "stream",
     "text": [
      "epoch: 2, batch id: 10001, loss: 1.6359505653381348, train acc: 0.4270822917708229\n"
     ]
    },
    {
     "name": "stderr",
     "output_type": "stream",
     "text": [
      " 65%|█████████████████████████████████████████████████▌                          | 10202/15640 [14:05<08:03, 11.24it/s]"
     ]
    },
    {
     "name": "stdout",
     "output_type": "stream",
     "text": [
      "epoch: 2, batch id: 10201, loss: 2.0116350650787354, train acc: 0.42802176257229685\n"
     ]
    },
    {
     "name": "stderr",
     "output_type": "stream",
     "text": [
      " 67%|██████████████████████████████████████████████████▌                         | 10402/15640 [14:20<06:12, 14.06it/s]"
     ]
    },
    {
     "name": "stdout",
     "output_type": "stream",
     "text": [
      "epoch: 2, batch id: 10401, loss: 2.5794177055358887, train acc: 0.4286366695510047\n"
     ]
    },
    {
     "name": "stderr",
     "output_type": "stream",
     "text": [
      " 68%|███████████████████████████████████████████████████▌                        | 10603/15640 [14:37<06:22, 13.16it/s]"
     ]
    },
    {
     "name": "stdout",
     "output_type": "stream",
     "text": [
      "epoch: 2, batch id: 10601, loss: 1.4501186609268188, train acc: 0.429251957362513\n"
     ]
    },
    {
     "name": "stderr",
     "output_type": "stream",
     "text": [
      " 69%|████████████████████████████████████████████████████▍                       | 10801/15640 [14:53<07:07, 11.32it/s]"
     ]
    },
    {
     "name": "stdout",
     "output_type": "stream",
     "text": [
      "epoch: 2, batch id: 10801, loss: 2.5718374252319336, train acc: 0.43037681696139246\n"
     ]
    },
    {
     "name": "stderr",
     "output_type": "stream",
     "text": [
      " 70%|█████████████████████████████████████████████████████▍                      | 11003/15640 [15:11<05:33, 13.89it/s]"
     ]
    },
    {
     "name": "stdout",
     "output_type": "stream",
     "text": [
      "epoch: 2, batch id: 11001, loss: 2.3420515060424805, train acc: 0.4307790200890828\n"
     ]
    },
    {
     "name": "stderr",
     "output_type": "stream",
     "text": [
      " 72%|██████████████████████████████████████████████████████▍                     | 11202/15640 [15:27<06:26, 11.49it/s]"
     ]
    },
    {
     "name": "stdout",
     "output_type": "stream",
     "text": [
      "epoch: 2, batch id: 11201, loss: 0.40584808588027954, train acc: 0.4312561378448353\n"
     ]
    },
    {
     "name": "stderr",
     "output_type": "stream",
     "text": [
      " 73%|███████████████████████████████████████████████████████▍                    | 11402/15640 [15:44<06:11, 11.42it/s]"
     ]
    },
    {
     "name": "stdout",
     "output_type": "stream",
     "text": [
      "epoch: 2, batch id: 11401, loss: 2.2332184314727783, train acc: 0.431760371897202\n"
     ]
    },
    {
     "name": "stderr",
     "output_type": "stream",
     "text": [
      " 74%|████████████████████████████████████████████████████████▍                   | 11602/15640 [16:01<05:00, 13.42it/s]"
     ]
    },
    {
     "name": "stdout",
     "output_type": "stream",
     "text": [
      "epoch: 2, batch id: 11601, loss: 0.971920907497406, train acc: 0.43282906645978797\n"
     ]
    },
    {
     "name": "stderr",
     "output_type": "stream",
     "text": [
      " 75%|█████████████████████████████████████████████████████████▎                  | 11802/15640 [16:16<04:31, 14.12it/s]"
     ]
    },
    {
     "name": "stdout",
     "output_type": "stream",
     "text": [
      "epoch: 2, batch id: 11801, loss: 1.9295976161956787, train acc: 0.43339547495974917\n"
     ]
    },
    {
     "name": "stderr",
     "output_type": "stream",
     "text": [
      " 77%|██████████████████████████████████████████████████████████▎                 | 12002/15640 [16:33<04:33, 13.29it/s]"
     ]
    },
    {
     "name": "stdout",
     "output_type": "stream",
     "text": [
      "epoch: 2, batch id: 12001, loss: 2.190340518951416, train acc: 0.4336305307891009\n"
     ]
    },
    {
     "name": "stderr",
     "output_type": "stream",
     "text": [
      " 78%|███████████████████████████████████████████████████████████▎                | 12202/15640 [16:50<05:27, 10.51it/s]"
     ]
    },
    {
     "name": "stdout",
     "output_type": "stream",
     "text": [
      "epoch: 2, batch id: 12201, loss: 2.6447410583496094, train acc: 0.4343086632243259\n"
     ]
    },
    {
     "name": "stderr",
     "output_type": "stream",
     "text": [
      " 79%|████████████████████████████████████████████████████████████▎               | 12401/15640 [17:07<04:29, 12.02it/s]"
     ]
    },
    {
     "name": "stdout",
     "output_type": "stream",
     "text": [
      "epoch: 2, batch id: 12401, loss: 1.6494566202163696, train acc: 0.43474316587371986\n"
     ]
    },
    {
     "name": "stderr",
     "output_type": "stream",
     "text": [
      " 81%|█████████████████████████████████████████████████████████████▏              | 12603/15640 [17:24<05:08,  9.84it/s]"
     ]
    },
    {
     "name": "stdout",
     "output_type": "stream",
     "text": [
      "epoch: 2, batch id: 12601, loss: 2.1618459224700928, train acc: 0.43508451710181734\n"
     ]
    },
    {
     "name": "stderr",
     "output_type": "stream",
     "text": [
      " 82%|██████████████████████████████████████████████████████████████▏             | 12803/15640 [17:40<03:19, 14.21it/s]"
     ]
    },
    {
     "name": "stdout",
     "output_type": "stream",
     "text": [
      "epoch: 2, batch id: 12801, loss: 0.9838250875473022, train acc: 0.4354542613858292\n"
     ]
    },
    {
     "name": "stderr",
     "output_type": "stream",
     "text": [
      " 83%|███████████████████████████████████████████████████████████████▏            | 13003/15640 [17:57<03:12, 13.72it/s]"
     ]
    },
    {
     "name": "stdout",
     "output_type": "stream",
     "text": [
      "epoch: 2, batch id: 13001, loss: 1.36307954788208, train acc: 0.4362164448888547\n"
     ]
    },
    {
     "name": "stderr",
     "output_type": "stream",
     "text": [
      " 84%|████████████████████████████████████████████████████████████████▏           | 13203/15640 [18:13<03:08, 12.91it/s]"
     ]
    },
    {
     "name": "stdout",
     "output_type": "stream",
     "text": [
      "epoch: 2, batch id: 13201, loss: 3.476532459259033, train acc: 0.4365957124460268\n"
     ]
    },
    {
     "name": "stderr",
     "output_type": "stream",
     "text": [
      " 86%|█████████████████████████████████████████████████████████████████           | 13401/15640 [18:30<03:15, 11.48it/s]"
     ]
    },
    {
     "name": "stdout",
     "output_type": "stream",
     "text": [
      "epoch: 2, batch id: 13401, loss: 1.9668827056884766, train acc: 0.43720617864338485\n"
     ]
    },
    {
     "name": "stderr",
     "output_type": "stream",
     "text": [
      " 87%|██████████████████████████████████████████████████████████████████          | 13602/15640 [18:46<02:57, 11.48it/s]"
     ]
    },
    {
     "name": "stdout",
     "output_type": "stream",
     "text": [
      "epoch: 2, batch id: 13601, loss: 1.389037013053894, train acc: 0.4377251672671127\n"
     ]
    },
    {
     "name": "stderr",
     "output_type": "stream",
     "text": [
      " 88%|███████████████████████████████████████████████████████████████████         | 13801/15640 [19:02<02:47, 11.00it/s]"
     ]
    },
    {
     "name": "stdout",
     "output_type": "stream",
     "text": [
      "epoch: 2, batch id: 13801, loss: 1.5948200225830078, train acc: 0.4386638649373234\n"
     ]
    },
    {
     "name": "stderr",
     "output_type": "stream",
     "text": [
      " 89%|████████████████████████████████████████████████████████████████████        | 13996/15640 [19:19<02:02, 13.43it/s]"
     ]
    }
   ],
   "source": [
    "train_history=[]\n",
    "test_history=[]\n",
    "loss_history=[]\n",
    "for e in range(num_epochs):\n",
    "    train_acc = 0.0\n",
    "    test_acc = 0.0\n",
    "    model.train()\n",
    "    for batch_id, (token_ids, valid_length, segment_ids, label) in enumerate(tqdm(train_dataloader)):\n",
    "        optimizer.zero_grad()\n",
    "        token_ids = token_ids.long().to(device)\n",
    "        segment_ids = segment_ids.long().to(device)\n",
    "        valid_length= valid_length\n",
    "        label = label.long().to(device)\n",
    "        out = model(token_ids, valid_length, segment_ids)\n",
    "         \n",
    "        loss = loss_fn(out, label)\n",
    "        loss.backward()\n",
    "        torch.nn.utils.clip_grad_norm_(model.parameters(), max_grad_norm)\n",
    "        optimizer.step()\n",
    "        scheduler.step()\n",
    "        train_acc += calc_accuracy(out, label)\n",
    "        if batch_id % log_interval == 0:\n",
    "            print(\"epoch: {}, batch id: {}, loss: {}, train acc: {}\".format(e+1, batch_id+1, loss.data.cpu().numpy(), train_acc / (batch_id+1)))\n",
    "            train_history.append(train_acc / (batch_id+1))\n",
    "            loss_history.append(loss.data.cpu().numpy())\n",
    "    print(\"epoch: {}, train acc: {}\".format(e+1, train_acc / (batch_id+1)))\n",
    "    \n",
    "    model.eval()\n",
    "    for batch_id, (token_ids, valid_length, segment_ids, label) in enumerate(tqdm(test_dataloader)):\n",
    "        token_ids = token_ids.long().to(device)\n",
    "        segment_ids = segment_ids.long().to(device)\n",
    "        valid_length= valid_length\n",
    "        label = label.long().to(device)\n",
    "        out = model(token_ids, valid_length, segment_ids)\n",
    "        test_acc += calc_accuracy(out, label)\n",
    "    print(\"epoch: {}, test acc: {}\".format(e+1, test_acc / (batch_id+1)))\n",
    "    test_history.append(test_acc / (batch_id+1))"
   ]
  },
  {
   "cell_type": "code",
   "execution_count": null,
   "metadata": {},
   "outputs": [],
   "source": [
    "def predict(predict_sentence):\n",
    "\n",
    "    data = [predict_sentence, '0']\n",
    "    dataset_another = [data]\n",
    "\n",
    "    another_test = BERTDataset(dataset_another, 0, 1, tok, vocab, max_len, True, False)\n",
    "    test_dataloader = torch.utils.data.DataLoader(another_test, batch_size=batch_size)\n",
    "    \n",
    "    model.eval()\n",
    "\n",
    "    for batch_id, (token_ids, valid_length, segment_ids, label) in enumerate(test_dataloader):\n",
    "        token_ids = token_ids.long().to(device)\n",
    "        segment_ids = segment_ids.long().to(device)\n",
    "\n",
    "        valid_length= valid_length\n",
    "        label = label.long().to(device)\n",
    "\n",
    "        out = model(token_ids, valid_length, segment_ids)\n",
    "\n",
    "\n",
    "        test_eval=[]\n",
    "        for i in out:\n",
    "            logits=i\n",
    "            logits = logits.detach().cpu().numpy()\n",
    "\n",
    "            if np.argmax(logits) == 0:\n",
    "                test_eval.append(\"탄2, 단2, 지2\")\n",
    "            elif np.argmax(logits) == 1:\n",
    "                test_eval.append(\"탄1, 단1, 지1\")\n",
    "            elif np.argmax(logits) == 2:\n",
    "                test_eval.append(\"탄0, 단0, 지0\")\n",
    "            else:\n",
    "                test_eval.append(\"응애\")\n",
    "        print(\">> \" + test_eval[0])"
   ]
  }
 ],
 "metadata": {
  "kernelspec": {
   "display_name": "Python 3",
   "language": "python",
   "name": "python3"
  },
  "language_info": {
   "codemirror_mode": {
    "name": "ipython",
    "version": 3
   },
   "file_extension": ".py",
   "mimetype": "text/x-python",
   "name": "python",
   "nbconvert_exporter": "python",
   "pygments_lexer": "ipython3",
   "version": "3.8.5"
  }
 },
 "nbformat": 4,
 "nbformat_minor": 4
}
