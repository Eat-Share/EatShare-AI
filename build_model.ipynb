{
 "cells": [
  {
   "cell_type": "code",
   "execution_count": 1,
   "metadata": {},
   "outputs": [],
   "source": [
    "import torch\n",
    "from torch import nn\n",
    "import torch.nn.functional as F\n",
    "import torch.optim as optim\n",
    "from torch.utils.data import Dataset, DataLoader\n",
    "\n",
    "from tqdm import tqdm\n",
    "from tqdm.notebook import tqdm as tqdm_notebook\n",
    "\n",
    "import pandas as pd\n",
    "import gluonnlp as nlp\n",
    "import numpy as np\n",
    "\n",
    "\n",
    "from transformers.optimization import get_cosine_schedule_with_warmup\n",
    "from transformers import BertModel\n",
    "from transformers import AdamW\n",
    "\n",
    "from kobert.pytorch_kobert import get_pytorch_kobert_model\n",
    "\n",
    "from kobert_hf.kobert_tokenizer import KoBERTTokenizer\n",
    "\n",
    "from PIL import Image\n",
    "import glob\n",
    "import cv2"
   ]
  },
  {
   "cell_type": "code",
   "execution_count": 15,
   "metadata": {},
   "outputs": [
    {
     "name": "stdout",
     "output_type": "stream",
     "text": [
      "using cached model. C:\\Users\\cpprh\\Documents\\GitHub\\EatShare-AI\\.cache\\kobert_v1.zip\n",
      "using cached model. C:\\Users\\cpprh\\Documents\\GitHub\\EatShare-AI\\.cache\\kobert_news_wiki_ko_cased-1087f8699e.spiece\n"
     ]
    },
    {
     "ename": "NameError",
     "evalue": "name 'tokenizer' is not defined",
     "output_type": "error",
     "traceback": [
      "\u001b[1;31m---------------------------------------------------------------------------\u001b[0m",
      "\u001b[1;31mNameError\u001b[0m                                 Traceback (most recent call last)",
      "\u001b[1;32m<ipython-input-15-24a399b1fd69>\u001b[0m in \u001b[0;36m<module>\u001b[1;34m\u001b[0m\n\u001b[0;32m      1\u001b[0m \u001b[0mbertmodel\u001b[0m\u001b[1;33m,\u001b[0m \u001b[0mvocab\u001b[0m \u001b[1;33m=\u001b[0m \u001b[0mget_pytorch_kobert_model\u001b[0m\u001b[1;33m(\u001b[0m\u001b[1;34m'C:\\\\Users\\\\cpprh/.cache\\\\huggingface\\\\transformers'\u001b[0m\u001b[1;33m,\u001b[0m \u001b[1;34m'.cache'\u001b[0m\u001b[1;33m)\u001b[0m\u001b[1;33m\u001b[0m\u001b[1;33m\u001b[0m\u001b[0m\n\u001b[1;32m----> 2\u001b[1;33m \u001b[0mtok\u001b[0m\u001b[1;33m=\u001b[0m\u001b[0mtokenizer\u001b[0m\u001b[1;33m.\u001b[0m\u001b[0mtokenize\u001b[0m\u001b[1;33m\u001b[0m\u001b[1;33m\u001b[0m\u001b[0m\n\u001b[0m",
      "\u001b[1;31mNameError\u001b[0m: name 'tokenizer' is not defined"
     ]
    }
   ],
   "source": [
    "bertmodel, vocab = get_pytorch_kobert_model('C:\\\\Users\\\\cpprh/.cache\\\\huggingface\\\\transformers', '.cache')"
   ]
  },
  {
   "cell_type": "code",
   "execution_count": 19,
   "metadata": {},
   "outputs": [],
   "source": [
    "from kobert_hf.kobert_tokenizer import KoBERTTokenizer\n",
    "tokenizer = KoBERTTokenizer.from_pretrained('skt/kobert-base-v1')\n",
    "tok=tokenizer.tokenize"
   ]
  },
  {
   "cell_type": "code",
   "execution_count": null,
   "metadata": {},
   "outputs": [],
   "source": [
    "class BERTDataset(Dataset):\n",
    "    def __init__(self, dataset, sent_idx, label_idx, bert_tokenizer,vocab, max_len,\n",
    "                 pad, pair):\n",
    "        transform = nlp.data.BERTSentenceTransform(bert_tokenizer, max_seq_length=max_len,vocab=vocab, pad=pad, pair=pair)\n",
    "        \n",
    "        self.sentences = [transform([i[sent_idx]]) for i in dataset]\n",
    "        self.labels = [np.int32(i[label_idx]) for i in dataset]\n",
    "\n",
    "    def __getitem__(self, i):\n",
    "        return (self.sentences[i] + (self.labels[i], ))\n",
    "         \n",
    "\n",
    "    def __len__(self):\n",
    "        return (len(self.labels))"
   ]
  },
  {
   "cell_type": "code",
   "execution_count": null,
   "metadata": {},
   "outputs": [],
   "source": [
    "class BERTClassifier(nn.Module):\n",
    "    def __init__(self,\n",
    "                 bert,\n",
    "                 hidden_size = 768,\n",
    "                 num_classes=7,\n",
    "                 dr_rate=None,\n",
    "                 params=None):\n",
    "        super(BERTClassifier, self).__init__()\n",
    "        self.bert = bert\n",
    "        self.dr_rate = dr_rate\n",
    "                 \n",
    "        self.classifier = nn.Linear(hidden_size , num_classes)\n",
    "        if dr_rate:\n",
    "            self.dropout = nn.Dropout(p=dr_rate)\n",
    "    \n",
    "    def gen_attention_mask(self, token_ids, valid_length):\n",
    "        attention_mask = torch.zeros_like(token_ids)\n",
    "        for i, v in enumerate(valid_length):\n",
    "            attention_mask[i][:v] = 1\n",
    "        return attention_mask.float()\n",
    "\n",
    "    def forward(self, token_ids, valid_length, segment_ids):\n",
    "        attention_mask = self.gen_attention_mask(token_ids, valid_length)\n",
    "        \n",
    "        _, pooler = self.bert(input_ids = token_ids, token_type_ids = segment_ids.long(), attention_mask = attention_mask.float().to(token_ids.device),return_dict=False)\n",
    "        if self.dr_rate:\n",
    "            out = self.dropout(pooler)\n",
    "        return self.classifier(out)"
   ]
  },
  {
   "cell_type": "code",
   "execution_count": 23,
   "metadata": {},
   "outputs": [
    {
     "data": {
      "text/plain": [
       "<All keys matched successfully>"
      ]
     },
     "execution_count": 23,
     "metadata": {},
     "output_type": "execute_result"
    }
   ],
   "source": [
    "device = torch.device(\"cuda:0\")\n",
    "\n",
    "max_len = 64\n",
    "batch_size = 4\n",
    "warmup_ratio = 0.1\n",
    "num_epochs = 5  \n",
    "max_grad_norm = 1\n",
    "log_interval = 200\n",
    "learning_rate =  5e-5\n",
    "\n",
    "## 학습 모델 로드\n",
    "PATH = './model/'\n",
    "model = torch.load(PATH + 'KoBERT_test.pt')  # 전체 모델을 통째로 불러옴, 클래스 선언 필수\n",
    "model.load_state_dict(torch.load(PATH + 'model_state_dict.pt'))  # state_dict를 불러 온 후, 모델에 저장"
   ]
  },
  {
   "cell_type": "code",
   "execution_count": 26,
   "metadata": {},
   "outputs": [],
   "source": [
    "def predict(predict_sentence):\n",
    "\n",
    "    data = [predict_sentence, '0']\n",
    "    dataset_another = [data]\n",
    "\n",
    "    another_test = BERTDataset(dataset_another, 0, 1, tok, vocab, max_len, True, False)\n",
    "    test_dataloader = torch.utils.data.DataLoader(another_test, batch_size=batch_size)\n",
    "    \n",
    "    model.eval()\n",
    "\n",
    "    for batch_id, (token_ids, valid_length, segment_ids, label) in enumerate(test_dataloader):\n",
    "        token_ids = token_ids.long().to(device)\n",
    "        segment_ids = segment_ids.long().to(device)\n",
    "\n",
    "        valid_length= valid_length\n",
    "        label = label.long().to(device)\n",
    "\n",
    "        out = model(token_ids, valid_length, segment_ids)\n",
    "\n",
    "\n",
    "        test_eval=[]\n",
    "        for i in out:\n",
    "            logits=i\n",
    "            logits = logits.detach().cpu().numpy()\n",
    "\n",
    "            if np.argmax(logits) == 0:\n",
    "                test_eval.append(\"탄2, 단2, 지2\")\n",
    "            elif np.argmax(logits) == 1:\n",
    "                test_eval.append(\"탄1, 단1, 지1\")\n",
    "            elif np.argmax(logits) == 2:\n",
    "                test_eval.append(\"탄0, 단0, 지0\")\n",
    "            elif np.argmax(logits) == 3:\n",
    "                test_eval.append(\"탄0, 단0, 지1\")\n",
    "            elif np.argmax(logits) == 4:\n",
    "                test_eval.append(\"탄0, 단1, 지0\")\n",
    "            elif np.argmax(logits) == 5:\n",
    "                test_eval.append(\"탄1, 단0, 지0\")\n",
    "            elif np.argmax(logits) == 6:\n",
    "                test_eval.append(\"탄0, 단1, 지1\")\n",
    "            elif np.argmax(logits) == 7:\n",
    "                test_eval.append(\"탄1, 단0, 지1\")\n",
    "            elif np.argmax(logits) == 8:\n",
    "                test_eval.append(\"탄1, 단1, 지0\")\n",
    "            elif np.argmax(logits) == 9:\n",
    "                test_eval.append(\"탄0, 단0, 지2\")\n",
    "            elif np.argmax(logits) == 10:\n",
    "                test_eval.append(\"탄0, 단2, 지0\")\n",
    "            elif np.argmax(logits) == 11:\n",
    "                test_eval.append(\"탄2, 단0, 지0\")\n",
    "            elif np.argmax(logits) == 12:\n",
    "                test_eval.append(\"탄0, 단1, 지2\")\n",
    "            elif np.argmax(logits) == 13:\n",
    "                test_eval.append(\"탄1, 단0, 지2\")\n",
    "            elif np.argmax(logits) == 14:\n",
    "                test_eval.append(\"탄0, 단2, 지1\")\n",
    "            elif np.argmax(logits) == 15:\n",
    "                test_eval.append(\"탄2, 단0, 지1\")\n",
    "            elif np.argmax(logits) == 16:\n",
    "                test_eval.append(\"탄2, 단1, 지0\")\n",
    "            elif np.argmax(logits) == 17:\n",
    "                test_eval.append(\"탄1, 단2, 지0\")\n",
    "            elif np.argmax(logits) == 18:\n",
    "                test_eval.append(\"탄1, 단1, 지2\")\n",
    "            elif np.argmax(logits) == 19:\n",
    "                test_eval.append(\"탄1, 단2, 지1\")\n",
    "            elif np.argmax(logits) == 20:\n",
    "                test_eval.append(\"탄2, 단1, 지1\")\n",
    "            elif np.argmax(logits) == 21:\n",
    "                test_eval.append(\"탄1, 단2, 지2\")\n",
    "            elif np.argmax(logits) == 22:\n",
    "                test_eval.append(\"탄2, 단1, 지2\")\n",
    "            elif np.argmax(logits) == 23:\n",
    "                test_eval.append(\"탄2, 단2, 지1\")\n",
    "            elif np.argmax(logits) == 24:\n",
    "                test_eval.append(\"탄0, 단2, 지2\")\n",
    "            elif np.argmax(logits) == 25:\n",
    "                test_eval.append(\"탄2, 단0, 지2\")\n",
    "            elif np.argmax(logits) == 26:\n",
    "                test_eval.append(\"탄2, 단2, 지0\")\n",
    "            else:\n",
    "                test_eval.append(\"응애\")\n",
    "        print(\">> \" + test_eval[0])"
   ]
  },
  {
   "cell_type": "code",
   "execution_count": 27,
   "metadata": {},
   "outputs": [
    {
     "name": "stdout",
     "output_type": "stream",
     "text": [
      "내용 : 라면\n",
      ">> 탄2, 단0, 지2\n",
      "\n",
      "내용 : 우동\n",
      ">> 탄2, 단0, 지0\n",
      "\n",
      "내용 : 짬뽕\n",
      ">> 탄2, 단1, 지2\n",
      "\n",
      "내용 : 계란\n",
      ">> 탄0, 단1, 지1\n",
      "\n",
      "내용 : 비빔밥\n",
      ">> 탄2, 단1, 지2\n",
      "\n",
      "내용 : \n"
     ]
    }
   ],
   "source": [
    "while True :\n",
    "    sentence = input(\"내용 : \")\n",
    "    if sentence == \"\" :\n",
    "        break\n",
    "    predict(sentence)\n",
    "    print()"
   ]
  },
  {
   "cell_type": "code",
   "execution_count": null,
   "metadata": {},
   "outputs": [],
   "source": []
  }
 ],
 "metadata": {
  "kernelspec": {
   "display_name": "Python 3",
   "language": "python",
   "name": "python3"
  },
  "language_info": {
   "codemirror_mode": {
    "name": "ipython",
    "version": 3
   },
   "file_extension": ".py",
   "mimetype": "text/x-python",
   "name": "python",
   "nbconvert_exporter": "python",
   "pygments_lexer": "ipython3",
   "version": "3.8.5"
  }
 },
 "nbformat": 4,
 "nbformat_minor": 4
}
