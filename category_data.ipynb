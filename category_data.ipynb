{
 "cells": [
  {
   "cell_type": "code",
   "execution_count": 1,
   "metadata": {},
   "outputs": [],
   "source": [
    "import pandas as pd\n",
    "import json\n",
    "import textrank\n",
    "from konlpy.tag import Komoran\n",
    "\n",
    "komoran = Komoran()\n",
    "def komoran_tokenizer(sent):\n",
    "    words = komoran.pos(sent, join=True)\n",
    "    #words = [w for w in words if ('/NN' in w or '/XR' in w or '/VA' in w or '/VV' in w)]\n",
    "    words = [w for w in words if ('/NNP' in w)]\n",
    "    return words"
   ]
  },
  {
   "cell_type": "code",
   "execution_count": 2,
   "metadata": {},
   "outputs": [],
   "source": [
    "df = pd.read_csv('./dataset.csv', index_col=0)\n",
    "df = pd.DataFrame(df)"
   ]
  },
  {
   "cell_type": "code",
   "execution_count": 3,
   "metadata": {},
   "outputs": [
    {
     "data": {
      "text/plain": [
       "'꿩불고기'"
      ]
     },
     "execution_count": 3,
     "metadata": {},
     "output_type": "execute_result"
    }
   ],
   "source": [
    "ndf = df[\"DESC_KOR\"]\n",
    "ndf = pd.DataFrame(ndf)\n",
    "ndf.iat[0,0]"
   ]
  },
  {
   "cell_type": "code",
   "execution_count": 4,
   "metadata": {},
   "outputs": [
    {
     "data": {
      "text/html": [
       "<div>\n",
       "<style scoped>\n",
       "    .dataframe tbody tr th:only-of-type {\n",
       "        vertical-align: middle;\n",
       "    }\n",
       "\n",
       "    .dataframe tbody tr th {\n",
       "        vertical-align: top;\n",
       "    }\n",
       "\n",
       "    .dataframe thead th {\n",
       "        text-align: right;\n",
       "    }\n",
       "</style>\n",
       "<table border=\"1\" class=\"dataframe\">\n",
       "  <thead>\n",
       "    <tr style=\"text-align: right;\">\n",
       "      <th></th>\n",
       "      <th>DESC_KOR</th>\n",
       "    </tr>\n",
       "  </thead>\n",
       "  <tbody>\n",
       "    <tr>\n",
       "      <th>0</th>\n",
       "      <td>꿩불고기</td>\n",
       "    </tr>\n",
       "    <tr>\n",
       "      <th>1</th>\n",
       "      <td>닭갈비</td>\n",
       "    </tr>\n",
       "    <tr>\n",
       "      <th>2</th>\n",
       "      <td>닭갈비</td>\n",
       "    </tr>\n",
       "    <tr>\n",
       "      <th>3</th>\n",
       "      <td>닭꼬치</td>\n",
       "    </tr>\n",
       "    <tr>\n",
       "      <th>4</th>\n",
       "      <td>더덕구이</td>\n",
       "    </tr>\n",
       "    <tr>\n",
       "      <th>...</th>\n",
       "      <td>...</td>\n",
       "    </tr>\n",
       "    <tr>\n",
       "      <th>89995</th>\n",
       "      <td>요구르트, 액상(농후), 식이섬유 첨가</td>\n",
       "    </tr>\n",
       "    <tr>\n",
       "      <th>89996</th>\n",
       "      <td>요구르트, 액상(농후), 사과맛, 식이섬유 첨가</td>\n",
       "    </tr>\n",
       "    <tr>\n",
       "      <th>89997</th>\n",
       "      <td>요구르트, 액상(농후), 저지방, 식이섬유 첨가</td>\n",
       "    </tr>\n",
       "    <tr>\n",
       "      <th>89998</th>\n",
       "      <td>요구르트, 액상(농후), 플레인, 식이섬유 첨가</td>\n",
       "    </tr>\n",
       "    <tr>\n",
       "      <th>89999</th>\n",
       "      <td>요구르트, 호상, 딸기맛</td>\n",
       "    </tr>\n",
       "  </tbody>\n",
       "</table>\n",
       "<p>90000 rows × 1 columns</p>\n",
       "</div>"
      ],
      "text/plain": [
       "                         DESC_KOR\n",
       "0                            꿩불고기\n",
       "1                             닭갈비\n",
       "2                             닭갈비\n",
       "3                             닭꼬치\n",
       "4                            더덕구이\n",
       "...                           ...\n",
       "89995       요구르트, 액상(농후), 식이섬유 첨가\n",
       "89996  요구르트, 액상(농후), 사과맛, 식이섬유 첨가\n",
       "89997  요구르트, 액상(농후), 저지방, 식이섬유 첨가\n",
       "89998  요구르트, 액상(농후), 플레인, 식이섬유 첨가\n",
       "89999               요구르트, 호상, 딸기맛\n",
       "\n",
       "[90000 rows x 1 columns]"
      ]
     },
     "execution_count": 4,
     "metadata": {},
     "output_type": "execute_result"
    }
   ],
   "source": [
    "ndf.index = range(0,90000)\n",
    "ndf"
   ]
  },
  {
   "cell_type": "code",
   "execution_count": 5,
   "metadata": {},
   "outputs": [],
   "source": [
    "NNP_list = []\n",
    "for i in range(len(ndf)):\n",
    "    try:\n",
    "        NNP_list.append(komoran_tokenizer(df.iat[i,18])[0][:-4])\n",
    "    except:\n",
    "        NNP_list.append('nan')"
   ]
  },
  {
   "cell_type": "code",
   "execution_count": 6,
   "metadata": {},
   "outputs": [],
   "source": [
    "NNP_list = pd.DataFrame(NNP_list, columns = [\"NN\"])\n",
    "NNP_list.index = range(0,90000)"
   ]
  },
  {
   "cell_type": "code",
   "execution_count": 7,
   "metadata": {},
   "outputs": [],
   "source": [
    "nnp_df = pd.concat([ndf,NNP_list], axis = 1)"
   ]
  },
  {
   "cell_type": "code",
   "execution_count": 9,
   "metadata": {},
   "outputs": [],
   "source": [
    "arr = nnp_df[\"NN\"].unique()"
   ]
  },
  {
   "cell_type": "code",
   "execution_count": null,
   "metadata": {},
   "outputs": [],
   "source": [
    "import csv\n",
    "with open('sample3.csv','w') as file :\n",
    "\n",
    "    write = csv.writer(file)\n",
    "    write.writerow(arr)"
   ]
  },
  {
   "cell_type": "code",
   "execution_count": 59,
   "metadata": {},
   "outputs": [],
   "source": [
    "nnp_df.to_csv('./category_NN.csv', encoding=\"utf-8\")"
   ]
  },
  {
   "cell_type": "code",
   "execution_count": 135,
   "metadata": {},
   "outputs": [],
   "source": [
    "NNP_list2 = []\n",
    "for i in range(len(ndf)):\n",
    "    try:\n",
    "        NNP_list2.append(komoran_tokenizer(df.iat[i,18])[-1][:-4])\n",
    "    except:\n",
    "        NNP_list2.append('nan')"
   ]
  },
  {
   "cell_type": "code",
   "execution_count": 136,
   "metadata": {},
   "outputs": [],
   "source": [
    "NNP_list2 = pd.DataFrame(NNP_list2, columns = [\"NNP\"])\n",
    "NNP_list2.index = range(0,90000)"
   ]
  },
  {
   "cell_type": "code",
   "execution_count": 137,
   "metadata": {},
   "outputs": [
    {
     "data": {
      "text/html": [
       "<div>\n",
       "<style scoped>\n",
       "    .dataframe tbody tr th:only-of-type {\n",
       "        vertical-align: middle;\n",
       "    }\n",
       "\n",
       "    .dataframe tbody tr th {\n",
       "        vertical-align: top;\n",
       "    }\n",
       "\n",
       "    .dataframe thead th {\n",
       "        text-align: right;\n",
       "    }\n",
       "</style>\n",
       "<table border=\"1\" class=\"dataframe\">\n",
       "  <thead>\n",
       "    <tr style=\"text-align: right;\">\n",
       "      <th></th>\n",
       "      <th>DESC_KOR</th>\n",
       "      <th>NNP</th>\n",
       "    </tr>\n",
       "  </thead>\n",
       "  <tbody>\n",
       "    <tr>\n",
       "      <th>0</th>\n",
       "      <td>꿩불고기</td>\n",
       "      <td>불고기</td>\n",
       "    </tr>\n",
       "    <tr>\n",
       "      <th>1</th>\n",
       "      <td>닭갈비</td>\n",
       "      <td>닭갈비</td>\n",
       "    </tr>\n",
       "    <tr>\n",
       "      <th>2</th>\n",
       "      <td>닭갈비</td>\n",
       "      <td>닭갈비</td>\n",
       "    </tr>\n",
       "    <tr>\n",
       "      <th>3</th>\n",
       "      <td>닭꼬치</td>\n",
       "      <td>닭꼬치</td>\n",
       "    </tr>\n",
       "    <tr>\n",
       "      <th>4</th>\n",
       "      <td>더덕구이</td>\n",
       "      <td>구이</td>\n",
       "    </tr>\n",
       "    <tr>\n",
       "      <th>...</th>\n",
       "      <td>...</td>\n",
       "      <td>...</td>\n",
       "    </tr>\n",
       "    <tr>\n",
       "      <th>89995</th>\n",
       "      <td>요구르트, 액상(농후), 식이섬유 첨가</td>\n",
       "      <td>섬유</td>\n",
       "    </tr>\n",
       "    <tr>\n",
       "      <th>89996</th>\n",
       "      <td>요구르트, 액상(농후), 사과맛, 식이섬유 첨가</td>\n",
       "      <td>섬유</td>\n",
       "    </tr>\n",
       "    <tr>\n",
       "      <th>89997</th>\n",
       "      <td>요구르트, 액상(농후), 저지방, 식이섬유 첨가</td>\n",
       "      <td>섬유</td>\n",
       "    </tr>\n",
       "    <tr>\n",
       "      <th>89998</th>\n",
       "      <td>요구르트, 액상(농후), 플레인, 식이섬유 첨가</td>\n",
       "      <td>섬유</td>\n",
       "    </tr>\n",
       "    <tr>\n",
       "      <th>89999</th>\n",
       "      <td>요구르트, 호상, 딸기맛</td>\n",
       "      <td>딸기</td>\n",
       "    </tr>\n",
       "  </tbody>\n",
       "</table>\n",
       "<p>90000 rows × 2 columns</p>\n",
       "</div>"
      ],
      "text/plain": [
       "                         DESC_KOR  NNP\n",
       "0                            꿩불고기  불고기\n",
       "1                             닭갈비  닭갈비\n",
       "2                             닭갈비  닭갈비\n",
       "3                             닭꼬치  닭꼬치\n",
       "4                            더덕구이   구이\n",
       "...                           ...  ...\n",
       "89995       요구르트, 액상(농후), 식이섬유 첨가   섬유\n",
       "89996  요구르트, 액상(농후), 사과맛, 식이섬유 첨가   섬유\n",
       "89997  요구르트, 액상(농후), 저지방, 식이섬유 첨가   섬유\n",
       "89998  요구르트, 액상(농후), 플레인, 식이섬유 첨가   섬유\n",
       "89999               요구르트, 호상, 딸기맛   딸기\n",
       "\n",
       "[90000 rows x 2 columns]"
      ]
     },
     "execution_count": 137,
     "metadata": {},
     "output_type": "execute_result"
    }
   ],
   "source": [
    "nnp_df2 = pd.concat([ndf,NNP_list2], axis = 1)\n",
    "nnp_df2"
   ]
  },
  {
   "cell_type": "code",
   "execution_count": 138,
   "metadata": {},
   "outputs": [],
   "source": [
    "#nnp_df.to_csv('./category2.csv', encoding=\"utf-8\")"
   ]
  },
  {
   "cell_type": "code",
   "execution_count": 141,
   "metadata": {},
   "outputs": [],
   "source": [
    "unique1 = nnp_df2[\"NNP\"].unique()"
   ]
  },
  {
   "cell_type": "code",
   "execution_count": 142,
   "metadata": {},
   "outputs": [],
   "source": [
    "unique2 = nnp_df[\"NNP\"].unique()"
   ]
  },
  {
   "cell_type": "code",
   "execution_count": 145,
   "metadata": {},
   "outputs": [
    {
     "data": {
      "text/plain": [
       "(4219, 5309)"
      ]
     },
     "execution_count": 145,
     "metadata": {},
     "output_type": "execute_result"
    }
   ],
   "source": [
    "len(unique1), len(unique2)"
   ]
  },
  {
   "cell_type": "markdown",
   "metadata": {},
   "source": [
    "### groupid 정보 return func (int: 카테고리 의미 mapping)"
   ]
  },
  {
   "cell_type": "code",
   "execution_count": 46,
   "metadata": {},
   "outputs": [],
   "source": [
    "category_list = [\"0:족발보쌈\", \"1:찜탕찌개\", \"2:돈까스*회*일식\", \"3:피자\", \"4:고기구이\", \"5:야식\", \"6:양식\", \"7:치킨\", \"8:중식\", \"9:아시안\", \"10:백반죽국수\", \"11:도시락\", \"12:분식\", \"13:카페*디저트\", \"14:패스트푸드\", \"15:molu\"]"
   ]
  },
  {
   "cell_type": "code",
   "execution_count": 34,
   "metadata": {},
   "outputs": [
    {
     "data": {
      "text/plain": [
       "16"
      ]
     },
     "execution_count": 34,
     "metadata": {},
     "output_type": "execute_result"
    }
   ],
   "source": [
    "len(category_list)"
   ]
  },
  {
   "cell_type": "code",
   "execution_count": 40,
   "metadata": {},
   "outputs": [],
   "source": [
    "cnt_list = [0]*16"
   ]
  },
  {
   "cell_type": "code",
   "execution_count": 41,
   "metadata": {},
   "outputs": [
    {
     "data": {
      "text/plain": [
       "[0, 0, 0, 0, 0, 0, 0, 0, 0, 0, 0, 0, 0, 0, 0, 0]"
      ]
     },
     "execution_count": 41,
     "metadata": {},
     "output_type": "execute_result"
    }
   ],
   "source": [
    "cnt_list"
   ]
  },
  {
   "cell_type": "code",
   "execution_count": 47,
   "metadata": {},
   "outputs": [
    {
     "data": {
      "text/plain": [
       "['0:족발보쌈',\n",
       " '1:찜탕찌개',\n",
       " '2:돈까스*회*일식',\n",
       " '3:피자',\n",
       " '4:고기구이',\n",
       " '5:야식',\n",
       " '6:양식',\n",
       " '7:치킨',\n",
       " '8:중식',\n",
       " '9:아시안',\n",
       " '10:백반죽국수',\n",
       " '11:도시락',\n",
       " '12:분식',\n",
       " '13:카페*디저트',\n",
       " '14:패스트푸드',\n",
       " '15:molu']"
      ]
     },
     "execution_count": 47,
     "metadata": {},
     "output_type": "execute_result"
    }
   ],
   "source": [
    "category_list"
   ]
  },
  {
   "cell_type": "code",
   "execution_count": 50,
   "metadata": {},
   "outputs": [],
   "source": [
    "cnt_0 = []\n",
    "cnt_1 = []\n",
    "cnt_2 = []\n",
    "cnt_3 = []\n",
    "cnt_4 = []\n",
    "cnt_5 = []\n",
    "cnt_6 = []\n",
    "cnt_7 = []\n",
    "cnt_8 = []\n",
    "cnt_9 = []\n",
    "cnt_10 = []\n",
    "cnt_11 = []\n",
    "cnt_12 = []\n",
    "cnt_13 = []\n",
    "cnt_14 = []\n",
    "cnt_15 = []"
   ]
  },
  {
   "cell_type": "code",
   "execution_count": 10,
   "metadata": {},
   "outputs": [
    {
     "data": {
      "text/plain": [
       "array(['불고기', '닭갈비', '닭꼬치', ..., '한천', '청태', '모유'], dtype=object)"
      ]
     },
     "execution_count": 10,
     "metadata": {},
     "output_type": "execute_result"
    }
   ],
   "source": [
    "nnp_df[\"NN\"].unique()"
   ]
  },
  {
   "cell_type": "code",
   "execution_count": 8,
   "metadata": {},
   "outputs": [],
   "source": [
    "df_cnt = nnp_df['NN'].value_counts()"
   ]
  },
  {
   "cell_type": "code",
   "execution_count": 10,
   "metadata": {},
   "outputs": [
    {
     "data": {
      "text/plain": [
       "nan     7707\n",
       "유기농     1383\n",
       "초코       970\n",
       "치즈       842\n",
       "미니       805\n",
       "        ... \n",
       "박         57\n",
       "부대찌개      57\n",
       "단백질       57\n",
       "바질        57\n",
       "초록        57\n",
       "Name: NN, Length: 300, dtype: int64"
      ]
     },
     "execution_count": 10,
     "metadata": {},
     "output_type": "execute_result"
    }
   ],
   "source": [
    "df_cnt.head(300)"
   ]
  },
  {
   "cell_type": "code",
   "execution_count": 13,
   "metadata": {},
   "outputs": [],
   "source": [
    "# row 생략 없이 출력\n",
    "#pd.set_option('display.max_rows', None)\n",
    "# col 생략 없이 출력\n",
    "#pd.set_option('display.max_columns', None)"
   ]
  },
  {
   "cell_type": "code",
   "execution_count": 14,
   "metadata": {},
   "outputs": [
    {
     "data": {
      "text/plain": [
       "834"
      ]
     },
     "execution_count": 14,
     "metadata": {},
     "output_type": "execute_result"
    }
   ],
   "source": [
    "df_cnt = pd.DataFrame(df_cnt)\n",
    "len(df_cnt[df_cnt[\"NN\"] >= 20][\"NN\"])"
   ]
  },
  {
   "cell_type": "code",
   "execution_count": 17,
   "metadata": {},
   "outputs": [],
   "source": [
    "nnp_df[\"category\"] = [0]*90000"
   ]
  },
  {
   "cell_type": "code",
   "execution_count": 59,
   "metadata": {},
   "outputs": [],
   "source": [
    "#nn_cnt = 0\n",
    "for i in range(300):\n",
    "    nnp_df.loc[nnp_df['NN'] == list(df_cnt.index)[i+1], 'category'] =\\\n",
    "    list([i+1]*df_cnt[\"NN\"][i+1])\n",
    "    #nn_cnt += df_cnt[\"NN\"][i+1]\n",
    "    \n",
    "#print(nn_cnt)"
   ]
  },
  {
   "cell_type": "code",
   "execution_count": 60,
   "metadata": {},
   "outputs": [
    {
     "data": {
      "text/plain": [
       "0      44438\n",
       "1       1383\n",
       "2        970\n",
       "3        842\n",
       "4        805\n",
       "       ...  \n",
       "297       57\n",
       "293       57\n",
       "299       57\n",
       "291       57\n",
       "300       56\n",
       "Name: category, Length: 301, dtype: int64"
      ]
     },
     "execution_count": 60,
     "metadata": {},
     "output_type": "execute_result"
    }
   ],
   "source": [
    "nnp_df[\"category\"].value_counts()"
   ]
  },
  {
   "cell_type": "code",
   "execution_count": 61,
   "metadata": {},
   "outputs": [
    {
     "data": {
      "text/html": [
       "<div>\n",
       "<style scoped>\n",
       "    .dataframe tbody tr th:only-of-type {\n",
       "        vertical-align: middle;\n",
       "    }\n",
       "\n",
       "    .dataframe tbody tr th {\n",
       "        vertical-align: top;\n",
       "    }\n",
       "\n",
       "    .dataframe thead th {\n",
       "        text-align: right;\n",
       "    }\n",
       "</style>\n",
       "<table border=\"1\" class=\"dataframe\">\n",
       "  <thead>\n",
       "    <tr style=\"text-align: right;\">\n",
       "      <th></th>\n",
       "      <th>DESC_KOR</th>\n",
       "      <th>NN</th>\n",
       "      <th>category</th>\n",
       "    </tr>\n",
       "  </thead>\n",
       "  <tbody>\n",
       "    <tr>\n",
       "      <th>0</th>\n",
       "      <td>꿩불고기</td>\n",
       "      <td>불고기</td>\n",
       "      <td>22</td>\n",
       "    </tr>\n",
       "    <tr>\n",
       "      <th>1</th>\n",
       "      <td>닭갈비</td>\n",
       "      <td>닭갈비</td>\n",
       "      <td>0</td>\n",
       "    </tr>\n",
       "    <tr>\n",
       "      <th>2</th>\n",
       "      <td>닭갈비</td>\n",
       "      <td>닭갈비</td>\n",
       "      <td>0</td>\n",
       "    </tr>\n",
       "    <tr>\n",
       "      <th>3</th>\n",
       "      <td>닭꼬치</td>\n",
       "      <td>닭꼬치</td>\n",
       "      <td>0</td>\n",
       "    </tr>\n",
       "    <tr>\n",
       "      <th>4</th>\n",
       "      <td>더덕구이</td>\n",
       "      <td>더덕</td>\n",
       "      <td>0</td>\n",
       "    </tr>\n",
       "    <tr>\n",
       "      <th>...</th>\n",
       "      <td>...</td>\n",
       "      <td>...</td>\n",
       "      <td>...</td>\n",
       "    </tr>\n",
       "    <tr>\n",
       "      <th>89995</th>\n",
       "      <td>요구르트, 액상(농후), 식이섬유 첨가</td>\n",
       "      <td>요구르트</td>\n",
       "      <td>131</td>\n",
       "    </tr>\n",
       "    <tr>\n",
       "      <th>89996</th>\n",
       "      <td>요구르트, 액상(농후), 사과맛, 식이섬유 첨가</td>\n",
       "      <td>요구르트</td>\n",
       "      <td>131</td>\n",
       "    </tr>\n",
       "    <tr>\n",
       "      <th>89997</th>\n",
       "      <td>요구르트, 액상(농후), 저지방, 식이섬유 첨가</td>\n",
       "      <td>요구르트</td>\n",
       "      <td>131</td>\n",
       "    </tr>\n",
       "    <tr>\n",
       "      <th>89998</th>\n",
       "      <td>요구르트, 액상(농후), 플레인, 식이섬유 첨가</td>\n",
       "      <td>요구르트</td>\n",
       "      <td>131</td>\n",
       "    </tr>\n",
       "    <tr>\n",
       "      <th>89999</th>\n",
       "      <td>요구르트, 호상, 딸기맛</td>\n",
       "      <td>요구르트</td>\n",
       "      <td>131</td>\n",
       "    </tr>\n",
       "  </tbody>\n",
       "</table>\n",
       "<p>90000 rows × 3 columns</p>\n",
       "</div>"
      ],
      "text/plain": [
       "                         DESC_KOR    NN  category\n",
       "0                            꿩불고기   불고기        22\n",
       "1                             닭갈비   닭갈비         0\n",
       "2                             닭갈비   닭갈비         0\n",
       "3                             닭꼬치   닭꼬치         0\n",
       "4                            더덕구이    더덕         0\n",
       "...                           ...   ...       ...\n",
       "89995       요구르트, 액상(농후), 식이섬유 첨가  요구르트       131\n",
       "89996  요구르트, 액상(농후), 사과맛, 식이섬유 첨가  요구르트       131\n",
       "89997  요구르트, 액상(농후), 저지방, 식이섬유 첨가  요구르트       131\n",
       "89998  요구르트, 액상(농후), 플레인, 식이섬유 첨가  요구르트       131\n",
       "89999               요구르트, 호상, 딸기맛  요구르트       131\n",
       "\n",
       "[90000 rows x 3 columns]"
      ]
     },
     "execution_count": 61,
     "metadata": {},
     "output_type": "execute_result"
    }
   ],
   "source": [
    "nnp_df"
   ]
  },
  {
   "cell_type": "code",
   "execution_count": 62,
   "metadata": {},
   "outputs": [],
   "source": [
    "nnp_df.to_csv('./category_label.csv', encoding=\"utf-8\")"
   ]
  },
  {
   "cell_type": "code",
   "execution_count": 69,
   "metadata": {},
   "outputs": [
    {
     "data": {
      "text/plain": [
       "'비빔밥'"
      ]
     },
     "execution_count": 69,
     "metadata": {},
     "output_type": "execute_result"
    }
   ],
   "source": [
    "komoran_tokenizer(\"새싹 육회 점보 비빔밥\")[-1][:-4]"
   ]
  },
  {
   "cell_type": "code",
   "execution_count": 82,
   "metadata": {},
   "outputs": [
    {
     "data": {
      "text/plain": [
       "98"
      ]
     },
     "execution_count": 82,
     "metadata": {},
     "output_type": "execute_result"
    }
   ],
   "source": [
    "nnp_df[nnp_df[\"NN\"] == komoran_tokenizer(\"응애 두유\")[-1][:-4]].iloc[0, 2]"
   ]
  },
  {
   "cell_type": "code",
   "execution_count": null,
   "metadata": {},
   "outputs": [],
   "source": [
    "t = {'rs': [\"콩나물국밥\", 2, 3]}\n",
    "JSON.dumps(t)"
   ]
  },
  {
   "cell_type": "code",
   "execution_count": 11,
   "metadata": {},
   "outputs": [],
   "source": [
    "df = pd.read_csv('./category_label.csv', index_col=0)\n",
    "df = pd.DataFrame(df)"
   ]
  },
  {
   "cell_type": "code",
   "execution_count": 12,
   "metadata": {},
   "outputs": [
    {
     "data": {
      "text/html": [
       "<div>\n",
       "<style scoped>\n",
       "    .dataframe tbody tr th:only-of-type {\n",
       "        vertical-align: middle;\n",
       "    }\n",
       "\n",
       "    .dataframe tbody tr th {\n",
       "        vertical-align: top;\n",
       "    }\n",
       "\n",
       "    .dataframe thead th {\n",
       "        text-align: right;\n",
       "    }\n",
       "</style>\n",
       "<table border=\"1\" class=\"dataframe\">\n",
       "  <thead>\n",
       "    <tr style=\"text-align: right;\">\n",
       "      <th></th>\n",
       "      <th>DESC_KOR</th>\n",
       "      <th>NN</th>\n",
       "      <th>category</th>\n",
       "    </tr>\n",
       "  </thead>\n",
       "  <tbody>\n",
       "    <tr>\n",
       "      <th>0</th>\n",
       "      <td>꿩불고기</td>\n",
       "      <td>불고기</td>\n",
       "      <td>22</td>\n",
       "    </tr>\n",
       "    <tr>\n",
       "      <th>1</th>\n",
       "      <td>닭갈비</td>\n",
       "      <td>닭갈비</td>\n",
       "      <td>0</td>\n",
       "    </tr>\n",
       "    <tr>\n",
       "      <th>2</th>\n",
       "      <td>닭갈비</td>\n",
       "      <td>닭갈비</td>\n",
       "      <td>0</td>\n",
       "    </tr>\n",
       "    <tr>\n",
       "      <th>3</th>\n",
       "      <td>닭꼬치</td>\n",
       "      <td>닭꼬치</td>\n",
       "      <td>0</td>\n",
       "    </tr>\n",
       "    <tr>\n",
       "      <th>4</th>\n",
       "      <td>더덕구이</td>\n",
       "      <td>더덕</td>\n",
       "      <td>0</td>\n",
       "    </tr>\n",
       "    <tr>\n",
       "      <th>...</th>\n",
       "      <td>...</td>\n",
       "      <td>...</td>\n",
       "      <td>...</td>\n",
       "    </tr>\n",
       "    <tr>\n",
       "      <th>89995</th>\n",
       "      <td>요구르트, 액상(농후), 식이섬유 첨가</td>\n",
       "      <td>요구르트</td>\n",
       "      <td>131</td>\n",
       "    </tr>\n",
       "    <tr>\n",
       "      <th>89996</th>\n",
       "      <td>요구르트, 액상(농후), 사과맛, 식이섬유 첨가</td>\n",
       "      <td>요구르트</td>\n",
       "      <td>131</td>\n",
       "    </tr>\n",
       "    <tr>\n",
       "      <th>89997</th>\n",
       "      <td>요구르트, 액상(농후), 저지방, 식이섬유 첨가</td>\n",
       "      <td>요구르트</td>\n",
       "      <td>131</td>\n",
       "    </tr>\n",
       "    <tr>\n",
       "      <th>89998</th>\n",
       "      <td>요구르트, 액상(농후), 플레인, 식이섬유 첨가</td>\n",
       "      <td>요구르트</td>\n",
       "      <td>131</td>\n",
       "    </tr>\n",
       "    <tr>\n",
       "      <th>89999</th>\n",
       "      <td>요구르트, 호상, 딸기맛</td>\n",
       "      <td>요구르트</td>\n",
       "      <td>131</td>\n",
       "    </tr>\n",
       "  </tbody>\n",
       "</table>\n",
       "<p>90000 rows × 3 columns</p>\n",
       "</div>"
      ],
      "text/plain": [
       "                         DESC_KOR    NN  category\n",
       "0                            꿩불고기   불고기        22\n",
       "1                             닭갈비   닭갈비         0\n",
       "2                             닭갈비   닭갈비         0\n",
       "3                             닭꼬치   닭꼬치         0\n",
       "4                            더덕구이    더덕         0\n",
       "...                           ...   ...       ...\n",
       "89995       요구르트, 액상(농후), 식이섬유 첨가  요구르트       131\n",
       "89996  요구르트, 액상(농후), 사과맛, 식이섬유 첨가  요구르트       131\n",
       "89997  요구르트, 액상(농후), 저지방, 식이섬유 첨가  요구르트       131\n",
       "89998  요구르트, 액상(농후), 플레인, 식이섬유 첨가  요구르트       131\n",
       "89999               요구르트, 호상, 딸기맛  요구르트       131\n",
       "\n",
       "[90000 rows x 3 columns]"
      ]
     },
     "execution_count": 12,
     "metadata": {},
     "output_type": "execute_result"
    }
   ],
   "source": [
    "df"
   ]
  },
  {
   "cell_type": "code",
   "execution_count": 30,
   "metadata": {},
   "outputs": [
    {
     "data": {
      "text/plain": [
       "'오삼불고기'"
      ]
     },
     "execution_count": 30,
     "metadata": {},
     "output_type": "execute_result"
    }
   ],
   "source": [
    "df[df[\"category\"] == 22].iloc[2, 0]"
   ]
  },
  {
   "cell_type": "code",
   "execution_count": null,
   "metadata": {},
   "outputs": [],
   "source": []
  }
 ],
 "metadata": {
  "kernelspec": {
   "display_name": "Python 3",
   "language": "python",
   "name": "python3"
  },
  "language_info": {
   "codemirror_mode": {
    "name": "ipython",
    "version": 3
   },
   "file_extension": ".py",
   "mimetype": "text/x-python",
   "name": "python",
   "nbconvert_exporter": "python",
   "pygments_lexer": "ipython3",
   "version": "3.8.5"
  }
 },
 "nbformat": 4,
 "nbformat_minor": 4
}
