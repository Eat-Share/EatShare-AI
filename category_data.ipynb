{
 "cells": [
  {
   "cell_type": "code",
   "execution_count": 29,
   "metadata": {},
   "outputs": [],
   "source": [
    "import pandas as pd\n",
    "import json\n",
    "import textrank\n",
    "from konlpy.tag import Komoran\n",
    "\n",
    "komoran = Komoran()\n",
    "def komoran_tokenizer(sent):\n",
    "    words = komoran.pos(sent, join=True)\n",
    "    #words = [w for w in words if ('/NN' in w or '/XR' in w or '/VA' in w or '/VV' in w)]\n",
    "    words = [w for w in words if ('/NNP' in w)]\n",
    "    return words"
   ]
  },
  {
   "cell_type": "code",
   "execution_count": 30,
   "metadata": {},
   "outputs": [],
   "source": [
    "df = pd.read_csv('./dataset.csv', index_col=0)\n",
    "df = pd.DataFrame(df)"
   ]
  },
  {
   "cell_type": "code",
   "execution_count": 81,
   "metadata": {},
   "outputs": [
    {
     "data": {
      "text/plain": [
       "'꿩불고기'"
      ]
     },
     "execution_count": 81,
     "metadata": {},
     "output_type": "execute_result"
    }
   ],
   "source": [
    "ndf = df[\"DESC_KOR\"]\n",
    "ndf = pd.DataFrame(ndf)\n",
    "ndf.iat[0,0]"
   ]
  },
  {
   "cell_type": "code",
   "execution_count": 116,
   "metadata": {},
   "outputs": [
    {
     "data": {
      "text/html": [
       "<div>\n",
       "<style scoped>\n",
       "    .dataframe tbody tr th:only-of-type {\n",
       "        vertical-align: middle;\n",
       "    }\n",
       "\n",
       "    .dataframe tbody tr th {\n",
       "        vertical-align: top;\n",
       "    }\n",
       "\n",
       "    .dataframe thead th {\n",
       "        text-align: right;\n",
       "    }\n",
       "</style>\n",
       "<table border=\"1\" class=\"dataframe\">\n",
       "  <thead>\n",
       "    <tr style=\"text-align: right;\">\n",
       "      <th></th>\n",
       "      <th>DESC_KOR</th>\n",
       "    </tr>\n",
       "  </thead>\n",
       "  <tbody>\n",
       "    <tr>\n",
       "      <th>0</th>\n",
       "      <td>꿩불고기</td>\n",
       "    </tr>\n",
       "    <tr>\n",
       "      <th>1</th>\n",
       "      <td>닭갈비</td>\n",
       "    </tr>\n",
       "    <tr>\n",
       "      <th>2</th>\n",
       "      <td>닭갈비</td>\n",
       "    </tr>\n",
       "    <tr>\n",
       "      <th>3</th>\n",
       "      <td>닭꼬치</td>\n",
       "    </tr>\n",
       "    <tr>\n",
       "      <th>4</th>\n",
       "      <td>더덕구이</td>\n",
       "    </tr>\n",
       "    <tr>\n",
       "      <th>...</th>\n",
       "      <td>...</td>\n",
       "    </tr>\n",
       "    <tr>\n",
       "      <th>89995</th>\n",
       "      <td>요구르트, 액상(농후), 식이섬유 첨가</td>\n",
       "    </tr>\n",
       "    <tr>\n",
       "      <th>89996</th>\n",
       "      <td>요구르트, 액상(농후), 사과맛, 식이섬유 첨가</td>\n",
       "    </tr>\n",
       "    <tr>\n",
       "      <th>89997</th>\n",
       "      <td>요구르트, 액상(농후), 저지방, 식이섬유 첨가</td>\n",
       "    </tr>\n",
       "    <tr>\n",
       "      <th>89998</th>\n",
       "      <td>요구르트, 액상(농후), 플레인, 식이섬유 첨가</td>\n",
       "    </tr>\n",
       "    <tr>\n",
       "      <th>89999</th>\n",
       "      <td>요구르트, 호상, 딸기맛</td>\n",
       "    </tr>\n",
       "  </tbody>\n",
       "</table>\n",
       "<p>90000 rows × 1 columns</p>\n",
       "</div>"
      ],
      "text/plain": [
       "                         DESC_KOR\n",
       "0                            꿩불고기\n",
       "1                             닭갈비\n",
       "2                             닭갈비\n",
       "3                             닭꼬치\n",
       "4                            더덕구이\n",
       "...                           ...\n",
       "89995       요구르트, 액상(농후), 식이섬유 첨가\n",
       "89996  요구르트, 액상(농후), 사과맛, 식이섬유 첨가\n",
       "89997  요구르트, 액상(농후), 저지방, 식이섬유 첨가\n",
       "89998  요구르트, 액상(농후), 플레인, 식이섬유 첨가\n",
       "89999               요구르트, 호상, 딸기맛\n",
       "\n",
       "[90000 rows x 1 columns]"
      ]
     },
     "execution_count": 116,
     "metadata": {},
     "output_type": "execute_result"
    }
   ],
   "source": [
    "ndf.index = range(0,90000)\n",
    "ndf"
   ]
  },
  {
   "cell_type": "code",
   "execution_count": 92,
   "metadata": {},
   "outputs": [],
   "source": [
    "NNP_list = []\n",
    "for i in range(len(ndf)):\n",
    "    try:\n",
    "        NNP_list.append(komoran_tokenizer(df.iat[i,18])[0][:-4])\n",
    "    except:\n",
    "        NNP_list.append('nan')"
   ]
  },
  {
   "cell_type": "code",
   "execution_count": 120,
   "metadata": {},
   "outputs": [],
   "source": [
    "NNP_list = pd.DataFrame(NNP_list, columns = [\"NNP\"])\n",
    "NNP_list.index = range(0,90000)"
   ]
  },
  {
   "cell_type": "code",
   "execution_count": 131,
   "metadata": {},
   "outputs": [
    {
     "data": {
      "text/html": [
       "<div>\n",
       "<style scoped>\n",
       "    .dataframe tbody tr th:only-of-type {\n",
       "        vertical-align: middle;\n",
       "    }\n",
       "\n",
       "    .dataframe tbody tr th {\n",
       "        vertical-align: top;\n",
       "    }\n",
       "\n",
       "    .dataframe thead th {\n",
       "        text-align: right;\n",
       "    }\n",
       "</style>\n",
       "<table border=\"1\" class=\"dataframe\">\n",
       "  <thead>\n",
       "    <tr style=\"text-align: right;\">\n",
       "      <th></th>\n",
       "      <th>DESC_KOR</th>\n",
       "      <th>NNP</th>\n",
       "    </tr>\n",
       "  </thead>\n",
       "  <tbody>\n",
       "    <tr>\n",
       "      <th>0</th>\n",
       "      <td>꿩불고기</td>\n",
       "      <td>불고기</td>\n",
       "    </tr>\n",
       "    <tr>\n",
       "      <th>1</th>\n",
       "      <td>닭갈비</td>\n",
       "      <td>닭갈비</td>\n",
       "    </tr>\n",
       "    <tr>\n",
       "      <th>2</th>\n",
       "      <td>닭갈비</td>\n",
       "      <td>닭갈비</td>\n",
       "    </tr>\n",
       "    <tr>\n",
       "      <th>3</th>\n",
       "      <td>닭꼬치</td>\n",
       "      <td>닭꼬치</td>\n",
       "    </tr>\n",
       "    <tr>\n",
       "      <th>4</th>\n",
       "      <td>더덕구이</td>\n",
       "      <td>더덕</td>\n",
       "    </tr>\n",
       "    <tr>\n",
       "      <th>...</th>\n",
       "      <td>...</td>\n",
       "      <td>...</td>\n",
       "    </tr>\n",
       "    <tr>\n",
       "      <th>89995</th>\n",
       "      <td>요구르트, 액상(농후), 식이섬유 첨가</td>\n",
       "      <td>요구르트</td>\n",
       "    </tr>\n",
       "    <tr>\n",
       "      <th>89996</th>\n",
       "      <td>요구르트, 액상(농후), 사과맛, 식이섬유 첨가</td>\n",
       "      <td>요구르트</td>\n",
       "    </tr>\n",
       "    <tr>\n",
       "      <th>89997</th>\n",
       "      <td>요구르트, 액상(농후), 저지방, 식이섬유 첨가</td>\n",
       "      <td>요구르트</td>\n",
       "    </tr>\n",
       "    <tr>\n",
       "      <th>89998</th>\n",
       "      <td>요구르트, 액상(농후), 플레인, 식이섬유 첨가</td>\n",
       "      <td>요구르트</td>\n",
       "    </tr>\n",
       "    <tr>\n",
       "      <th>89999</th>\n",
       "      <td>요구르트, 호상, 딸기맛</td>\n",
       "      <td>요구르트</td>\n",
       "    </tr>\n",
       "  </tbody>\n",
       "</table>\n",
       "<p>90000 rows × 2 columns</p>\n",
       "</div>"
      ],
      "text/plain": [
       "                         DESC_KOR   NNP\n",
       "0                            꿩불고기   불고기\n",
       "1                             닭갈비   닭갈비\n",
       "2                             닭갈비   닭갈비\n",
       "3                             닭꼬치   닭꼬치\n",
       "4                            더덕구이    더덕\n",
       "...                           ...   ...\n",
       "89995       요구르트, 액상(농후), 식이섬유 첨가  요구르트\n",
       "89996  요구르트, 액상(농후), 사과맛, 식이섬유 첨가  요구르트\n",
       "89997  요구르트, 액상(농후), 저지방, 식이섬유 첨가  요구르트\n",
       "89998  요구르트, 액상(농후), 플레인, 식이섬유 첨가  요구르트\n",
       "89999               요구르트, 호상, 딸기맛  요구르트\n",
       "\n",
       "[90000 rows x 2 columns]"
      ]
     },
     "execution_count": 131,
     "metadata": {},
     "output_type": "execute_result"
    }
   ],
   "source": [
    "nnp_df = pd.concat([ndf,NNP_list], axis = 1)\n",
    "nnp_df"
   ]
  },
  {
   "cell_type": "code",
   "execution_count": 57,
   "metadata": {},
   "outputs": [
    {
     "data": {
      "text/plain": [
       "'닭갈비'"
      ]
     },
     "execution_count": 57,
     "metadata": {},
     "output_type": "execute_result"
    }
   ],
   "source": [
    "komoran_tokenizer(df.iat[2,18])[-1][:-4]"
   ]
  },
  {
   "cell_type": "code",
   "execution_count": 35,
   "metadata": {},
   "outputs": [
    {
     "data": {
      "text/plain": [
       "['육회/NNP', '비빔밥/NNP']"
      ]
     },
     "execution_count": 35,
     "metadata": {},
     "output_type": "execute_result"
    }
   ],
   "source": [
    "komoran_tokenizer(\"새싹 육회 비빔밥\")"
   ]
  },
  {
   "cell_type": "code",
   "execution_count": 133,
   "metadata": {},
   "outputs": [],
   "source": [
    "nnp_df.to_csv('./category1.csv', encoding=\"utf-8\")"
   ]
  },
  {
   "cell_type": "code",
   "execution_count": 135,
   "metadata": {},
   "outputs": [],
   "source": [
    "NNP_list2 = []\n",
    "for i in range(len(ndf)):\n",
    "    try:\n",
    "        NNP_list2.append(komoran_tokenizer(df.iat[i,18])[-1][:-4])\n",
    "    except:\n",
    "        NNP_list2.append('nan')"
   ]
  },
  {
   "cell_type": "code",
   "execution_count": 136,
   "metadata": {},
   "outputs": [],
   "source": [
    "NNP_list2 = pd.DataFrame(NNP_list2, columns = [\"NNP\"])\n",
    "NNP_list2.index = range(0,90000)"
   ]
  },
  {
   "cell_type": "code",
   "execution_count": 137,
   "metadata": {},
   "outputs": [
    {
     "data": {
      "text/html": [
       "<div>\n",
       "<style scoped>\n",
       "    .dataframe tbody tr th:only-of-type {\n",
       "        vertical-align: middle;\n",
       "    }\n",
       "\n",
       "    .dataframe tbody tr th {\n",
       "        vertical-align: top;\n",
       "    }\n",
       "\n",
       "    .dataframe thead th {\n",
       "        text-align: right;\n",
       "    }\n",
       "</style>\n",
       "<table border=\"1\" class=\"dataframe\">\n",
       "  <thead>\n",
       "    <tr style=\"text-align: right;\">\n",
       "      <th></th>\n",
       "      <th>DESC_KOR</th>\n",
       "      <th>NNP</th>\n",
       "    </tr>\n",
       "  </thead>\n",
       "  <tbody>\n",
       "    <tr>\n",
       "      <th>0</th>\n",
       "      <td>꿩불고기</td>\n",
       "      <td>불고기</td>\n",
       "    </tr>\n",
       "    <tr>\n",
       "      <th>1</th>\n",
       "      <td>닭갈비</td>\n",
       "      <td>닭갈비</td>\n",
       "    </tr>\n",
       "    <tr>\n",
       "      <th>2</th>\n",
       "      <td>닭갈비</td>\n",
       "      <td>닭갈비</td>\n",
       "    </tr>\n",
       "    <tr>\n",
       "      <th>3</th>\n",
       "      <td>닭꼬치</td>\n",
       "      <td>닭꼬치</td>\n",
       "    </tr>\n",
       "    <tr>\n",
       "      <th>4</th>\n",
       "      <td>더덕구이</td>\n",
       "      <td>구이</td>\n",
       "    </tr>\n",
       "    <tr>\n",
       "      <th>...</th>\n",
       "      <td>...</td>\n",
       "      <td>...</td>\n",
       "    </tr>\n",
       "    <tr>\n",
       "      <th>89995</th>\n",
       "      <td>요구르트, 액상(농후), 식이섬유 첨가</td>\n",
       "      <td>섬유</td>\n",
       "    </tr>\n",
       "    <tr>\n",
       "      <th>89996</th>\n",
       "      <td>요구르트, 액상(농후), 사과맛, 식이섬유 첨가</td>\n",
       "      <td>섬유</td>\n",
       "    </tr>\n",
       "    <tr>\n",
       "      <th>89997</th>\n",
       "      <td>요구르트, 액상(농후), 저지방, 식이섬유 첨가</td>\n",
       "      <td>섬유</td>\n",
       "    </tr>\n",
       "    <tr>\n",
       "      <th>89998</th>\n",
       "      <td>요구르트, 액상(농후), 플레인, 식이섬유 첨가</td>\n",
       "      <td>섬유</td>\n",
       "    </tr>\n",
       "    <tr>\n",
       "      <th>89999</th>\n",
       "      <td>요구르트, 호상, 딸기맛</td>\n",
       "      <td>딸기</td>\n",
       "    </tr>\n",
       "  </tbody>\n",
       "</table>\n",
       "<p>90000 rows × 2 columns</p>\n",
       "</div>"
      ],
      "text/plain": [
       "                         DESC_KOR  NNP\n",
       "0                            꿩불고기  불고기\n",
       "1                             닭갈비  닭갈비\n",
       "2                             닭갈비  닭갈비\n",
       "3                             닭꼬치  닭꼬치\n",
       "4                            더덕구이   구이\n",
       "...                           ...  ...\n",
       "89995       요구르트, 액상(농후), 식이섬유 첨가   섬유\n",
       "89996  요구르트, 액상(농후), 사과맛, 식이섬유 첨가   섬유\n",
       "89997  요구르트, 액상(농후), 저지방, 식이섬유 첨가   섬유\n",
       "89998  요구르트, 액상(농후), 플레인, 식이섬유 첨가   섬유\n",
       "89999               요구르트, 호상, 딸기맛   딸기\n",
       "\n",
       "[90000 rows x 2 columns]"
      ]
     },
     "execution_count": 137,
     "metadata": {},
     "output_type": "execute_result"
    }
   ],
   "source": [
    "nnp_df2 = pd.concat([ndf,NNP_list2], axis = 1)\n",
    "nnp_df2"
   ]
  },
  {
   "cell_type": "code",
   "execution_count": 138,
   "metadata": {},
   "outputs": [],
   "source": [
    "nnp_df.to_csv('./category2.csv', encoding=\"utf-8\")"
   ]
  },
  {
   "cell_type": "code",
   "execution_count": 141,
   "metadata": {},
   "outputs": [],
   "source": [
    "unique1 = nnp_df2[\"NNP\"].unique()"
   ]
  },
  {
   "cell_type": "code",
   "execution_count": 142,
   "metadata": {},
   "outputs": [],
   "source": [
    "unique2 = nnp_df[\"NNP\"].unique()"
   ]
  },
  {
   "cell_type": "code",
   "execution_count": 145,
   "metadata": {},
   "outputs": [
    {
     "data": {
      "text/plain": [
       "(4219, 5309)"
      ]
     },
     "execution_count": 145,
     "metadata": {},
     "output_type": "execute_result"
    }
   ],
   "source": [
    "len(unique1), len(unique2)"
   ]
  },
  {
   "cell_type": "markdown",
   "metadata": {},
   "source": [
    "### groupid 정보 return func (int: 카테고리 의미 mapping)"
   ]
  },
  {
   "cell_type": "code",
   "execution_count": null,
   "metadata": {},
   "outputs": [],
   "source": []
  }
 ],
 "metadata": {
  "kernelspec": {
   "display_name": "Python 3",
   "language": "python",
   "name": "python3"
  },
  "language_info": {
   "codemirror_mode": {
    "name": "ipython",
    "version": 3
   },
   "file_extension": ".py",
   "mimetype": "text/x-python",
   "name": "python",
   "nbconvert_exporter": "python",
   "pygments_lexer": "ipython3",
   "version": "3.8.5"
  }
 },
 "nbformat": 4,
 "nbformat_minor": 4
}
