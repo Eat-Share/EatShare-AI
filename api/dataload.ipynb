{
 "cells": [
  {
   "cell_type": "markdown",
   "metadata": {},
   "source": [
    "## Json data concat"
   ]
  },
  {
   "cell_type": "code",
   "execution_count": 2,
   "metadata": {},
   "outputs": [],
   "source": [
    "import pandas as pd\n",
    "import json"
   ]
  },
  {
   "cell_type": "code",
   "execution_count": 5,
   "metadata": {},
   "outputs": [],
   "source": [
    "df1 = pd.read_json(f'./../dataset/1_1000.json')\n",
    "for i in range(1001, 90000, 1000):\n",
    "    df2 = pd.read_json(f'./../dataset/{i}_{i+999}.json')\n",
    "    df1 = pd.concat([df1, df2])"
   ]
  },
  {
   "cell_type": "code",
   "execution_count": 3,
   "metadata": {},
   "outputs": [],
   "source": [
    "df = pd.read_json(f'./../dataset/{1}_{1+999}.json')"
   ]
  },
  {
   "cell_type": "code",
   "execution_count": 8,
   "metadata": {},
   "outputs": [],
   "source": [
    "df1.to_csv('./../dataset.csv', sep=',', na_rep='NaN')"
   ]
  },
  {
   "cell_type": "code",
   "execution_count": 11,
   "metadata": {},
   "outputs": [
    {
     "name": "stdout",
     "output_type": "stream",
     "text": [
      "     NUTR_CONT8  NUTR_CONT9  NUTR_CONT4  NUTR_CONT5  NUTR_CONT6    NUM  \\\n",
      "0          1.90        0.10        8.50       16.90     1264.31      1   \n",
      "1          6.00        0.20       25.80       21.20     1535.83      2   \n",
      "2         11.30        0.30       31.60        8.50     1016.94      3   \n",
      "3          2.32        0.04        8.57        3.15      286.91      4   \n",
      "4          0.80        0.00        5.20       11.60      743.37      5   \n",
      "..          ...         ...         ...         ...         ...    ...   \n",
      "995        2.06        0.13        3.26        9.82       44.00  89996   \n",
      "996        1.77        0.11        2.71        6.46       37.00  89997   \n",
      "997        0.81        0.05        1.36        8.64       45.00  89998   \n",
      "998        2.10        0.14        3.22        5.33       38.00  89999   \n",
      "999        1.57        0.11        2.46       14.46       41.00  90000   \n",
      "\n",
      "     NUTR_CONT7  NUTR_CONT1  NUTR_CONT2  SUB_REF_NAME  ...  RESEARCH_YEAR  \\\n",
      "0        106.18      368.80       39.70  식약처('16) 제4권  ...           2019   \n",
      "1        193.40      595.61       44.90  식약처('16) 제4권  ...           2019   \n",
      "2        217.67      558.47       23.10  식약처('16) 제4권  ...           2019   \n",
      "3         31.44      176.72       13.35  식약처('12) 제1권  ...           2019   \n",
      "4          0.12      184.00       31.10  식약처('17) 제5권  ...           2019   \n",
      "..          ...         ...         ...           ...  ...            ...   \n",
      "995       21.84       97.00       13.81      농진청('15)  ...           2019   \n",
      "996        9.65      109.00       18.91      농진청('15)  ...           2019   \n",
      "997       18.93       74.00       12.08      농진청('15)  ...           2019   \n",
      "998       11.08       87.00       12.30      농진청('15)  ...           2019   \n",
      "999        8.15       95.00       15.53      농진청('15)  ...           2019   \n",
      "\n",
      "     MAKER_NAME GROUP_NAME SERVING_SIZE  SAMPLING_REGION_NAME  \\\n",
      "0           NaN        NaN        500.0                    충주   \n",
      "1           NaN        NaN        400.0                전국(대표)   \n",
      "2           NaN        NaN        300.0                    춘천   \n",
      "3           NaN        NaN         70.0                전국(대표)   \n",
      "4           NaN        NaN        100.0                전국(대표)   \n",
      "..          ...        ...          ...                   ...   \n",
      "995         NaN  우유 및 유제품류        100.0                전국(대표)   \n",
      "996         NaN  우유 및 유제품류        100.0                전국(대표)   \n",
      "997         NaN  우유 및 유제품류        100.0                전국(대표)   \n",
      "998         NaN  우유 및 유제품류        100.0                전국(대표)   \n",
      "999         NaN  우유 및 유제품류        100.0                전국(대표)   \n",
      "\n",
      "    SAMPLING_MONTH_CD SAMPLING_MONTH_NAME                    DESC_KOR  \\\n",
      "0                 AVG                  평균                        꿩불고기   \n",
      "1                 AVG                  평균                         닭갈비   \n",
      "2                 AVG                  평균                         닭갈비   \n",
      "3                 AVG                  평균                         닭꼬치   \n",
      "4                 AVG                  평균                        더덕구이   \n",
      "..                ...                 ...                         ...   \n",
      "995               AVG                  평균       요구르트, 액상(농후), 식이섬유 첨가   \n",
      "996               AVG                  평균  요구르트, 액상(농후), 사과맛, 식이섬유 첨가   \n",
      "997               AVG                  평균  요구르트, 액상(농후), 저지방, 식이섬유 첨가   \n",
      "998               AVG                  평균  요구르트, 액상(농후), 플레인, 식이섬유 첨가   \n",
      "999               AVG                  평균               요구르트, 호상, 딸기맛   \n",
      "\n",
      "    SAMPLING_REGION_CD  FOOD_CD  \n",
      "0                   94  D000006  \n",
      "1                   ZZ  D000007  \n",
      "2                   66  D000008  \n",
      "3                   ZZ  D000009  \n",
      "4                   ZZ  D000010  \n",
      "..                 ...      ...  \n",
      "995                 ZZ  R002565  \n",
      "996                 ZZ  R002566  \n",
      "997                 ZZ  R002567  \n",
      "998                 ZZ  R002568  \n",
      "999                 ZZ  R002569  \n",
      "\n",
      "[90000 rows x 21 columns]\n"
     ]
    }
   ],
   "source": [
    "df = pd.read_csv('./../dataset.csv', index_col=0)\n",
    "print(df)"
   ]
  },
  {
   "cell_type": "markdown",
   "metadata": {},
   "source": [
    "## Api data load"
   ]
  },
  {
   "cell_type": "code",
   "execution_count": 1,
   "metadata": {},
   "outputs": [],
   "source": [
    "import requests\n",
    "import json"
   ]
  },
  {
   "cell_type": "code",
   "execution_count": 2,
   "metadata": {},
   "outputs": [],
   "source": [
    "for i in range(1, 90000, 1000):\n",
    "    file_path = f\"./../dataset/{i}_{i+999}.json\"\n",
    "    url = f\"http://openapi.foodsafetykorea.go.kr/api/a8b61f7af3c34ea0930c/I2790/json/{i}/{i+999}\"\n",
    "    requestData = requests.post(url)\n",
    "    jsonData = None\n",
    "    jsonData = requestData.json()\n",
    "    jsonData = jsonData['I2790']['row']\n",
    "    with open(file_path, 'w', encoding='UTF-8') as outfile:\n",
    "        json.dump(jsonData, outfile, ensure_ascii=False)"
   ]
  },
  {
   "cell_type": "code",
   "execution_count": null,
   "metadata": {},
   "outputs": [],
   "source": []
  }
 ],
 "metadata": {
  "kernelspec": {
   "display_name": "Python 3",
   "language": "python",
   "name": "python3"
  },
  "language_info": {
   "codemirror_mode": {
    "name": "ipython",
    "version": 3
   },
   "file_extension": ".py",
   "mimetype": "text/x-python",
   "name": "python",
   "nbconvert_exporter": "python",
   "pygments_lexer": "ipython3",
   "version": "3.8.5"
  }
 },
 "nbformat": 4,
 "nbformat_minor": 4
}
