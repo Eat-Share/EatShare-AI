{
 "cells": [
  {
   "cell_type": "markdown",
   "metadata": {},
   "source": [
    "## Api data load"
   ]
  },
  {
   "cell_type": "code",
   "execution_count": 1,
   "metadata": {},
   "outputs": [],
   "source": [
    "import requests\n",
    "import json"
   ]
  },
  {
   "cell_type": "code",
   "execution_count": 2,
   "metadata": {},
   "outputs": [],
   "source": [
    "for i in range(1, 90000, 1000):\n",
    "    file_path = f\"./../dataset/{i}_{i+999}.json\"\n",
    "    url = f\"http://openapi.foodsafetykorea.go.kr/api/a8b61f7af3c34ea0930c/I2790/json/{i}/{i+999}\"\n",
    "    requestData = requests.post(url)\n",
    "    jsonData = None\n",
    "    jsonData = requestData.json()\n",
    "    jsonData = jsonData['I2790']['row']\n",
    "    with open(file_path, 'w', encoding='UTF-8') as outfile:\n",
    "        json.dump(jsonData, outfile, ensure_ascii=False)"
   ]
  },
  {
   "cell_type": "markdown",
   "metadata": {},
   "source": [
    "## json to csv"
   ]
  },
  {
   "cell_type": "code",
   "execution_count": 5,
   "metadata": {},
   "outputs": [],
   "source": [
    "df1 = pd.read_json(f'./../dataset/1_1000.json')\n",
    "for i in range(1001, 90000, 1000):\n",
    "    df2 = pd.read_json(f'./../dataset/{i}_{i+999}.json')\n",
    "    df1 = pd.concat([df1, df2])"
   ]
  },
  {
   "cell_type": "code",
   "execution_count": 3,
   "metadata": {},
   "outputs": [],
   "source": [
    "df = pd.read_json(f'./../dataset/{1}_{1+999}.json')"
   ]
  },
  {
   "cell_type": "code",
   "execution_count": 8,
   "metadata": {},
   "outputs": [],
   "source": [
    "df1.to_csv('./../dataset.csv', sep=',', na_rep='NaN')"
   ]
  },
  {
   "cell_type": "markdown",
   "metadata": {},
   "source": [
    "## load csv data"
   ]
  },
  {
   "cell_type": "code",
   "execution_count": 1,
   "metadata": {},
   "outputs": [],
   "source": [
    "import pandas as pd\n",
    "import json"
   ]
  },
  {
   "cell_type": "code",
   "execution_count": 2,
   "metadata": {},
   "outputs": [],
   "source": [
    "pd.set_option('display.max_rows', 21)"
   ]
  },
  {
   "cell_type": "code",
   "execution_count": 3,
   "metadata": {},
   "outputs": [
    {
     "data": {
      "text/plain": [
       "Index(['NUTR_CONT8', 'NUTR_CONT9', 'NUTR_CONT4', 'NUTR_CONT5', 'NUTR_CONT6',\n",
       "       'NUM', 'NUTR_CONT7', 'NUTR_CONT1', 'NUTR_CONT2', 'SUB_REF_NAME',\n",
       "       'NUTR_CONT3', 'RESEARCH_YEAR', 'MAKER_NAME', 'GROUP_NAME',\n",
       "       'SERVING_SIZE', 'SAMPLING_REGION_NAME', 'SAMPLING_MONTH_CD',\n",
       "       'SAMPLING_MONTH_NAME', 'DESC_KOR', 'SAMPLING_REGION_CD', 'FOOD_CD'],\n",
       "      dtype='object')"
      ]
     },
     "execution_count": 3,
     "metadata": {},
     "output_type": "execute_result"
    }
   ],
   "source": [
    "df = pd.read_csv('./../dataset.csv', index_col=0)\n",
    "df = pd.DataFrame(df)\n",
    "df.columns"
   ]
  },
  {
   "cell_type": "code",
   "execution_count": 5,
   "metadata": {},
   "outputs": [
    {
     "data": {
      "text/plain": [
       "'\\nDESC_KOR, NUTR_CONT2(탄), NUTR_CONT3(단), NUTR_CONT4(지)\\n'"
      ]
     },
     "execution_count": 5,
     "metadata": {},
     "output_type": "execute_result"
    }
   ],
   "source": [
    "'''\n",
    "DESC_KOR, NUTR_CONT2(탄), NUTR_CONT3(단), NUTR_CONT4(지)\n",
    "'''"
   ]
  },
  {
   "cell_type": "code",
   "execution_count": 6,
   "metadata": {
    "scrolled": true
   },
   "outputs": [
    {
     "data": {
      "text/html": [
       "<div>\n",
       "<style scoped>\n",
       "    .dataframe tbody tr th:only-of-type {\n",
       "        vertical-align: middle;\n",
       "    }\n",
       "\n",
       "    .dataframe tbody tr th {\n",
       "        vertical-align: top;\n",
       "    }\n",
       "\n",
       "    .dataframe thead th {\n",
       "        text-align: right;\n",
       "    }\n",
       "</style>\n",
       "<table border=\"1\" class=\"dataframe\">\n",
       "  <thead>\n",
       "    <tr style=\"text-align: right;\">\n",
       "      <th></th>\n",
       "      <th>NUTR_CONT8</th>\n",
       "      <th>NUTR_CONT9</th>\n",
       "      <th>NUTR_CONT4</th>\n",
       "      <th>NUTR_CONT5</th>\n",
       "      <th>NUTR_CONT6</th>\n",
       "      <th>NUM</th>\n",
       "      <th>NUTR_CONT7</th>\n",
       "      <th>NUTR_CONT1</th>\n",
       "      <th>NUTR_CONT2</th>\n",
       "      <th>SUB_REF_NAME</th>\n",
       "      <th>...</th>\n",
       "      <th>RESEARCH_YEAR</th>\n",
       "      <th>MAKER_NAME</th>\n",
       "      <th>GROUP_NAME</th>\n",
       "      <th>SERVING_SIZE</th>\n",
       "      <th>SAMPLING_REGION_NAME</th>\n",
       "      <th>SAMPLING_MONTH_CD</th>\n",
       "      <th>SAMPLING_MONTH_NAME</th>\n",
       "      <th>DESC_KOR</th>\n",
       "      <th>SAMPLING_REGION_CD</th>\n",
       "      <th>FOOD_CD</th>\n",
       "    </tr>\n",
       "  </thead>\n",
       "  <tbody>\n",
       "    <tr>\n",
       "      <th>0</th>\n",
       "      <td>1.9</td>\n",
       "      <td>0.1</td>\n",
       "      <td>8.5</td>\n",
       "      <td>16.9</td>\n",
       "      <td>1264.31</td>\n",
       "      <td>1</td>\n",
       "      <td>106.18</td>\n",
       "      <td>368.8</td>\n",
       "      <td>39.7</td>\n",
       "      <td>식약처('16) 제4권</td>\n",
       "      <td>...</td>\n",
       "      <td>2019</td>\n",
       "      <td>NaN</td>\n",
       "      <td>NaN</td>\n",
       "      <td>500.0</td>\n",
       "      <td>충주</td>\n",
       "      <td>AVG</td>\n",
       "      <td>평균</td>\n",
       "      <td>꿩불고기</td>\n",
       "      <td>94</td>\n",
       "      <td>D000006</td>\n",
       "    </tr>\n",
       "  </tbody>\n",
       "</table>\n",
       "<p>1 rows × 21 columns</p>\n",
       "</div>"
      ],
      "text/plain": [
       "   NUTR_CONT8  NUTR_CONT9  NUTR_CONT4  NUTR_CONT5  NUTR_CONT6  NUM  \\\n",
       "0         1.9         0.1         8.5        16.9     1264.31    1   \n",
       "\n",
       "   NUTR_CONT7  NUTR_CONT1  NUTR_CONT2  SUB_REF_NAME  ...  RESEARCH_YEAR  \\\n",
       "0      106.18       368.8        39.7  식약처('16) 제4권  ...           2019   \n",
       "\n",
       "   MAKER_NAME GROUP_NAME SERVING_SIZE  SAMPLING_REGION_NAME SAMPLING_MONTH_CD  \\\n",
       "0         NaN        NaN        500.0                    충주               AVG   \n",
       "\n",
       "  SAMPLING_MONTH_NAME DESC_KOR SAMPLING_REGION_CD  FOOD_CD  \n",
       "0                  평균     꿩불고기                 94  D000006  \n",
       "\n",
       "[1 rows x 21 columns]"
      ]
     },
     "execution_count": 6,
     "metadata": {},
     "output_type": "execute_result"
    }
   ],
   "source": [
    "df.head(1)"
   ]
  },
  {
   "cell_type": "code",
   "execution_count": 7,
   "metadata": {},
   "outputs": [
    {
     "data": {
      "text/html": [
       "<div>\n",
       "<style scoped>\n",
       "    .dataframe tbody tr th:only-of-type {\n",
       "        vertical-align: middle;\n",
       "    }\n",
       "\n",
       "    .dataframe tbody tr th {\n",
       "        vertical-align: top;\n",
       "    }\n",
       "\n",
       "    .dataframe thead th {\n",
       "        text-align: right;\n",
       "    }\n",
       "</style>\n",
       "<table border=\"1\" class=\"dataframe\">\n",
       "  <thead>\n",
       "    <tr style=\"text-align: right;\">\n",
       "      <th></th>\n",
       "      <th>NUTR_CONT8</th>\n",
       "      <th>NUTR_CONT9</th>\n",
       "      <th>NUTR_CONT4</th>\n",
       "      <th>NUTR_CONT5</th>\n",
       "      <th>NUTR_CONT6</th>\n",
       "      <th>NUM</th>\n",
       "      <th>NUTR_CONT7</th>\n",
       "      <th>NUTR_CONT1</th>\n",
       "      <th>NUTR_CONT2</th>\n",
       "      <th>NUTR_CONT3</th>\n",
       "      <th>RESEARCH_YEAR</th>\n",
       "      <th>SERVING_SIZE</th>\n",
       "    </tr>\n",
       "  </thead>\n",
       "  <tbody>\n",
       "    <tr>\n",
       "      <th>count</th>\n",
       "      <td>87380.000000</td>\n",
       "      <td>79295.000000</td>\n",
       "      <td>81260.000000</td>\n",
       "      <td>87902.000000</td>\n",
       "      <td>87045.000000</td>\n",
       "      <td>90000.000000</td>\n",
       "      <td>78519.000000</td>\n",
       "      <td>89076.000000</td>\n",
       "      <td>80825.000000</td>\n",
       "      <td>88016.000000</td>\n",
       "      <td>90000.000000</td>\n",
       "      <td>90000.000000</td>\n",
       "    </tr>\n",
       "    <tr>\n",
       "      <th>mean</th>\n",
       "      <td>4.602364</td>\n",
       "      <td>0.083043</td>\n",
       "      <td>10.769317</td>\n",
       "      <td>15.820747</td>\n",
       "      <td>348.436035</td>\n",
       "      <td>45000.500000</td>\n",
       "      <td>19.996419</td>\n",
       "      <td>284.363411</td>\n",
       "      <td>37.482770</td>\n",
       "      <td>7.195494</td>\n",
       "      <td>2019.827344</td>\n",
       "      <td>152.246516</td>\n",
       "    </tr>\n",
       "    <tr>\n",
       "      <th>std</th>\n",
       "      <td>30.677214</td>\n",
       "      <td>1.545942</td>\n",
       "      <td>109.161781</td>\n",
       "      <td>149.647378</td>\n",
       "      <td>729.286026</td>\n",
       "      <td>25980.906451</td>\n",
       "      <td>74.151487</td>\n",
       "      <td>1085.177111</td>\n",
       "      <td>170.391824</td>\n",
       "      <td>14.220454</td>\n",
       "      <td>1.218203</td>\n",
       "      <td>716.990578</td>\n",
       "    </tr>\n",
       "    <tr>\n",
       "      <th>min</th>\n",
       "      <td>0.000000</td>\n",
       "      <td>0.000000</td>\n",
       "      <td>0.000000</td>\n",
       "      <td>0.000000</td>\n",
       "      <td>0.000000</td>\n",
       "      <td>1.000000</td>\n",
       "      <td>0.000000</td>\n",
       "      <td>0.000000</td>\n",
       "      <td>0.000000</td>\n",
       "      <td>0.000000</td>\n",
       "      <td>2006.000000</td>\n",
       "      <td>0.030000</td>\n",
       "    </tr>\n",
       "    <tr>\n",
       "      <th>25%</th>\n",
       "      <td>0.000000</td>\n",
       "      <td>0.000000</td>\n",
       "      <td>0.400000</td>\n",
       "      <td>2.000000</td>\n",
       "      <td>20.000000</td>\n",
       "      <td>22500.750000</td>\n",
       "      <td>0.000000</td>\n",
       "      <td>88.000000</td>\n",
       "      <td>11.000000</td>\n",
       "      <td>1.000000</td>\n",
       "      <td>2019.000000</td>\n",
       "      <td>75.000000</td>\n",
       "    </tr>\n",
       "    <tr>\n",
       "      <th>50%</th>\n",
       "      <td>1.480000</td>\n",
       "      <td>0.000000</td>\n",
       "      <td>4.000000</td>\n",
       "      <td>8.000000</td>\n",
       "      <td>100.000000</td>\n",
       "      <td>45000.500000</td>\n",
       "      <td>0.000000</td>\n",
       "      <td>204.000000</td>\n",
       "      <td>25.000000</td>\n",
       "      <td>4.000000</td>\n",
       "      <td>2020.000000</td>\n",
       "      <td>100.000000</td>\n",
       "    </tr>\n",
       "    <tr>\n",
       "      <th>75%</th>\n",
       "      <td>5.542500</td>\n",
       "      <td>0.000000</td>\n",
       "      <td>12.300000</td>\n",
       "      <td>18.000000</td>\n",
       "      <td>406.000000</td>\n",
       "      <td>67500.250000</td>\n",
       "      <td>19.000000</td>\n",
       "      <td>365.000000</td>\n",
       "      <td>50.000000</td>\n",
       "      <td>9.600000</td>\n",
       "      <td>2021.000000</td>\n",
       "      <td>180.000000</td>\n",
       "    </tr>\n",
       "    <tr>\n",
       "      <th>max</th>\n",
       "      <td>5500.000000</td>\n",
       "      <td>213.000000</td>\n",
       "      <td>26374.000000</td>\n",
       "      <td>26666.000000</td>\n",
       "      <td>33654.000000</td>\n",
       "      <td>90000.000000</td>\n",
       "      <td>8000.000000</td>\n",
       "      <td>135750.000000</td>\n",
       "      <td>26666.000000</td>\n",
       "      <td>1750.000000</td>\n",
       "      <td>2021.000000</td>\n",
       "      <td>200000.000000</td>\n",
       "    </tr>\n",
       "  </tbody>\n",
       "</table>\n",
       "</div>"
      ],
      "text/plain": [
       "         NUTR_CONT8    NUTR_CONT9    NUTR_CONT4    NUTR_CONT5    NUTR_CONT6  \\\n",
       "count  87380.000000  79295.000000  81260.000000  87902.000000  87045.000000   \n",
       "mean       4.602364      0.083043     10.769317     15.820747    348.436035   \n",
       "std       30.677214      1.545942    109.161781    149.647378    729.286026   \n",
       "min        0.000000      0.000000      0.000000      0.000000      0.000000   \n",
       "25%        0.000000      0.000000      0.400000      2.000000     20.000000   \n",
       "50%        1.480000      0.000000      4.000000      8.000000    100.000000   \n",
       "75%        5.542500      0.000000     12.300000     18.000000    406.000000   \n",
       "max     5500.000000    213.000000  26374.000000  26666.000000  33654.000000   \n",
       "\n",
       "                NUM    NUTR_CONT7     NUTR_CONT1    NUTR_CONT2    NUTR_CONT3  \\\n",
       "count  90000.000000  78519.000000   89076.000000  80825.000000  88016.000000   \n",
       "mean   45000.500000     19.996419     284.363411     37.482770      7.195494   \n",
       "std    25980.906451     74.151487    1085.177111    170.391824     14.220454   \n",
       "min        1.000000      0.000000       0.000000      0.000000      0.000000   \n",
       "25%    22500.750000      0.000000      88.000000     11.000000      1.000000   \n",
       "50%    45000.500000      0.000000     204.000000     25.000000      4.000000   \n",
       "75%    67500.250000     19.000000     365.000000     50.000000      9.600000   \n",
       "max    90000.000000   8000.000000  135750.000000  26666.000000   1750.000000   \n",
       "\n",
       "       RESEARCH_YEAR   SERVING_SIZE  \n",
       "count   90000.000000   90000.000000  \n",
       "mean     2019.827344     152.246516  \n",
       "std         1.218203     716.990578  \n",
       "min      2006.000000       0.030000  \n",
       "25%      2019.000000      75.000000  \n",
       "50%      2020.000000     100.000000  \n",
       "75%      2021.000000     180.000000  \n",
       "max      2021.000000  200000.000000  "
      ]
     },
     "execution_count": 7,
     "metadata": {},
     "output_type": "execute_result"
    }
   ],
   "source": [
    "df.describe()"
   ]
  },
  {
   "cell_type": "markdown",
   "metadata": {},
   "source": [
    "## EDA"
   ]
  },
  {
   "cell_type": "code",
   "execution_count": 8,
   "metadata": {},
   "outputs": [
    {
     "data": {
      "text/html": [
       "<div>\n",
       "<style scoped>\n",
       "    .dataframe tbody tr th:only-of-type {\n",
       "        vertical-align: middle;\n",
       "    }\n",
       "\n",
       "    .dataframe tbody tr th {\n",
       "        vertical-align: top;\n",
       "    }\n",
       "\n",
       "    .dataframe thead th {\n",
       "        text-align: right;\n",
       "    }\n",
       "</style>\n",
       "<table border=\"1\" class=\"dataframe\">\n",
       "  <thead>\n",
       "    <tr style=\"text-align: right;\">\n",
       "      <th></th>\n",
       "      <th>NUTR_CONT8</th>\n",
       "      <th>NUTR_CONT9</th>\n",
       "      <th>NUTR_CONT4</th>\n",
       "      <th>NUTR_CONT5</th>\n",
       "      <th>NUTR_CONT6</th>\n",
       "      <th>NUM</th>\n",
       "      <th>NUTR_CONT7</th>\n",
       "      <th>NUTR_CONT1</th>\n",
       "      <th>NUTR_CONT2</th>\n",
       "      <th>SUB_REF_NAME</th>\n",
       "      <th>...</th>\n",
       "      <th>RESEARCH_YEAR</th>\n",
       "      <th>MAKER_NAME</th>\n",
       "      <th>GROUP_NAME</th>\n",
       "      <th>SERVING_SIZE</th>\n",
       "      <th>SAMPLING_REGION_NAME</th>\n",
       "      <th>SAMPLING_MONTH_CD</th>\n",
       "      <th>SAMPLING_MONTH_NAME</th>\n",
       "      <th>DESC_KOR</th>\n",
       "      <th>SAMPLING_REGION_CD</th>\n",
       "      <th>FOOD_CD</th>\n",
       "    </tr>\n",
       "  </thead>\n",
       "  <tbody>\n",
       "    <tr>\n",
       "      <th>0</th>\n",
       "      <td>1.90</td>\n",
       "      <td>0.10</td>\n",
       "      <td>8.50</td>\n",
       "      <td>16.90</td>\n",
       "      <td>1264.31</td>\n",
       "      <td>1</td>\n",
       "      <td>106.18</td>\n",
       "      <td>368.80</td>\n",
       "      <td>39.70</td>\n",
       "      <td>식약처('16) 제4권</td>\n",
       "      <td>...</td>\n",
       "      <td>2019</td>\n",
       "      <td>NaN</td>\n",
       "      <td>NaN</td>\n",
       "      <td>500.0</td>\n",
       "      <td>충주</td>\n",
       "      <td>AVG</td>\n",
       "      <td>평균</td>\n",
       "      <td>꿩불고기</td>\n",
       "      <td>94</td>\n",
       "      <td>D000006</td>\n",
       "    </tr>\n",
       "    <tr>\n",
       "      <th>1</th>\n",
       "      <td>6.00</td>\n",
       "      <td>0.20</td>\n",
       "      <td>25.80</td>\n",
       "      <td>21.20</td>\n",
       "      <td>1535.83</td>\n",
       "      <td>2</td>\n",
       "      <td>193.40</td>\n",
       "      <td>595.61</td>\n",
       "      <td>44.90</td>\n",
       "      <td>식약처('16) 제4권</td>\n",
       "      <td>...</td>\n",
       "      <td>2019</td>\n",
       "      <td>NaN</td>\n",
       "      <td>NaN</td>\n",
       "      <td>400.0</td>\n",
       "      <td>전국(대표)</td>\n",
       "      <td>AVG</td>\n",
       "      <td>평균</td>\n",
       "      <td>닭갈비</td>\n",
       "      <td>ZZ</td>\n",
       "      <td>D000007</td>\n",
       "    </tr>\n",
       "    <tr>\n",
       "      <th>2</th>\n",
       "      <td>11.30</td>\n",
       "      <td>0.30</td>\n",
       "      <td>31.60</td>\n",
       "      <td>8.50</td>\n",
       "      <td>1016.94</td>\n",
       "      <td>3</td>\n",
       "      <td>217.67</td>\n",
       "      <td>558.47</td>\n",
       "      <td>23.10</td>\n",
       "      <td>식약처('16) 제4권</td>\n",
       "      <td>...</td>\n",
       "      <td>2019</td>\n",
       "      <td>NaN</td>\n",
       "      <td>NaN</td>\n",
       "      <td>300.0</td>\n",
       "      <td>춘천</td>\n",
       "      <td>AVG</td>\n",
       "      <td>평균</td>\n",
       "      <td>닭갈비</td>\n",
       "      <td>66</td>\n",
       "      <td>D000008</td>\n",
       "    </tr>\n",
       "    <tr>\n",
       "      <th>3</th>\n",
       "      <td>2.32</td>\n",
       "      <td>0.04</td>\n",
       "      <td>8.57</td>\n",
       "      <td>3.15</td>\n",
       "      <td>286.91</td>\n",
       "      <td>4</td>\n",
       "      <td>31.44</td>\n",
       "      <td>176.72</td>\n",
       "      <td>13.35</td>\n",
       "      <td>식약처('12) 제1권</td>\n",
       "      <td>...</td>\n",
       "      <td>2019</td>\n",
       "      <td>NaN</td>\n",
       "      <td>NaN</td>\n",
       "      <td>70.0</td>\n",
       "      <td>전국(대표)</td>\n",
       "      <td>AVG</td>\n",
       "      <td>평균</td>\n",
       "      <td>닭꼬치</td>\n",
       "      <td>ZZ</td>\n",
       "      <td>D000009</td>\n",
       "    </tr>\n",
       "    <tr>\n",
       "      <th>4</th>\n",
       "      <td>0.80</td>\n",
       "      <td>0.00</td>\n",
       "      <td>5.20</td>\n",
       "      <td>11.60</td>\n",
       "      <td>743.37</td>\n",
       "      <td>5</td>\n",
       "      <td>0.12</td>\n",
       "      <td>184.00</td>\n",
       "      <td>31.10</td>\n",
       "      <td>식약처('17) 제5권</td>\n",
       "      <td>...</td>\n",
       "      <td>2019</td>\n",
       "      <td>NaN</td>\n",
       "      <td>NaN</td>\n",
       "      <td>100.0</td>\n",
       "      <td>전국(대표)</td>\n",
       "      <td>AVG</td>\n",
       "      <td>평균</td>\n",
       "      <td>더덕구이</td>\n",
       "      <td>ZZ</td>\n",
       "      <td>D000010</td>\n",
       "    </tr>\n",
       "  </tbody>\n",
       "</table>\n",
       "<p>5 rows × 21 columns</p>\n",
       "</div>"
      ],
      "text/plain": [
       "   NUTR_CONT8  NUTR_CONT9  NUTR_CONT4  NUTR_CONT5  NUTR_CONT6  NUM  \\\n",
       "0        1.90        0.10        8.50       16.90     1264.31    1   \n",
       "1        6.00        0.20       25.80       21.20     1535.83    2   \n",
       "2       11.30        0.30       31.60        8.50     1016.94    3   \n",
       "3        2.32        0.04        8.57        3.15      286.91    4   \n",
       "4        0.80        0.00        5.20       11.60      743.37    5   \n",
       "\n",
       "   NUTR_CONT7  NUTR_CONT1  NUTR_CONT2  SUB_REF_NAME  ...  RESEARCH_YEAR  \\\n",
       "0      106.18      368.80       39.70  식약처('16) 제4권  ...           2019   \n",
       "1      193.40      595.61       44.90  식약처('16) 제4권  ...           2019   \n",
       "2      217.67      558.47       23.10  식약처('16) 제4권  ...           2019   \n",
       "3       31.44      176.72       13.35  식약처('12) 제1권  ...           2019   \n",
       "4        0.12      184.00       31.10  식약처('17) 제5권  ...           2019   \n",
       "\n",
       "   MAKER_NAME GROUP_NAME SERVING_SIZE  SAMPLING_REGION_NAME SAMPLING_MONTH_CD  \\\n",
       "0         NaN        NaN        500.0                    충주               AVG   \n",
       "1         NaN        NaN        400.0                전국(대표)               AVG   \n",
       "2         NaN        NaN        300.0                    춘천               AVG   \n",
       "3         NaN        NaN         70.0                전국(대표)               AVG   \n",
       "4         NaN        NaN        100.0                전국(대표)               AVG   \n",
       "\n",
       "  SAMPLING_MONTH_NAME DESC_KOR SAMPLING_REGION_CD  FOOD_CD  \n",
       "0                  평균     꿩불고기                 94  D000006  \n",
       "1                  평균      닭갈비                 ZZ  D000007  \n",
       "2                  평균      닭갈비                 66  D000008  \n",
       "3                  평균      닭꼬치                 ZZ  D000009  \n",
       "4                  평균     더덕구이                 ZZ  D000010  \n",
       "\n",
       "[5 rows x 21 columns]"
      ]
     },
     "execution_count": 8,
     "metadata": {},
     "output_type": "execute_result"
    }
   ],
   "source": [
    "df.head()"
   ]
  },
  {
   "cell_type": "code",
   "execution_count": 9,
   "metadata": {},
   "outputs": [],
   "source": [
    "new_df = df.drop(['NUTR_CONT8','NUTR_CONT1', 'NUTR_CONT5', 'NUTR_CONT6', 'NUTR_CONT7', 'NUTR_CONT9', 'SERVING_SIZE', 'SUB_REF_NAME', 'MAKER_NAME', 'RESEARCH_YEAR', 'GROUP_NAME', 'SAMPLING_MONTH_CD', 'SAMPLING_REGION_CD', 'SAMPLING_MONTH_NAME', 'SAMPLING_REGION_NAME', 'FOOD_CD', 'NUM'], axis=1)"
   ]
  },
  {
   "cell_type": "code",
   "execution_count": 10,
   "metadata": {
    "scrolled": true
   },
   "outputs": [
    {
     "data": {
      "text/html": [
       "<div>\n",
       "<style scoped>\n",
       "    .dataframe tbody tr th:only-of-type {\n",
       "        vertical-align: middle;\n",
       "    }\n",
       "\n",
       "    .dataframe tbody tr th {\n",
       "        vertical-align: top;\n",
       "    }\n",
       "\n",
       "    .dataframe thead th {\n",
       "        text-align: right;\n",
       "    }\n",
       "</style>\n",
       "<table border=\"1\" class=\"dataframe\">\n",
       "  <thead>\n",
       "    <tr style=\"text-align: right;\">\n",
       "      <th></th>\n",
       "      <th>NUTR_CONT4</th>\n",
       "      <th>NUTR_CONT2</th>\n",
       "      <th>NUTR_CONT3</th>\n",
       "      <th>DESC_KOR</th>\n",
       "    </tr>\n",
       "  </thead>\n",
       "  <tbody>\n",
       "    <tr>\n",
       "      <th>0</th>\n",
       "      <td>8.50</td>\n",
       "      <td>39.70</td>\n",
       "      <td>33.50</td>\n",
       "      <td>꿩불고기</td>\n",
       "    </tr>\n",
       "    <tr>\n",
       "      <th>1</th>\n",
       "      <td>25.80</td>\n",
       "      <td>44.90</td>\n",
       "      <td>45.90</td>\n",
       "      <td>닭갈비</td>\n",
       "    </tr>\n",
       "    <tr>\n",
       "      <th>2</th>\n",
       "      <td>31.60</td>\n",
       "      <td>23.10</td>\n",
       "      <td>45.50</td>\n",
       "      <td>닭갈비</td>\n",
       "    </tr>\n",
       "    <tr>\n",
       "      <th>3</th>\n",
       "      <td>8.57</td>\n",
       "      <td>13.35</td>\n",
       "      <td>11.56</td>\n",
       "      <td>닭꼬치</td>\n",
       "    </tr>\n",
       "    <tr>\n",
       "      <th>4</th>\n",
       "      <td>5.20</td>\n",
       "      <td>31.10</td>\n",
       "      <td>3.10</td>\n",
       "      <td>더덕구이</td>\n",
       "    </tr>\n",
       "  </tbody>\n",
       "</table>\n",
       "</div>"
      ],
      "text/plain": [
       "   NUTR_CONT4  NUTR_CONT2  NUTR_CONT3 DESC_KOR\n",
       "0        8.50       39.70       33.50     꿩불고기\n",
       "1       25.80       44.90       45.90      닭갈비\n",
       "2       31.60       23.10       45.50      닭갈비\n",
       "3        8.57       13.35       11.56      닭꼬치\n",
       "4        5.20       31.10        3.10     더덕구이"
      ]
     },
     "execution_count": 10,
     "metadata": {},
     "output_type": "execute_result"
    }
   ],
   "source": [
    "new_df.head()"
   ]
  },
  {
   "cell_type": "code",
   "execution_count": null,
   "metadata": {},
   "outputs": [],
   "source": [
    "#UTR_CONT2(탄), NUTR_CONT3(단), NUTR_CONT4(지)"
   ]
  },
  {
   "cell_type": "code",
   "execution_count": 25,
   "metadata": {},
   "outputs": [
    {
     "data": {
      "text/plain": [
       "90000"
      ]
     },
     "execution_count": 25,
     "metadata": {},
     "output_type": "execute_result"
    }
   ],
   "source": [
    "len(new_df)"
   ]
  },
  {
   "cell_type": "code",
   "execution_count": 131,
   "metadata": {
    "scrolled": false
   },
   "outputs": [],
   "source": [
    "new_df['NUTR_CONT3']=new_df['NUTR_CONT3'].mul(3)"
   ]
  },
  {
   "cell_type": "code",
   "execution_count": 132,
   "metadata": {},
   "outputs": [
    {
     "data": {
      "text/html": [
       "<div>\n",
       "<style scoped>\n",
       "    .dataframe tbody tr th:only-of-type {\n",
       "        vertical-align: middle;\n",
       "    }\n",
       "\n",
       "    .dataframe tbody tr th {\n",
       "        vertical-align: top;\n",
       "    }\n",
       "\n",
       "    .dataframe thead th {\n",
       "        text-align: right;\n",
       "    }\n",
       "</style>\n",
       "<table border=\"1\" class=\"dataframe\">\n",
       "  <thead>\n",
       "    <tr style=\"text-align: right;\">\n",
       "      <th></th>\n",
       "      <th>NUTR_CONT4</th>\n",
       "      <th>NUTR_CONT2</th>\n",
       "      <th>NUTR_CONT3</th>\n",
       "      <th>DESC_KOR</th>\n",
       "    </tr>\n",
       "  </thead>\n",
       "  <tbody>\n",
       "    <tr>\n",
       "      <th>0</th>\n",
       "      <td>8.50</td>\n",
       "      <td>39.70</td>\n",
       "      <td>100.50</td>\n",
       "      <td>꿩불고기</td>\n",
       "    </tr>\n",
       "    <tr>\n",
       "      <th>1</th>\n",
       "      <td>25.80</td>\n",
       "      <td>44.90</td>\n",
       "      <td>137.70</td>\n",
       "      <td>닭갈비</td>\n",
       "    </tr>\n",
       "    <tr>\n",
       "      <th>2</th>\n",
       "      <td>31.60</td>\n",
       "      <td>23.10</td>\n",
       "      <td>136.50</td>\n",
       "      <td>닭갈비</td>\n",
       "    </tr>\n",
       "    <tr>\n",
       "      <th>3</th>\n",
       "      <td>8.57</td>\n",
       "      <td>13.35</td>\n",
       "      <td>34.68</td>\n",
       "      <td>닭꼬치</td>\n",
       "    </tr>\n",
       "    <tr>\n",
       "      <th>4</th>\n",
       "      <td>5.20</td>\n",
       "      <td>31.10</td>\n",
       "      <td>9.30</td>\n",
       "      <td>더덕구이</td>\n",
       "    </tr>\n",
       "  </tbody>\n",
       "</table>\n",
       "</div>"
      ],
      "text/plain": [
       "   NUTR_CONT4  NUTR_CONT2  NUTR_CONT3 DESC_KOR\n",
       "0        8.50       39.70      100.50     꿩불고기\n",
       "1       25.80       44.90      137.70      닭갈비\n",
       "2       31.60       23.10      136.50      닭갈비\n",
       "3        8.57       13.35       34.68      닭꼬치\n",
       "4        5.20       31.10        9.30     더덕구이"
      ]
     },
     "execution_count": 132,
     "metadata": {},
     "output_type": "execute_result"
    }
   ],
   "source": [
    "new_df.head()"
   ]
  },
  {
   "cell_type": "markdown",
   "metadata": {},
   "source": [
    "---"
   ]
  },
  {
   "cell_type": "code",
   "execution_count": 11,
   "metadata": {
    "scrolled": true
   },
   "outputs": [
    {
     "data": {
      "text/html": [
       "<div>\n",
       "<style scoped>\n",
       "    .dataframe tbody tr th:only-of-type {\n",
       "        vertical-align: middle;\n",
       "    }\n",
       "\n",
       "    .dataframe tbody tr th {\n",
       "        vertical-align: top;\n",
       "    }\n",
       "\n",
       "    .dataframe thead th {\n",
       "        text-align: right;\n",
       "    }\n",
       "</style>\n",
       "<table border=\"1\" class=\"dataframe\">\n",
       "  <thead>\n",
       "    <tr style=\"text-align: right;\">\n",
       "      <th></th>\n",
       "      <th>NUTR_CONT4</th>\n",
       "      <th>NUTR_CONT2</th>\n",
       "      <th>NUTR_CONT3</th>\n",
       "      <th>DESC_KOR</th>\n",
       "    </tr>\n",
       "  </thead>\n",
       "  <tbody>\n",
       "    <tr>\n",
       "      <th>0</th>\n",
       "      <td>8.50</td>\n",
       "      <td>39.70</td>\n",
       "      <td>33.50</td>\n",
       "      <td>꿩불고기</td>\n",
       "    </tr>\n",
       "    <tr>\n",
       "      <th>1</th>\n",
       "      <td>25.80</td>\n",
       "      <td>44.90</td>\n",
       "      <td>45.90</td>\n",
       "      <td>닭갈비</td>\n",
       "    </tr>\n",
       "    <tr>\n",
       "      <th>2</th>\n",
       "      <td>31.60</td>\n",
       "      <td>23.10</td>\n",
       "      <td>45.50</td>\n",
       "      <td>닭갈비</td>\n",
       "    </tr>\n",
       "    <tr>\n",
       "      <th>3</th>\n",
       "      <td>8.57</td>\n",
       "      <td>13.35</td>\n",
       "      <td>11.56</td>\n",
       "      <td>닭꼬치</td>\n",
       "    </tr>\n",
       "    <tr>\n",
       "      <th>4</th>\n",
       "      <td>5.20</td>\n",
       "      <td>31.10</td>\n",
       "      <td>3.10</td>\n",
       "      <td>더덕구이</td>\n",
       "    </tr>\n",
       "  </tbody>\n",
       "</table>\n",
       "</div>"
      ],
      "text/plain": [
       "   NUTR_CONT4  NUTR_CONT2  NUTR_CONT3 DESC_KOR\n",
       "0        8.50       39.70       33.50     꿩불고기\n",
       "1       25.80       44.90       45.90      닭갈비\n",
       "2       31.60       23.10       45.50      닭갈비\n",
       "3        8.57       13.35       11.56      닭꼬치\n",
       "4        5.20       31.10        3.10     더덕구이"
      ]
     },
     "execution_count": 11,
     "metadata": {},
     "output_type": "execute_result"
    }
   ],
   "source": [
    "new_df.head()"
   ]
  },
  {
   "cell_type": "code",
   "execution_count": 13,
   "metadata": {},
   "outputs": [
    {
     "data": {
      "text/html": [
       "<div>\n",
       "<style scoped>\n",
       "    .dataframe tbody tr th:only-of-type {\n",
       "        vertical-align: middle;\n",
       "    }\n",
       "\n",
       "    .dataframe tbody tr th {\n",
       "        vertical-align: top;\n",
       "    }\n",
       "\n",
       "    .dataframe thead th {\n",
       "        text-align: right;\n",
       "    }\n",
       "</style>\n",
       "<table border=\"1\" class=\"dataframe\">\n",
       "  <thead>\n",
       "    <tr style=\"text-align: right;\">\n",
       "      <th></th>\n",
       "      <th>NUTR_CONT4</th>\n",
       "      <th>NUTR_CONT2</th>\n",
       "      <th>NUTR_CONT3</th>\n",
       "      <th>DESC_KOR</th>\n",
       "    </tr>\n",
       "  </thead>\n",
       "  <tbody>\n",
       "    <tr>\n",
       "      <th>0</th>\n",
       "      <td>8.50</td>\n",
       "      <td>39.70</td>\n",
       "      <td>33.50</td>\n",
       "      <td>꿩불고기</td>\n",
       "    </tr>\n",
       "    <tr>\n",
       "      <th>1</th>\n",
       "      <td>25.80</td>\n",
       "      <td>44.90</td>\n",
       "      <td>45.90</td>\n",
       "      <td>닭갈비</td>\n",
       "    </tr>\n",
       "    <tr>\n",
       "      <th>2</th>\n",
       "      <td>31.60</td>\n",
       "      <td>23.10</td>\n",
       "      <td>45.50</td>\n",
       "      <td>닭갈비</td>\n",
       "    </tr>\n",
       "    <tr>\n",
       "      <th>3</th>\n",
       "      <td>8.57</td>\n",
       "      <td>13.35</td>\n",
       "      <td>11.56</td>\n",
       "      <td>닭꼬치</td>\n",
       "    </tr>\n",
       "    <tr>\n",
       "      <th>4</th>\n",
       "      <td>5.20</td>\n",
       "      <td>31.10</td>\n",
       "      <td>3.10</td>\n",
       "      <td>더덕구이</td>\n",
       "    </tr>\n",
       "    <tr>\n",
       "      <th>...</th>\n",
       "      <td>...</td>\n",
       "      <td>...</td>\n",
       "      <td>...</td>\n",
       "      <td>...</td>\n",
       "    </tr>\n",
       "    <tr>\n",
       "      <th>995</th>\n",
       "      <td>3.26</td>\n",
       "      <td>13.81</td>\n",
       "      <td>3.19</td>\n",
       "      <td>요구르트, 액상(농후), 식이섬유 첨가</td>\n",
       "    </tr>\n",
       "    <tr>\n",
       "      <th>996</th>\n",
       "      <td>2.71</td>\n",
       "      <td>18.91</td>\n",
       "      <td>2.57</td>\n",
       "      <td>요구르트, 액상(농후), 사과맛, 식이섬유 첨가</td>\n",
       "    </tr>\n",
       "    <tr>\n",
       "      <th>997</th>\n",
       "      <td>1.36</td>\n",
       "      <td>12.08</td>\n",
       "      <td>3.54</td>\n",
       "      <td>요구르트, 액상(농후), 저지방, 식이섬유 첨가</td>\n",
       "    </tr>\n",
       "    <tr>\n",
       "      <th>998</th>\n",
       "      <td>3.22</td>\n",
       "      <td>12.30</td>\n",
       "      <td>2.31</td>\n",
       "      <td>요구르트, 액상(농후), 플레인, 식이섬유 첨가</td>\n",
       "    </tr>\n",
       "    <tr>\n",
       "      <th>999</th>\n",
       "      <td>2.46</td>\n",
       "      <td>15.53</td>\n",
       "      <td>2.95</td>\n",
       "      <td>요구르트, 호상, 딸기맛</td>\n",
       "    </tr>\n",
       "  </tbody>\n",
       "</table>\n",
       "<p>90000 rows × 4 columns</p>\n",
       "</div>"
      ],
      "text/plain": [
       "     NUTR_CONT4  NUTR_CONT2  NUTR_CONT3                    DESC_KOR\n",
       "0          8.50       39.70       33.50                        꿩불고기\n",
       "1         25.80       44.90       45.90                         닭갈비\n",
       "2         31.60       23.10       45.50                         닭갈비\n",
       "3          8.57       13.35       11.56                         닭꼬치\n",
       "4          5.20       31.10        3.10                        더덕구이\n",
       "..          ...         ...         ...                         ...\n",
       "995        3.26       13.81        3.19       요구르트, 액상(농후), 식이섬유 첨가\n",
       "996        2.71       18.91        2.57  요구르트, 액상(농후), 사과맛, 식이섬유 첨가\n",
       "997        1.36       12.08        3.54  요구르트, 액상(농후), 저지방, 식이섬유 첨가\n",
       "998        3.22       12.30        2.31  요구르트, 액상(농후), 플레인, 식이섬유 첨가\n",
       "999        2.46       15.53        2.95               요구르트, 호상, 딸기맛\n",
       "\n",
       "[90000 rows x 4 columns]"
      ]
     },
     "execution_count": 13,
     "metadata": {},
     "output_type": "execute_result"
    }
   ],
   "source": [
    "new_df"
   ]
  },
  {
   "cell_type": "code",
   "execution_count": 76,
   "metadata": {
    "scrolled": true
   },
   "outputs": [
    {
     "name": "stderr",
     "output_type": "stream",
     "text": [
      "C:\\Users\\ruddn\\AppData\\Local\\Temp/ipykernel_29404/209124020.py:6: SettingWithCopyWarning: \n",
      "A value is trying to be set on a copy of a slice from a DataFrame.\n",
      "Try using .loc[row_indexer,col_indexer] = value instead\n",
      "\n",
      "See the caveats in the documentation: https://pandas.pydata.org/pandas-docs/stable/user_guide/indexing.html#returning-a-view-versus-a-copy\n",
      "  ttt['label'] = 0\n"
     ]
    },
    {
     "data": {
      "text/html": [
       "<div>\n",
       "<style scoped>\n",
       "    .dataframe tbody tr th:only-of-type {\n",
       "        vertical-align: middle;\n",
       "    }\n",
       "\n",
       "    .dataframe tbody tr th {\n",
       "        vertical-align: top;\n",
       "    }\n",
       "\n",
       "    .dataframe thead th {\n",
       "        text-align: right;\n",
       "    }\n",
       "</style>\n",
       "<table border=\"1\" class=\"dataframe\">\n",
       "  <thead>\n",
       "    <tr style=\"text-align: right;\">\n",
       "      <th></th>\n",
       "      <th>NUTR_CONT4</th>\n",
       "      <th>NUTR_CONT2</th>\n",
       "      <th>NUTR_CONT3</th>\n",
       "      <th>DESC_KOR</th>\n",
       "      <th>label</th>\n",
       "    </tr>\n",
       "  </thead>\n",
       "  <tbody>\n",
       "    <tr>\n",
       "      <th>20</th>\n",
       "      <td>17.80</td>\n",
       "      <td>88.40</td>\n",
       "      <td>42.40</td>\n",
       "      <td>굴국밥</td>\n",
       "      <td>0</td>\n",
       "    </tr>\n",
       "    <tr>\n",
       "      <th>45</th>\n",
       "      <td>18.90</td>\n",
       "      <td>55.30</td>\n",
       "      <td>34.40</td>\n",
       "      <td>물회</td>\n",
       "      <td>0</td>\n",
       "    </tr>\n",
       "    <tr>\n",
       "      <th>46</th>\n",
       "      <td>12.30</td>\n",
       "      <td>82.50</td>\n",
       "      <td>34.30</td>\n",
       "      <td>생선물회</td>\n",
       "      <td>0</td>\n",
       "    </tr>\n",
       "    <tr>\n",
       "      <th>76</th>\n",
       "      <td>12.80</td>\n",
       "      <td>94.70</td>\n",
       "      <td>42.20</td>\n",
       "      <td>닭칼국수</td>\n",
       "      <td>0</td>\n",
       "    </tr>\n",
       "    <tr>\n",
       "      <th>80</th>\n",
       "      <td>18.14</td>\n",
       "      <td>126.53</td>\n",
       "      <td>33.64</td>\n",
       "      <td>삼선자장면</td>\n",
       "      <td>0</td>\n",
       "    </tr>\n",
       "    <tr>\n",
       "      <th>...</th>\n",
       "      <td>...</td>\n",
       "      <td>...</td>\n",
       "      <td>...</td>\n",
       "      <td>...</td>\n",
       "      <td>...</td>\n",
       "    </tr>\n",
       "    <tr>\n",
       "      <th>93</th>\n",
       "      <td>101.00</td>\n",
       "      <td>97.00</td>\n",
       "      <td>42.00</td>\n",
       "      <td>햄치즈크로와상샌드</td>\n",
       "      <td>0</td>\n",
       "    </tr>\n",
       "    <tr>\n",
       "      <th>213</th>\n",
       "      <td>103.00</td>\n",
       "      <td>62.00</td>\n",
       "      <td>30.00</td>\n",
       "      <td>허닭식단 밀키트 감바스 알 아히요</td>\n",
       "      <td>0</td>\n",
       "    </tr>\n",
       "    <tr>\n",
       "      <th>335</th>\n",
       "      <td>28.00</td>\n",
       "      <td>116.00</td>\n",
       "      <td>33.00</td>\n",
       "      <td>화이트라구소스리가토니</td>\n",
       "      <td>0</td>\n",
       "    </tr>\n",
       "    <tr>\n",
       "      <th>341</th>\n",
       "      <td>57.00</td>\n",
       "      <td>113.00</td>\n",
       "      <td>38.00</td>\n",
       "      <td>황금왕돈까스도시락</td>\n",
       "      <td>0</td>\n",
       "    </tr>\n",
       "    <tr>\n",
       "      <th>401</th>\n",
       "      <td>54.00</td>\n",
       "      <td>63.00</td>\n",
       "      <td>99.00</td>\n",
       "      <td>흑미들깨삼계탕</td>\n",
       "      <td>0</td>\n",
       "    </tr>\n",
       "  </tbody>\n",
       "</table>\n",
       "<p>1161 rows × 5 columns</p>\n",
       "</div>"
      ],
      "text/plain": [
       "     NUTR_CONT4  NUTR_CONT2  NUTR_CONT3            DESC_KOR  label\n",
       "20        17.80       88.40       42.40                 굴국밥      0\n",
       "45        18.90       55.30       34.40                  물회      0\n",
       "46        12.30       82.50       34.30                생선물회      0\n",
       "76        12.80       94.70       42.20                닭칼국수      0\n",
       "80        18.14      126.53       33.64               삼선자장면      0\n",
       "..          ...         ...         ...                 ...    ...\n",
       "93       101.00       97.00       42.00           햄치즈크로와상샌드      0\n",
       "213      103.00       62.00       30.00  허닭식단 밀키트 감바스 알 아히요      0\n",
       "335       28.00      116.00       33.00         화이트라구소스리가토니      0\n",
       "341       57.00      113.00       38.00           황금왕돈까스도시락      0\n",
       "401       54.00       63.00       99.00             흑미들깨삼계탕      0\n",
       "\n",
       "[1161 rows x 5 columns]"
      ]
     },
     "execution_count": 76,
     "metadata": {},
     "output_type": "execute_result"
    }
   ],
   "source": [
    "# zzo = 탄zero 단zero 지one\n",
    "# NUTR_CONT2(탄), NUTR_CONT3(단), NUTR_CONT4(지)\n",
    "ttt = (new_df.NUTR_CONT2>=50) & (new_df.NUTR_CONT3>=28.8) &(new_df.NUTR_CONT4>=12.3)\n",
    "ttt = new_df[ttt]\n",
    "ttt['label'] = 0\n",
    "ttt"
   ]
  },
  {
   "cell_type": "code",
   "execution_count": 78,
   "metadata": {},
   "outputs": [
    {
     "name": "stderr",
     "output_type": "stream",
     "text": [
      "C:\\Users\\ruddn\\AppData\\Local\\Temp/ipykernel_29404/1500236104.py:5: SettingWithCopyWarning: \n",
      "A value is trying to be set on a copy of a slice from a DataFrame.\n",
      "Try using .loc[row_indexer,col_indexer] = value instead\n",
      "\n",
      "See the caveats in the documentation: https://pandas.pydata.org/pandas-docs/stable/user_guide/indexing.html#returning-a-view-versus-a-copy\n",
      "  ooo['label'] = 1\n"
     ]
    },
    {
     "data": {
      "text/html": [
       "<div>\n",
       "<style scoped>\n",
       "    .dataframe tbody tr th:only-of-type {\n",
       "        vertical-align: middle;\n",
       "    }\n",
       "\n",
       "    .dataframe tbody tr th {\n",
       "        vertical-align: top;\n",
       "    }\n",
       "\n",
       "    .dataframe thead th {\n",
       "        text-align: right;\n",
       "    }\n",
       "</style>\n",
       "<table border=\"1\" class=\"dataframe\">\n",
       "  <thead>\n",
       "    <tr style=\"text-align: right;\">\n",
       "      <th></th>\n",
       "      <th>NUTR_CONT4</th>\n",
       "      <th>NUTR_CONT2</th>\n",
       "      <th>NUTR_CONT3</th>\n",
       "      <th>DESC_KOR</th>\n",
       "      <th>label</th>\n",
       "    </tr>\n",
       "  </thead>\n",
       "  <tbody>\n",
       "    <tr>\n",
       "      <th>105</th>\n",
       "      <td>4.60</td>\n",
       "      <td>45.90</td>\n",
       "      <td>22.60</td>\n",
       "      <td>서대회무침</td>\n",
       "      <td>1</td>\n",
       "    </tr>\n",
       "    <tr>\n",
       "      <th>129</th>\n",
       "      <td>8.10</td>\n",
       "      <td>42.60</td>\n",
       "      <td>21.80</td>\n",
       "      <td>소고기국밥</td>\n",
       "      <td>1</td>\n",
       "    </tr>\n",
       "    <tr>\n",
       "      <th>258</th>\n",
       "      <td>10.20</td>\n",
       "      <td>48.60</td>\n",
       "      <td>28.60</td>\n",
       "      <td>메기매운탕</td>\n",
       "      <td>1</td>\n",
       "    </tr>\n",
       "    <tr>\n",
       "      <th>768</th>\n",
       "      <td>4.00</td>\n",
       "      <td>47.00</td>\n",
       "      <td>16.00</td>\n",
       "      <td>갈릭브레드</td>\n",
       "      <td>1</td>\n",
       "    </tr>\n",
       "    <tr>\n",
       "      <th>936</th>\n",
       "      <td>9.80</td>\n",
       "      <td>38.28</td>\n",
       "      <td>27.23</td>\n",
       "      <td>고기만두</td>\n",
       "      <td>1</td>\n",
       "    </tr>\n",
       "    <tr>\n",
       "      <th>...</th>\n",
       "      <td>...</td>\n",
       "      <td>...</td>\n",
       "      <td>...</td>\n",
       "      <td>...</td>\n",
       "      <td>...</td>\n",
       "    </tr>\n",
       "    <tr>\n",
       "      <th>441</th>\n",
       "      <td>4.40</td>\n",
       "      <td>43.70</td>\n",
       "      <td>27.70</td>\n",
       "      <td>아이비카, 닥풀, 말린것</td>\n",
       "      <td>1</td>\n",
       "    </tr>\n",
       "    <tr>\n",
       "      <th>491</th>\n",
       "      <td>4.40</td>\n",
       "      <td>28.60</td>\n",
       "      <td>15.70</td>\n",
       "      <td>붕어, 삶은것</td>\n",
       "      <td>1</td>\n",
       "    </tr>\n",
       "    <tr>\n",
       "      <th>497</th>\n",
       "      <td>5.10</td>\n",
       "      <td>27.00</td>\n",
       "      <td>26.70</td>\n",
       "      <td>빙어, 장조림</td>\n",
       "      <td>1</td>\n",
       "    </tr>\n",
       "    <tr>\n",
       "      <th>899</th>\n",
       "      <td>4.20</td>\n",
       "      <td>41.40</td>\n",
       "      <td>18.60</td>\n",
       "      <td>오징어채 볶음, 볶은것</td>\n",
       "      <td>1</td>\n",
       "    </tr>\n",
       "    <tr>\n",
       "      <th>943</th>\n",
       "      <td>4.83</td>\n",
       "      <td>43.65</td>\n",
       "      <td>20.31</td>\n",
       "      <td>미역, 말린것</td>\n",
       "      <td>1</td>\n",
       "    </tr>\n",
       "  </tbody>\n",
       "</table>\n",
       "<p>1263 rows × 5 columns</p>\n",
       "</div>"
      ],
      "text/plain": [
       "     NUTR_CONT4  NUTR_CONT2  NUTR_CONT3       DESC_KOR  label\n",
       "105        4.60       45.90       22.60          서대회무침      1\n",
       "129        8.10       42.60       21.80          소고기국밥      1\n",
       "258       10.20       48.60       28.60          메기매운탕      1\n",
       "768        4.00       47.00       16.00          갈릭브레드      1\n",
       "936        9.80       38.28       27.23           고기만두      1\n",
       "..          ...         ...         ...            ...    ...\n",
       "441        4.40       43.70       27.70  아이비카, 닥풀, 말린것      1\n",
       "491        4.40       28.60       15.70        붕어, 삶은것      1\n",
       "497        5.10       27.00       26.70        빙어, 장조림      1\n",
       "899        4.20       41.40       18.60   오징어채 볶음, 볶은것      1\n",
       "943        4.83       43.65       20.31        미역, 말린것      1\n",
       "\n",
       "[1263 rows x 5 columns]"
      ]
     },
     "execution_count": 78,
     "metadata": {},
     "output_type": "execute_result"
    }
   ],
   "source": [
    "# zoz = 탄zero 단one 지zero \n",
    "# NUTR_CONT2(탄), NUTR_CONT3(단), NUTR_CONT4(지)\n",
    "ooo = (25<=new_df.NUTR_CONT2) & (new_df.NUTR_CONT2<50) & (12<=new_df.NUTR_CONT3) & (new_df.NUTR_CONT3<28.8) & (4<=new_df.NUTR_CONT4) & (new_df.NUTR_CONT4<12.3)\n",
    "ooo = new_df[ooo]\n",
    "ooo['label'] = 1\n",
    "ooo"
   ]
  },
  {
   "cell_type": "code",
   "execution_count": 79,
   "metadata": {},
   "outputs": [
    {
     "name": "stderr",
     "output_type": "stream",
     "text": [
      "C:\\Users\\ruddn\\AppData\\Local\\Temp/ipykernel_29404/1227741264.py:5: SettingWithCopyWarning: \n",
      "A value is trying to be set on a copy of a slice from a DataFrame.\n",
      "Try using .loc[row_indexer,col_indexer] = value instead\n",
      "\n",
      "See the caveats in the documentation: https://pandas.pydata.org/pandas-docs/stable/user_guide/indexing.html#returning-a-view-versus-a-copy\n",
      "  zzz['label'] = 2\n"
     ]
    }
   ],
   "source": [
    "# zoz = 탄one 단one 지zero \n",
    "# NUTR_CONT2(탄), NUTR_CONT3(단), NUTR_CONT4(지)\n",
    "zzz = (new_df.NUTR_CONT2<25) & (new_df.NUTR_CONT3<12) & (new_df.NUTR_CONT4<4)\n",
    "zzz = new_df[zzz]\n",
    "zzz['label'] = 2"
   ]
  },
  {
   "cell_type": "code",
   "execution_count": 80,
   "metadata": {},
   "outputs": [
    {
     "name": "stderr",
     "output_type": "stream",
     "text": [
      "C:\\Users\\ruddn\\AppData\\Local\\Temp/ipykernel_29404/237279350.py:3: SettingWithCopyWarning: \n",
      "A value is trying to be set on a copy of a slice from a DataFrame.\n",
      "Try using .loc[row_indexer,col_indexer] = value instead\n",
      "\n",
      "See the caveats in the documentation: https://pandas.pydata.org/pandas-docs/stable/user_guide/indexing.html#returning-a-view-versus-a-copy\n",
      "  zzo['label'] = 3\n"
     ]
    }
   ],
   "source": [
    "zzo = (new_df.NUTR_CONT2<25) & (new_df.NUTR_CONT3<12) & (4<=new_df.NUTR_CONT4) & (new_df.NUTR_CONT4<12.3)\n",
    "zzo = new_df[zzo]\n",
    "zzo['label'] = 3"
   ]
  },
  {
   "cell_type": "code",
   "execution_count": 81,
   "metadata": {},
   "outputs": [
    {
     "name": "stderr",
     "output_type": "stream",
     "text": [
      "C:\\Users\\ruddn\\AppData\\Local\\Temp/ipykernel_29404/1309465729.py:3: SettingWithCopyWarning: \n",
      "A value is trying to be set on a copy of a slice from a DataFrame.\n",
      "Try using .loc[row_indexer,col_indexer] = value instead\n",
      "\n",
      "See the caveats in the documentation: https://pandas.pydata.org/pandas-docs/stable/user_guide/indexing.html#returning-a-view-versus-a-copy\n",
      "  zoz['label'] = 4\n"
     ]
    }
   ],
   "source": [
    "zoz = (new_df.NUTR_CONT2<25) & (12<=new_df.NUTR_CONT3) & (new_df.NUTR_CONT3<28.8) & (new_df.NUTR_CONT4<4)\n",
    "zoz = new_df[zoz]\n",
    "zoz['label'] = 4"
   ]
  },
  {
   "cell_type": "code",
   "execution_count": 82,
   "metadata": {
    "scrolled": true
   },
   "outputs": [
    {
     "name": "stderr",
     "output_type": "stream",
     "text": [
      "C:\\Users\\ruddn\\AppData\\Local\\Temp/ipykernel_29404/1317768946.py:3: SettingWithCopyWarning: \n",
      "A value is trying to be set on a copy of a slice from a DataFrame.\n",
      "Try using .loc[row_indexer,col_indexer] = value instead\n",
      "\n",
      "See the caveats in the documentation: https://pandas.pydata.org/pandas-docs/stable/user_guide/indexing.html#returning-a-view-versus-a-copy\n",
      "  ozz['label'] = 5\n"
     ]
    }
   ],
   "source": [
    "ozz = (25<=new_df.NUTR_CONT2) & (new_df.NUTR_CONT2<50) & (new_df.NUTR_CONT3<12) & (new_df.NUTR_CONT4<4)\n",
    "ozz = new_df[ozz]\n",
    "ozz['label'] = 5"
   ]
  },
  {
   "cell_type": "code",
   "execution_count": 83,
   "metadata": {},
   "outputs": [
    {
     "name": "stderr",
     "output_type": "stream",
     "text": [
      "C:\\Users\\ruddn\\AppData\\Local\\Temp/ipykernel_29404/1420070407.py:3: SettingWithCopyWarning: \n",
      "A value is trying to be set on a copy of a slice from a DataFrame.\n",
      "Try using .loc[row_indexer,col_indexer] = value instead\n",
      "\n",
      "See the caveats in the documentation: https://pandas.pydata.org/pandas-docs/stable/user_guide/indexing.html#returning-a-view-versus-a-copy\n",
      "  zoo['label'] = 6\n"
     ]
    }
   ],
   "source": [
    "zoo = (new_df.NUTR_CONT2<25) & (12<=new_df.NUTR_CONT3) & (new_df.NUTR_CONT3<28.8) & (4<=new_df.NUTR_CONT4) & (new_df.NUTR_CONT4<12.3)\n",
    "zoo = new_df[zoo]\n",
    "zoo['label'] = 6"
   ]
  },
  {
   "cell_type": "code",
   "execution_count": 84,
   "metadata": {},
   "outputs": [
    {
     "name": "stderr",
     "output_type": "stream",
     "text": [
      "C:\\Users\\ruddn\\AppData\\Local\\Temp/ipykernel_29404/1511691468.py:3: SettingWithCopyWarning: \n",
      "A value is trying to be set on a copy of a slice from a DataFrame.\n",
      "Try using .loc[row_indexer,col_indexer] = value instead\n",
      "\n",
      "See the caveats in the documentation: https://pandas.pydata.org/pandas-docs/stable/user_guide/indexing.html#returning-a-view-versus-a-copy\n",
      "  ozo['label'] = 7\n"
     ]
    }
   ],
   "source": [
    "ozo = (25<=new_df.NUTR_CONT2) & (new_df.NUTR_CONT2<50) & (new_df.NUTR_CONT3<12) & (4<=new_df.NUTR_CONT4) & (new_df.NUTR_CONT4<12.3)\n",
    "ozo = new_df[ozo]\n",
    "ozo['label'] = 7"
   ]
  },
  {
   "cell_type": "code",
   "execution_count": 85,
   "metadata": {},
   "outputs": [
    {
     "name": "stderr",
     "output_type": "stream",
     "text": [
      "C:\\Users\\ruddn\\AppData\\Local\\Temp/ipykernel_29404/3516156603.py:3: SettingWithCopyWarning: \n",
      "A value is trying to be set on a copy of a slice from a DataFrame.\n",
      "Try using .loc[row_indexer,col_indexer] = value instead\n",
      "\n",
      "See the caveats in the documentation: https://pandas.pydata.org/pandas-docs/stable/user_guide/indexing.html#returning-a-view-versus-a-copy\n",
      "  ooz['label'] = 8\n"
     ]
    }
   ],
   "source": [
    "ooz = (25<=new_df.NUTR_CONT2) & (new_df.NUTR_CONT2<50) & (12<=new_df.NUTR_CONT3) & (new_df.NUTR_CONT3<28.8) & (new_df.NUTR_CONT4<4)\n",
    "ooz = new_df[ooz]\n",
    "ooz['label'] = 8"
   ]
  },
  {
   "cell_type": "code",
   "execution_count": 86,
   "metadata": {},
   "outputs": [
    {
     "name": "stderr",
     "output_type": "stream",
     "text": [
      "C:\\Users\\ruddn\\AppData\\Local\\Temp/ipykernel_29404/2638405039.py:3: SettingWithCopyWarning: \n",
      "A value is trying to be set on a copy of a slice from a DataFrame.\n",
      "Try using .loc[row_indexer,col_indexer] = value instead\n",
      "\n",
      "See the caveats in the documentation: https://pandas.pydata.org/pandas-docs/stable/user_guide/indexing.html#returning-a-view-versus-a-copy\n",
      "  zzt['label'] = 9\n"
     ]
    }
   ],
   "source": [
    "zzt = (new_df.NUTR_CONT2<25) & (new_df.NUTR_CONT3<12) & (new_df.NUTR_CONT4>=12.3)\n",
    "zzt = new_df[zzt]\n",
    "zzt['label'] = 9"
   ]
  },
  {
   "cell_type": "code",
   "execution_count": 87,
   "metadata": {},
   "outputs": [
    {
     "name": "stderr",
     "output_type": "stream",
     "text": [
      "C:\\Users\\ruddn\\AppData\\Local\\Temp/ipykernel_29404/3216013708.py:3: SettingWithCopyWarning: \n",
      "A value is trying to be set on a copy of a slice from a DataFrame.\n",
      "Try using .loc[row_indexer,col_indexer] = value instead\n",
      "\n",
      "See the caveats in the documentation: https://pandas.pydata.org/pandas-docs/stable/user_guide/indexing.html#returning-a-view-versus-a-copy\n",
      "  ztz['label'] = 10\n"
     ]
    }
   ],
   "source": [
    "ztz = (new_df.NUTR_CONT2<25) & (new_df.NUTR_CONT3>=28.8) & (new_df.NUTR_CONT4<4)\n",
    "ztz = new_df[ztz]\n",
    "ztz['label'] = 10"
   ]
  },
  {
   "cell_type": "code",
   "execution_count": 88,
   "metadata": {},
   "outputs": [
    {
     "name": "stderr",
     "output_type": "stream",
     "text": [
      "C:\\Users\\ruddn\\AppData\\Local\\Temp/ipykernel_29404/291192070.py:3: SettingWithCopyWarning: \n",
      "A value is trying to be set on a copy of a slice from a DataFrame.\n",
      "Try using .loc[row_indexer,col_indexer] = value instead\n",
      "\n",
      "See the caveats in the documentation: https://pandas.pydata.org/pandas-docs/stable/user_guide/indexing.html#returning-a-view-versus-a-copy\n",
      "  tzz['label'] = 11\n"
     ]
    }
   ],
   "source": [
    "tzz = (new_df.NUTR_CONT2>=50) & (new_df.NUTR_CONT3<12) & (new_df.NUTR_CONT4<4)\n",
    "tzz = new_df[tzz]\n",
    "tzz['label'] = 11"
   ]
  },
  {
   "cell_type": "code",
   "execution_count": 89,
   "metadata": {},
   "outputs": [
    {
     "name": "stderr",
     "output_type": "stream",
     "text": [
      "C:\\Users\\ruddn\\AppData\\Local\\Temp/ipykernel_29404/1027561409.py:3: SettingWithCopyWarning: \n",
      "A value is trying to be set on a copy of a slice from a DataFrame.\n",
      "Try using .loc[row_indexer,col_indexer] = value instead\n",
      "\n",
      "See the caveats in the documentation: https://pandas.pydata.org/pandas-docs/stable/user_guide/indexing.html#returning-a-view-versus-a-copy\n",
      "  zot['label'] = 12\n"
     ]
    }
   ],
   "source": [
    "zot = (new_df.NUTR_CONT2<25) & (12<=new_df.NUTR_CONT3) & (new_df.NUTR_CONT3<28.8) & (new_df.NUTR_CONT4>=12.3)\n",
    "zot = new_df[zot]\n",
    "zot['label'] = 12"
   ]
  },
  {
   "cell_type": "code",
   "execution_count": 90,
   "metadata": {},
   "outputs": [
    {
     "name": "stderr",
     "output_type": "stream",
     "text": [
      "C:\\Users\\ruddn\\AppData\\Local\\Temp/ipykernel_29404/103195401.py:3: SettingWithCopyWarning: \n",
      "A value is trying to be set on a copy of a slice from a DataFrame.\n",
      "Try using .loc[row_indexer,col_indexer] = value instead\n",
      "\n",
      "See the caveats in the documentation: https://pandas.pydata.org/pandas-docs/stable/user_guide/indexing.html#returning-a-view-versus-a-copy\n",
      "  ozt['label'] = 13\n"
     ]
    }
   ],
   "source": [
    "ozt = (new_df.NUTR_CONT2<25) & (new_df.NUTR_CONT3<12) & (new_df.NUTR_CONT4>=12.3)\n",
    "ozt = new_df[ozt]\n",
    "ozt['label'] = 13"
   ]
  },
  {
   "cell_type": "code",
   "execution_count": 91,
   "metadata": {},
   "outputs": [
    {
     "name": "stderr",
     "output_type": "stream",
     "text": [
      "C:\\Users\\ruddn\\AppData\\Local\\Temp/ipykernel_29404/302222668.py:3: SettingWithCopyWarning: \n",
      "A value is trying to be set on a copy of a slice from a DataFrame.\n",
      "Try using .loc[row_indexer,col_indexer] = value instead\n",
      "\n",
      "See the caveats in the documentation: https://pandas.pydata.org/pandas-docs/stable/user_guide/indexing.html#returning-a-view-versus-a-copy\n",
      "  zto['label'] = 14\n"
     ]
    }
   ],
   "source": [
    "zto = (new_df.NUTR_CONT2<25) & (new_df.NUTR_CONT3>=28.8) & (4<=new_df.NUTR_CONT4) & (new_df.NUTR_CONT4<12.3)\n",
    "zto = new_df[zto]\n",
    "zto['label'] = 14"
   ]
  },
  {
   "cell_type": "code",
   "execution_count": 92,
   "metadata": {},
   "outputs": [
    {
     "name": "stderr",
     "output_type": "stream",
     "text": [
      "C:\\Users\\ruddn\\AppData\\Local\\Temp/ipykernel_29404/1677589917.py:3: SettingWithCopyWarning: \n",
      "A value is trying to be set on a copy of a slice from a DataFrame.\n",
      "Try using .loc[row_indexer,col_indexer] = value instead\n",
      "\n",
      "See the caveats in the documentation: https://pandas.pydata.org/pandas-docs/stable/user_guide/indexing.html#returning-a-view-versus-a-copy\n",
      "  tzo['label'] = 15\n"
     ]
    }
   ],
   "source": [
    "tzo = (new_df.NUTR_CONT2>=50) & (new_df.NUTR_CONT3<12) & (4<=new_df.NUTR_CONT4) & (new_df.NUTR_CONT4<12.3)\n",
    "tzo = new_df[tzo]\n",
    "tzo['label'] = 15"
   ]
  },
  {
   "cell_type": "code",
   "execution_count": 93,
   "metadata": {},
   "outputs": [
    {
     "name": "stderr",
     "output_type": "stream",
     "text": [
      "C:\\Users\\ruddn\\AppData\\Local\\Temp/ipykernel_29404/2998768006.py:3: SettingWithCopyWarning: \n",
      "A value is trying to be set on a copy of a slice from a DataFrame.\n",
      "Try using .loc[row_indexer,col_indexer] = value instead\n",
      "\n",
      "See the caveats in the documentation: https://pandas.pydata.org/pandas-docs/stable/user_guide/indexing.html#returning-a-view-versus-a-copy\n",
      "  toz['label'] = 16\n"
     ]
    }
   ],
   "source": [
    "toz = (new_df.NUTR_CONT2>=50) & (12<=new_df.NUTR_CONT3) & (new_df.NUTR_CONT3<28.8) & (new_df.NUTR_CONT4<4)\n",
    "toz = new_df[toz]\n",
    "toz['label'] = 16"
   ]
  },
  {
   "cell_type": "code",
   "execution_count": 94,
   "metadata": {},
   "outputs": [
    {
     "name": "stderr",
     "output_type": "stream",
     "text": [
      "C:\\Users\\ruddn\\AppData\\Local\\Temp/ipykernel_29404/2493746954.py:3: SettingWithCopyWarning: \n",
      "A value is trying to be set on a copy of a slice from a DataFrame.\n",
      "Try using .loc[row_indexer,col_indexer] = value instead\n",
      "\n",
      "See the caveats in the documentation: https://pandas.pydata.org/pandas-docs/stable/user_guide/indexing.html#returning-a-view-versus-a-copy\n",
      "  otz['label'] = 17\n"
     ]
    }
   ],
   "source": [
    "otz = (25<=new_df.NUTR_CONT2) & (new_df.NUTR_CONT2<50) & (new_df.NUTR_CONT3>=28.8) & (new_df.NUTR_CONT4<4)\n",
    "otz = new_df[otz]\n",
    "otz['label'] = 17"
   ]
  },
  {
   "cell_type": "code",
   "execution_count": 95,
   "metadata": {},
   "outputs": [
    {
     "name": "stderr",
     "output_type": "stream",
     "text": [
      "C:\\Users\\ruddn\\AppData\\Local\\Temp/ipykernel_29404/3354118033.py:3: SettingWithCopyWarning: \n",
      "A value is trying to be set on a copy of a slice from a DataFrame.\n",
      "Try using .loc[row_indexer,col_indexer] = value instead\n",
      "\n",
      "See the caveats in the documentation: https://pandas.pydata.org/pandas-docs/stable/user_guide/indexing.html#returning-a-view-versus-a-copy\n",
      "  oot['label'] = 18\n"
     ]
    }
   ],
   "source": [
    "oot = (25<=new_df.NUTR_CONT2) & (new_df.NUTR_CONT2<50) & (12<=new_df.NUTR_CONT3) & (new_df.NUTR_CONT3<28.8) & (new_df.NUTR_CONT4>=12.3)\n",
    "oot = new_df[oot]\n",
    "oot['label'] = 18"
   ]
  },
  {
   "cell_type": "code",
   "execution_count": 96,
   "metadata": {},
   "outputs": [
    {
     "name": "stderr",
     "output_type": "stream",
     "text": [
      "C:\\Users\\ruddn\\AppData\\Local\\Temp/ipykernel_29404/3146748706.py:3: SettingWithCopyWarning: \n",
      "A value is trying to be set on a copy of a slice from a DataFrame.\n",
      "Try using .loc[row_indexer,col_indexer] = value instead\n",
      "\n",
      "See the caveats in the documentation: https://pandas.pydata.org/pandas-docs/stable/user_guide/indexing.html#returning-a-view-versus-a-copy\n",
      "  oto['label'] = 19\n"
     ]
    }
   ],
   "source": [
    "oto = (25<=new_df.NUTR_CONT2) & (new_df.NUTR_CONT2<50) & (new_df.NUTR_CONT3>=28.8) & (4<=new_df.NUTR_CONT4) & (new_df.NUTR_CONT4<12.3)\n",
    "oto = new_df[oto]\n",
    "oto['label'] = 19"
   ]
  },
  {
   "cell_type": "code",
   "execution_count": 97,
   "metadata": {},
   "outputs": [
    {
     "name": "stderr",
     "output_type": "stream",
     "text": [
      "C:\\Users\\ruddn\\AppData\\Local\\Temp/ipykernel_29404/55855123.py:3: SettingWithCopyWarning: \n",
      "A value is trying to be set on a copy of a slice from a DataFrame.\n",
      "Try using .loc[row_indexer,col_indexer] = value instead\n",
      "\n",
      "See the caveats in the documentation: https://pandas.pydata.org/pandas-docs/stable/user_guide/indexing.html#returning-a-view-versus-a-copy\n",
      "  too['label'] = 20\n"
     ]
    }
   ],
   "source": [
    "too = (new_df.NUTR_CONT2>=50) & (12<=new_df.NUTR_CONT3) & (new_df.NUTR_CONT3<28.8) & (4<=new_df.NUTR_CONT4) & (new_df.NUTR_CONT4<12.3)\n",
    "too = new_df[too]\n",
    "too['label'] = 20"
   ]
  },
  {
   "cell_type": "code",
   "execution_count": 98,
   "metadata": {},
   "outputs": [
    {
     "name": "stderr",
     "output_type": "stream",
     "text": [
      "C:\\Users\\ruddn\\AppData\\Local\\Temp/ipykernel_29404/1589352148.py:3: SettingWithCopyWarning: \n",
      "A value is trying to be set on a copy of a slice from a DataFrame.\n",
      "Try using .loc[row_indexer,col_indexer] = value instead\n",
      "\n",
      "See the caveats in the documentation: https://pandas.pydata.org/pandas-docs/stable/user_guide/indexing.html#returning-a-view-versus-a-copy\n",
      "  ott['label'] = 21\n"
     ]
    }
   ],
   "source": [
    "ott = (25<=new_df.NUTR_CONT2) & (new_df.NUTR_CONT2<50) & (new_df.NUTR_CONT3>=28.8) & (new_df.NUTR_CONT4>=12.3)\n",
    "ott = new_df[ott]\n",
    "ott['label'] = 21"
   ]
  },
  {
   "cell_type": "code",
   "execution_count": 99,
   "metadata": {},
   "outputs": [
    {
     "name": "stderr",
     "output_type": "stream",
     "text": [
      "C:\\Users\\ruddn\\AppData\\Local\\Temp/ipykernel_29404/4001644964.py:3: SettingWithCopyWarning: \n",
      "A value is trying to be set on a copy of a slice from a DataFrame.\n",
      "Try using .loc[row_indexer,col_indexer] = value instead\n",
      "\n",
      "See the caveats in the documentation: https://pandas.pydata.org/pandas-docs/stable/user_guide/indexing.html#returning-a-view-versus-a-copy\n",
      "  tot['label'] = 22\n"
     ]
    }
   ],
   "source": [
    "tot = (new_df.NUTR_CONT2>=50) & (12<=new_df.NUTR_CONT3) & (new_df.NUTR_CONT3<28.8)  & (new_df.NUTR_CONT4>=12.3)\n",
    "tot = new_df[tot]\n",
    "tot['label'] = 22"
   ]
  },
  {
   "cell_type": "code",
   "execution_count": 100,
   "metadata": {},
   "outputs": [
    {
     "name": "stderr",
     "output_type": "stream",
     "text": [
      "C:\\Users\\ruddn\\AppData\\Local\\Temp/ipykernel_29404/2455849501.py:3: SettingWithCopyWarning: \n",
      "A value is trying to be set on a copy of a slice from a DataFrame.\n",
      "Try using .loc[row_indexer,col_indexer] = value instead\n",
      "\n",
      "See the caveats in the documentation: https://pandas.pydata.org/pandas-docs/stable/user_guide/indexing.html#returning-a-view-versus-a-copy\n",
      "  tto['label'] = 23\n"
     ]
    }
   ],
   "source": [
    "tto = (new_df.NUTR_CONT2>=50) & (new_df.NUTR_CONT3>=28.8) & (4<=new_df.NUTR_CONT4) & (new_df.NUTR_CONT4<12.3)\n",
    "tto = new_df[tto]\n",
    "tto['label'] = 23"
   ]
  },
  {
   "cell_type": "code",
   "execution_count": 101,
   "metadata": {},
   "outputs": [
    {
     "name": "stderr",
     "output_type": "stream",
     "text": [
      "C:\\Users\\ruddn\\AppData\\Local\\Temp/ipykernel_29404/1140008949.py:3: SettingWithCopyWarning: \n",
      "A value is trying to be set on a copy of a slice from a DataFrame.\n",
      "Try using .loc[row_indexer,col_indexer] = value instead\n",
      "\n",
      "See the caveats in the documentation: https://pandas.pydata.org/pandas-docs/stable/user_guide/indexing.html#returning-a-view-versus-a-copy\n",
      "  ztt['label'] = 24\n"
     ]
    }
   ],
   "source": [
    "ztt = (new_df.NUTR_CONT2<25) & (new_df.NUTR_CONT3>=28.8) & (new_df.NUTR_CONT4>=12.3)\n",
    "ztt = new_df[ztt]\n",
    "ztt['label'] = 24"
   ]
  },
  {
   "cell_type": "code",
   "execution_count": 102,
   "metadata": {},
   "outputs": [
    {
     "name": "stderr",
     "output_type": "stream",
     "text": [
      "C:\\Users\\ruddn\\AppData\\Local\\Temp/ipykernel_29404/4055433531.py:3: SettingWithCopyWarning: \n",
      "A value is trying to be set on a copy of a slice from a DataFrame.\n",
      "Try using .loc[row_indexer,col_indexer] = value instead\n",
      "\n",
      "See the caveats in the documentation: https://pandas.pydata.org/pandas-docs/stable/user_guide/indexing.html#returning-a-view-versus-a-copy\n",
      "  tzt['label'] = 25\n"
     ]
    }
   ],
   "source": [
    "tzt = (new_df.NUTR_CONT2>=50)  & (new_df.NUTR_CONT3<12) & (new_df.NUTR_CONT4>=12.3)\n",
    "tzt = new_df[tzt]\n",
    "tzt['label'] = 25"
   ]
  },
  {
   "cell_type": "code",
   "execution_count": 103,
   "metadata": {},
   "outputs": [
    {
     "name": "stderr",
     "output_type": "stream",
     "text": [
      "C:\\Users\\ruddn\\AppData\\Local\\Temp/ipykernel_29404/3009921672.py:3: SettingWithCopyWarning: \n",
      "A value is trying to be set on a copy of a slice from a DataFrame.\n",
      "Try using .loc[row_indexer,col_indexer] = value instead\n",
      "\n",
      "See the caveats in the documentation: https://pandas.pydata.org/pandas-docs/stable/user_guide/indexing.html#returning-a-view-versus-a-copy\n",
      "  ttz['label'] = 26\n"
     ]
    }
   ],
   "source": [
    "ttz= (new_df.NUTR_CONT2>=50) & (new_df.NUTR_CONT3>=28.8) & (new_df.NUTR_CONT4<4)\n",
    "ttz = new_df[ttz]\n",
    "ttz['label'] = 26"
   ]
  },
  {
   "cell_type": "code",
   "execution_count": 114,
   "metadata": {},
   "outputs": [
    {
     "data": {
      "text/html": [
       "<div>\n",
       "<style scoped>\n",
       "    .dataframe tbody tr th:only-of-type {\n",
       "        vertical-align: middle;\n",
       "    }\n",
       "\n",
       "    .dataframe tbody tr th {\n",
       "        vertical-align: top;\n",
       "    }\n",
       "\n",
       "    .dataframe thead th {\n",
       "        text-align: right;\n",
       "    }\n",
       "</style>\n",
       "<table border=\"1\" class=\"dataframe\">\n",
       "  <thead>\n",
       "    <tr style=\"text-align: right;\">\n",
       "      <th></th>\n",
       "      <th>DESC_KOR</th>\n",
       "      <th>label</th>\n",
       "    </tr>\n",
       "  </thead>\n",
       "  <tbody>\n",
       "    <tr>\n",
       "      <th>20</th>\n",
       "      <td>굴국밥</td>\n",
       "      <td>0</td>\n",
       "    </tr>\n",
       "    <tr>\n",
       "      <th>45</th>\n",
       "      <td>물회</td>\n",
       "      <td>0</td>\n",
       "    </tr>\n",
       "    <tr>\n",
       "      <th>46</th>\n",
       "      <td>생선물회</td>\n",
       "      <td>0</td>\n",
       "    </tr>\n",
       "    <tr>\n",
       "      <th>76</th>\n",
       "      <td>닭칼국수</td>\n",
       "      <td>0</td>\n",
       "    </tr>\n",
       "    <tr>\n",
       "      <th>80</th>\n",
       "      <td>삼선자장면</td>\n",
       "      <td>0</td>\n",
       "    </tr>\n",
       "    <tr>\n",
       "      <th>...</th>\n",
       "      <td>...</td>\n",
       "      <td>...</td>\n",
       "    </tr>\n",
       "    <tr>\n",
       "      <th>24</th>\n",
       "      <td>닭고기표고버섯렌틸콩진밥 밀키트</td>\n",
       "      <td>26</td>\n",
       "    </tr>\n",
       "    <tr>\n",
       "      <th>348</th>\n",
       "      <td>설성목장 한우 사골육수 떡볶이</td>\n",
       "      <td>26</td>\n",
       "    </tr>\n",
       "    <tr>\n",
       "      <th>252</th>\n",
       "      <td>우둔 스테이크 도시락</td>\n",
       "      <td>26</td>\n",
       "    </tr>\n",
       "    <tr>\n",
       "      <th>705</th>\n",
       "      <td>표고버섯, 배지재배, 갓, 말린것</td>\n",
       "      <td>26</td>\n",
       "    </tr>\n",
       "    <tr>\n",
       "      <th>979</th>\n",
       "      <td>분유, 탈지</td>\n",
       "      <td>26</td>\n",
       "    </tr>\n",
       "  </tbody>\n",
       "</table>\n",
       "<p>78198 rows × 2 columns</p>\n",
       "</div>"
      ],
      "text/plain": [
       "               DESC_KOR  label\n",
       "20                  굴국밥      0\n",
       "45                   물회      0\n",
       "46                 생선물회      0\n",
       "76                 닭칼국수      0\n",
       "80                삼선자장면      0\n",
       "..                  ...    ...\n",
       "24     닭고기표고버섯렌틸콩진밥 밀키트     26\n",
       "348    설성목장 한우 사골육수 떡볶이     26\n",
       "252         우둔 스테이크 도시락     26\n",
       "705  표고버섯, 배지재배, 갓, 말린것     26\n",
       "979              분유, 탈지     26\n",
       "\n",
       "[78198 rows x 2 columns]"
      ]
     },
     "execution_count": 114,
     "metadata": {},
     "output_type": "execute_result"
    }
   ],
   "source": [
    "final_df = pd.concat([ttt, ooo, zzz, zzo, zoz, ozz, zoo, ozo, ooz, zzt, ztz, tzz, zot, ozt, zto, tzo, toz, otz, oot, oto, too, ott, tot, tto, ztt, tzt, ttz])\n",
    "final_df.drop(['NUTR_CONT4', 'NUTR_CONT2', 'NUTR_CONT3'],axis=1, inplace = True) \n",
    "final_df"
   ]
  },
  {
   "cell_type": "code",
   "execution_count": 117,
   "metadata": {},
   "outputs": [],
   "source": [
    "final_df.to_csv('./../final.csv',encoding=\"utf-8\")"
   ]
  },
  {
   "cell_type": "markdown",
   "metadata": {},
   "source": [
    "### 특정 단어 검색"
   ]
  },
  {
   "cell_type": "code",
   "execution_count": 12,
   "metadata": {},
   "outputs": [
    {
     "data": {
      "text/html": [
       "<div>\n",
       "<style scoped>\n",
       "    .dataframe tbody tr th:only-of-type {\n",
       "        vertical-align: middle;\n",
       "    }\n",
       "\n",
       "    .dataframe tbody tr th {\n",
       "        vertical-align: top;\n",
       "    }\n",
       "\n",
       "    .dataframe thead th {\n",
       "        text-align: right;\n",
       "    }\n",
       "</style>\n",
       "<table border=\"1\" class=\"dataframe\">\n",
       "  <thead>\n",
       "    <tr style=\"text-align: right;\">\n",
       "      <th></th>\n",
       "      <th>NUTR_CONT8</th>\n",
       "      <th>NUTR_CONT9</th>\n",
       "      <th>NUTR_CONT4</th>\n",
       "      <th>NUTR_CONT5</th>\n",
       "      <th>NUTR_CONT6</th>\n",
       "      <th>NUM</th>\n",
       "      <th>NUTR_CONT7</th>\n",
       "      <th>NUTR_CONT1</th>\n",
       "      <th>NUTR_CONT2</th>\n",
       "      <th>SUB_REF_NAME</th>\n",
       "      <th>...</th>\n",
       "      <th>RESEARCH_YEAR</th>\n",
       "      <th>MAKER_NAME</th>\n",
       "      <th>GROUP_NAME</th>\n",
       "      <th>SERVING_SIZE</th>\n",
       "      <th>SAMPLING_REGION_NAME</th>\n",
       "      <th>SAMPLING_MONTH_CD</th>\n",
       "      <th>SAMPLING_MONTH_NAME</th>\n",
       "      <th>DESC_KOR</th>\n",
       "      <th>SAMPLING_REGION_CD</th>\n",
       "      <th>FOOD_CD</th>\n",
       "    </tr>\n",
       "  </thead>\n",
       "  <tbody>\n",
       "    <tr>\n",
       "      <th>118</th>\n",
       "      <td>2.40</td>\n",
       "      <td>0.10</td>\n",
       "      <td>13.10</td>\n",
       "      <td>16.70</td>\n",
       "      <td>1144.80</td>\n",
       "      <td>119</td>\n",
       "      <td>21.90</td>\n",
       "      <td>547.21</td>\n",
       "      <td>90.70</td>\n",
       "      <td>식약처('16) 제4권</td>\n",
       "      <td>...</td>\n",
       "      <td>2019</td>\n",
       "      <td>NaN</td>\n",
       "      <td>NaN</td>\n",
       "      <td>400.0</td>\n",
       "      <td>거제</td>\n",
       "      <td>AVG</td>\n",
       "      <td>평균</td>\n",
       "      <td>멍게비빔밥</td>\n",
       "      <td>02</td>\n",
       "      <td>D000215</td>\n",
       "    </tr>\n",
       "    <tr>\n",
       "      <th>122</th>\n",
       "      <td>3.90</td>\n",
       "      <td>0.10</td>\n",
       "      <td>22.00</td>\n",
       "      <td>18.30</td>\n",
       "      <td>1119.66</td>\n",
       "      <td>123</td>\n",
       "      <td>95.42</td>\n",
       "      <td>691.62</td>\n",
       "      <td>98.70</td>\n",
       "      <td>식약처('16) 제4권</td>\n",
       "      <td>...</td>\n",
       "      <td>2019</td>\n",
       "      <td>NaN</td>\n",
       "      <td>NaN</td>\n",
       "      <td>450.0</td>\n",
       "      <td>전주</td>\n",
       "      <td>AVG</td>\n",
       "      <td>평균</td>\n",
       "      <td>비빔밥</td>\n",
       "      <td>107</td>\n",
       "      <td>D000222</td>\n",
       "    </tr>\n",
       "    <tr>\n",
       "      <th>133</th>\n",
       "      <td>2.40</td>\n",
       "      <td>0.10</td>\n",
       "      <td>15.90</td>\n",
       "      <td>2.90</td>\n",
       "      <td>971.61</td>\n",
       "      <td>134</td>\n",
       "      <td>0.00</td>\n",
       "      <td>511.80</td>\n",
       "      <td>80.20</td>\n",
       "      <td>식약처('16) 제4권</td>\n",
       "      <td>...</td>\n",
       "      <td>2019</td>\n",
       "      <td>NaN</td>\n",
       "      <td>NaN</td>\n",
       "      <td>400.0</td>\n",
       "      <td>산청</td>\n",
       "      <td>AVG</td>\n",
       "      <td>평균</td>\n",
       "      <td>약초비빔밥</td>\n",
       "      <td>117</td>\n",
       "      <td>D000235</td>\n",
       "    </tr>\n",
       "    <tr>\n",
       "      <th>977</th>\n",
       "      <td>1.27</td>\n",
       "      <td>0.03</td>\n",
       "      <td>11.22</td>\n",
       "      <td>4.73</td>\n",
       "      <td>1281.83</td>\n",
       "      <td>6978</td>\n",
       "      <td>37.92</td>\n",
       "      <td>558.10</td>\n",
       "      <td>93.77</td>\n",
       "      <td>식약처 영양실태조사('20)</td>\n",
       "      <td>...</td>\n",
       "      <td>2020</td>\n",
       "      <td>NaN</td>\n",
       "      <td>NaN</td>\n",
       "      <td>380.0</td>\n",
       "      <td>전국(대표)</td>\n",
       "      <td>AVG</td>\n",
       "      <td>평균</td>\n",
       "      <td>돌솥비빔밥</td>\n",
       "      <td>ZZ</td>\n",
       "      <td>D018197</td>\n",
       "    </tr>\n",
       "    <tr>\n",
       "      <th>984</th>\n",
       "      <td>4.29</td>\n",
       "      <td>0.26</td>\n",
       "      <td>19.44</td>\n",
       "      <td>0.22</td>\n",
       "      <td>1041.85</td>\n",
       "      <td>6985</td>\n",
       "      <td>190.18</td>\n",
       "      <td>637.54</td>\n",
       "      <td>84.76</td>\n",
       "      <td>식약처 영양실태조사('20)</td>\n",
       "      <td>...</td>\n",
       "      <td>2020</td>\n",
       "      <td>NaN</td>\n",
       "      <td>NaN</td>\n",
       "      <td>450.0</td>\n",
       "      <td>전국(대표)</td>\n",
       "      <td>AVG</td>\n",
       "      <td>평균</td>\n",
       "      <td>비빔밥</td>\n",
       "      <td>ZZ</td>\n",
       "      <td>D018204</td>\n",
       "    </tr>\n",
       "    <tr>\n",
       "      <th>...</th>\n",
       "      <td>...</td>\n",
       "      <td>...</td>\n",
       "      <td>...</td>\n",
       "      <td>...</td>\n",
       "      <td>...</td>\n",
       "      <td>...</td>\n",
       "      <td>...</td>\n",
       "      <td>...</td>\n",
       "      <td>...</td>\n",
       "      <td>...</td>\n",
       "      <td>...</td>\n",
       "      <td>...</td>\n",
       "      <td>...</td>\n",
       "      <td>...</td>\n",
       "      <td>...</td>\n",
       "      <td>...</td>\n",
       "      <td>...</td>\n",
       "      <td>...</td>\n",
       "      <td>...</td>\n",
       "      <td>...</td>\n",
       "      <td>...</td>\n",
       "    </tr>\n",
       "    <tr>\n",
       "      <th>43</th>\n",
       "      <td>0.80</td>\n",
       "      <td>0.00</td>\n",
       "      <td>1.30</td>\n",
       "      <td>1.00</td>\n",
       "      <td>550.00</td>\n",
       "      <td>87044</td>\n",
       "      <td>15.00</td>\n",
       "      <td>305.00</td>\n",
       "      <td>68.00</td>\n",
       "      <td>식약처('21)</td>\n",
       "      <td>...</td>\n",
       "      <td>2021</td>\n",
       "      <td>㈜태송</td>\n",
       "      <td>즉석식품류</td>\n",
       "      <td>200.0</td>\n",
       "      <td>전국(대표)</td>\n",
       "      <td>AVG</td>\n",
       "      <td>평균</td>\n",
       "      <td>해초비빔밥</td>\n",
       "      <td>ZZ</td>\n",
       "      <td>P095326</td>\n",
       "    </tr>\n",
       "    <tr>\n",
       "      <th>120</th>\n",
       "      <td>0.70</td>\n",
       "      <td>0.00</td>\n",
       "      <td>3.70</td>\n",
       "      <td>3.00</td>\n",
       "      <td>880.00</td>\n",
       "      <td>87121</td>\n",
       "      <td>0.00</td>\n",
       "      <td>340.00</td>\n",
       "      <td>66.00</td>\n",
       "      <td>식약처('21)</td>\n",
       "      <td>...</td>\n",
       "      <td>2021</td>\n",
       "      <td>CJ제일제당㈜</td>\n",
       "      <td>즉석식품류</td>\n",
       "      <td>280.0</td>\n",
       "      <td>전국(대표)</td>\n",
       "      <td>AVG</td>\n",
       "      <td>평균</td>\n",
       "      <td>햇반컵반 강된장 보리 비빔밥</td>\n",
       "      <td>ZZ</td>\n",
       "      <td>P095403</td>\n",
       "    </tr>\n",
       "    <tr>\n",
       "      <th>121</th>\n",
       "      <td>0.80</td>\n",
       "      <td>0.00</td>\n",
       "      <td>4.70</td>\n",
       "      <td>6.00</td>\n",
       "      <td>770.00</td>\n",
       "      <td>87122</td>\n",
       "      <td>0.00</td>\n",
       "      <td>350.00</td>\n",
       "      <td>71.00</td>\n",
       "      <td>식약처('21)</td>\n",
       "      <td>...</td>\n",
       "      <td>2021</td>\n",
       "      <td>CJ제일제당㈜</td>\n",
       "      <td>즉석식품류</td>\n",
       "      <td>229.0</td>\n",
       "      <td>전국(대표)</td>\n",
       "      <td>AVG</td>\n",
       "      <td>평균</td>\n",
       "      <td>햇반컵반 고추장나물현미비빔밥</td>\n",
       "      <td>ZZ</td>\n",
       "      <td>P095404</td>\n",
       "    </tr>\n",
       "    <tr>\n",
       "      <th>124</th>\n",
       "      <td>0.80</td>\n",
       "      <td>0.00</td>\n",
       "      <td>3.90</td>\n",
       "      <td>6.00</td>\n",
       "      <td>890.00</td>\n",
       "      <td>87125</td>\n",
       "      <td>25.00</td>\n",
       "      <td>320.00</td>\n",
       "      <td>62.00</td>\n",
       "      <td>식약처('21)</td>\n",
       "      <td>...</td>\n",
       "      <td>2021</td>\n",
       "      <td>CJ제일제당㈜</td>\n",
       "      <td>즉석식품류</td>\n",
       "      <td>216.0</td>\n",
       "      <td>전국(대표)</td>\n",
       "      <td>AVG</td>\n",
       "      <td>평균</td>\n",
       "      <td>햇반컵반 낙지콩나물비빔밥</td>\n",
       "      <td>ZZ</td>\n",
       "      <td>P095407</td>\n",
       "    </tr>\n",
       "    <tr>\n",
       "      <th>127</th>\n",
       "      <td>2.00</td>\n",
       "      <td>0.00</td>\n",
       "      <td>6.00</td>\n",
       "      <td>3.00</td>\n",
       "      <td>740.00</td>\n",
       "      <td>87128</td>\n",
       "      <td>35.00</td>\n",
       "      <td>335.00</td>\n",
       "      <td>60.00</td>\n",
       "      <td>식약처('21)</td>\n",
       "      <td>...</td>\n",
       "      <td>2021</td>\n",
       "      <td>CJ제일제당㈜</td>\n",
       "      <td>즉석식품류</td>\n",
       "      <td>216.0</td>\n",
       "      <td>전국(대표)</td>\n",
       "      <td>AVG</td>\n",
       "      <td>평균</td>\n",
       "      <td>햇반컵반 버터장조림비빔밥</td>\n",
       "      <td>ZZ</td>\n",
       "      <td>P095410</td>\n",
       "    </tr>\n",
       "  </tbody>\n",
       "</table>\n",
       "<p>204 rows × 21 columns</p>\n",
       "</div>"
      ],
      "text/plain": [
       "     NUTR_CONT8  NUTR_CONT9  NUTR_CONT4  NUTR_CONT5  NUTR_CONT6    NUM  \\\n",
       "118        2.40        0.10       13.10       16.70     1144.80    119   \n",
       "122        3.90        0.10       22.00       18.30     1119.66    123   \n",
       "133        2.40        0.10       15.90        2.90      971.61    134   \n",
       "977        1.27        0.03       11.22        4.73     1281.83   6978   \n",
       "984        4.29        0.26       19.44        0.22     1041.85   6985   \n",
       "..          ...         ...         ...         ...         ...    ...   \n",
       "43         0.80        0.00        1.30        1.00      550.00  87044   \n",
       "120        0.70        0.00        3.70        3.00      880.00  87121   \n",
       "121        0.80        0.00        4.70        6.00      770.00  87122   \n",
       "124        0.80        0.00        3.90        6.00      890.00  87125   \n",
       "127        2.00        0.00        6.00        3.00      740.00  87128   \n",
       "\n",
       "     NUTR_CONT7  NUTR_CONT1  NUTR_CONT2     SUB_REF_NAME  ...  RESEARCH_YEAR  \\\n",
       "118       21.90      547.21       90.70     식약처('16) 제4권  ...           2019   \n",
       "122       95.42      691.62       98.70     식약처('16) 제4권  ...           2019   \n",
       "133        0.00      511.80       80.20     식약처('16) 제4권  ...           2019   \n",
       "977       37.92      558.10       93.77  식약처 영양실태조사('20)  ...           2020   \n",
       "984      190.18      637.54       84.76  식약처 영양실태조사('20)  ...           2020   \n",
       "..          ...         ...         ...              ...  ...            ...   \n",
       "43        15.00      305.00       68.00         식약처('21)  ...           2021   \n",
       "120        0.00      340.00       66.00         식약처('21)  ...           2021   \n",
       "121        0.00      350.00       71.00         식약처('21)  ...           2021   \n",
       "124       25.00      320.00       62.00         식약처('21)  ...           2021   \n",
       "127       35.00      335.00       60.00         식약처('21)  ...           2021   \n",
       "\n",
       "     MAKER_NAME GROUP_NAME SERVING_SIZE  SAMPLING_REGION_NAME  \\\n",
       "118         NaN        NaN        400.0                    거제   \n",
       "122         NaN        NaN        450.0                    전주   \n",
       "133         NaN        NaN        400.0                    산청   \n",
       "977         NaN        NaN        380.0                전국(대표)   \n",
       "984         NaN        NaN        450.0                전국(대표)   \n",
       "..          ...        ...          ...                   ...   \n",
       "43          ㈜태송      즉석식품류        200.0                전국(대표)   \n",
       "120     CJ제일제당㈜      즉석식품류        280.0                전국(대표)   \n",
       "121     CJ제일제당㈜      즉석식품류        229.0                전국(대표)   \n",
       "124     CJ제일제당㈜      즉석식품류        216.0                전국(대표)   \n",
       "127     CJ제일제당㈜      즉석식품류        216.0                전국(대표)   \n",
       "\n",
       "    SAMPLING_MONTH_CD SAMPLING_MONTH_NAME         DESC_KOR SAMPLING_REGION_CD  \\\n",
       "118               AVG                  평균            멍게비빔밥                 02   \n",
       "122               AVG                  평균              비빔밥                107   \n",
       "133               AVG                  평균            약초비빔밥                117   \n",
       "977               AVG                  평균            돌솥비빔밥                 ZZ   \n",
       "984               AVG                  평균              비빔밥                 ZZ   \n",
       "..                ...                 ...              ...                ...   \n",
       "43                AVG                  평균            해초비빔밥                 ZZ   \n",
       "120               AVG                  평균  햇반컵반 강된장 보리 비빔밥                 ZZ   \n",
       "121               AVG                  평균  햇반컵반 고추장나물현미비빔밥                 ZZ   \n",
       "124               AVG                  평균    햇반컵반 낙지콩나물비빔밥                 ZZ   \n",
       "127               AVG                  평균    햇반컵반 버터장조림비빔밥                 ZZ   \n",
       "\n",
       "     FOOD_CD  \n",
       "118  D000215  \n",
       "122  D000222  \n",
       "133  D000235  \n",
       "977  D018197  \n",
       "984  D018204  \n",
       "..       ...  \n",
       "43   P095326  \n",
       "120  P095403  \n",
       "121  P095404  \n",
       "124  P095407  \n",
       "127  P095410  \n",
       "\n",
       "[204 rows x 21 columns]"
      ]
     },
     "execution_count": 12,
     "metadata": {},
     "output_type": "execute_result"
    }
   ],
   "source": [
    "df[df['DESC_KOR'].str.contains('비빔밥')]"
   ]
  },
  {
   "cell_type": "code",
   "execution_count": null,
   "metadata": {},
   "outputs": [],
   "source": []
  }
 ],
 "metadata": {
  "kernelspec": {
   "display_name": "Python 3",
   "language": "python",
   "name": "python3"
  },
  "language_info": {
   "codemirror_mode": {
    "name": "ipython",
    "version": 3
   },
   "file_extension": ".py",
   "mimetype": "text/x-python",
   "name": "python",
   "nbconvert_exporter": "python",
   "pygments_lexer": "ipython3",
   "version": "3.8.5"
  }
 },
 "nbformat": 4,
 "nbformat_minor": 4
}
