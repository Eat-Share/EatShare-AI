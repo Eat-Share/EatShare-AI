{
 "cells": [
  {
   "cell_type": "markdown",
   "metadata": {},
   "source": [
    "## Json data concat"
   ]
  },
  {
   "cell_type": "code",
   "execution_count": 2,
   "metadata": {},
   "outputs": [],
   "source": [
    "import pandas as pd\n",
    "import json"
   ]
  },
  {
   "cell_type": "code",
   "execution_count": 31,
   "metadata": {},
   "outputs": [],
   "source": [
    "pd.set_option('display.max_rows', 21)"
   ]
  },
  {
   "cell_type": "code",
   "execution_count": 5,
   "metadata": {},
   "outputs": [],
   "source": [
    "df1 = pd.read_json(f'./../dataset/1_1000.json')\n",
    "for i in range(1001, 90000, 1000):\n",
    "    df2 = pd.read_json(f'./../dataset/{i}_{i+999}.json')\n",
    "    df1 = pd.concat([df1, df2])"
   ]
  },
  {
   "cell_type": "code",
   "execution_count": 3,
   "metadata": {},
   "outputs": [],
   "source": [
    "df = pd.read_json(f'./../dataset/{1}_{1+999}.json')"
   ]
  },
  {
   "cell_type": "code",
   "execution_count": 8,
   "metadata": {},
   "outputs": [],
   "source": [
    "df1.to_csv('./../dataset.csv', sep=',', na_rep='NaN')"
   ]
  },
  {
   "cell_type": "code",
   "execution_count": 32,
   "metadata": {},
   "outputs": [
    {
     "data": {
      "text/plain": [
       "Index(['NUTR_CONT8', 'NUTR_CONT9', 'NUTR_CONT4', 'NUTR_CONT5', 'NUTR_CONT6',\n",
       "       'NUM', 'NUTR_CONT7', 'NUTR_CONT1', 'NUTR_CONT2', 'SUB_REF_NAME',\n",
       "       'NUTR_CONT3', 'RESEARCH_YEAR', 'MAKER_NAME', 'GROUP_NAME',\n",
       "       'SERVING_SIZE', 'SAMPLING_REGION_NAME', 'SAMPLING_MONTH_CD',\n",
       "       'SAMPLING_MONTH_NAME', 'DESC_KOR', 'SAMPLING_REGION_CD', 'FOOD_CD'],\n",
       "      dtype='object')"
      ]
     },
     "execution_count": 32,
     "metadata": {},
     "output_type": "execute_result"
    }
   ],
   "source": [
    "df = pd.read_csv('./../dataset.csv', index_col=0)\n",
    "df = pd.DataFrame(df)\n",
    "df.columns"
   ]
  },
  {
   "cell_type": "code",
   "execution_count": 35,
   "metadata": {},
   "outputs": [
    {
     "data": {
      "text/plain": [
       "'\\nDESC_KOR, NUTR_CONT2(탄), NUTR_CONT3(단), NUTR_CONT4(지)\\n'"
      ]
     },
     "execution_count": 35,
     "metadata": {},
     "output_type": "execute_result"
    }
   ],
   "source": [
    "'''\n",
    "DESC_KOR, NUTR_CONT2(탄), NUTR_CONT3(단), NUTR_CONT4(지)\n",
    "'''"
   ]
  },
  {
   "cell_type": "code",
   "execution_count": 34,
   "metadata": {},
   "outputs": [
    {
     "data": {
      "text/html": [
       "<div>\n",
       "<style scoped>\n",
       "    .dataframe tbody tr th:only-of-type {\n",
       "        vertical-align: middle;\n",
       "    }\n",
       "\n",
       "    .dataframe tbody tr th {\n",
       "        vertical-align: top;\n",
       "    }\n",
       "\n",
       "    .dataframe thead th {\n",
       "        text-align: right;\n",
       "    }\n",
       "</style>\n",
       "<table border=\"1\" class=\"dataframe\">\n",
       "  <thead>\n",
       "    <tr style=\"text-align: right;\">\n",
       "      <th></th>\n",
       "      <th>NUTR_CONT8</th>\n",
       "      <th>NUTR_CONT9</th>\n",
       "      <th>NUTR_CONT4</th>\n",
       "      <th>NUTR_CONT5</th>\n",
       "      <th>NUTR_CONT6</th>\n",
       "      <th>NUM</th>\n",
       "      <th>NUTR_CONT7</th>\n",
       "      <th>NUTR_CONT1</th>\n",
       "      <th>NUTR_CONT2</th>\n",
       "      <th>SUB_REF_NAME</th>\n",
       "      <th>...</th>\n",
       "      <th>RESEARCH_YEAR</th>\n",
       "      <th>MAKER_NAME</th>\n",
       "      <th>GROUP_NAME</th>\n",
       "      <th>SERVING_SIZE</th>\n",
       "      <th>SAMPLING_REGION_NAME</th>\n",
       "      <th>SAMPLING_MONTH_CD</th>\n",
       "      <th>SAMPLING_MONTH_NAME</th>\n",
       "      <th>DESC_KOR</th>\n",
       "      <th>SAMPLING_REGION_CD</th>\n",
       "      <th>FOOD_CD</th>\n",
       "    </tr>\n",
       "  </thead>\n",
       "  <tbody>\n",
       "    <tr>\n",
       "      <th>0</th>\n",
       "      <td>1.90</td>\n",
       "      <td>0.10</td>\n",
       "      <td>8.50</td>\n",
       "      <td>16.90</td>\n",
       "      <td>1264.31</td>\n",
       "      <td>1</td>\n",
       "      <td>106.18</td>\n",
       "      <td>368.80</td>\n",
       "      <td>39.70</td>\n",
       "      <td>식약처('16) 제4권</td>\n",
       "      <td>...</td>\n",
       "      <td>2019</td>\n",
       "      <td>NaN</td>\n",
       "      <td>NaN</td>\n",
       "      <td>500.0</td>\n",
       "      <td>충주</td>\n",
       "      <td>AVG</td>\n",
       "      <td>평균</td>\n",
       "      <td>꿩불고기</td>\n",
       "      <td>94</td>\n",
       "      <td>D000006</td>\n",
       "    </tr>\n",
       "    <tr>\n",
       "      <th>1</th>\n",
       "      <td>6.00</td>\n",
       "      <td>0.20</td>\n",
       "      <td>25.80</td>\n",
       "      <td>21.20</td>\n",
       "      <td>1535.83</td>\n",
       "      <td>2</td>\n",
       "      <td>193.40</td>\n",
       "      <td>595.61</td>\n",
       "      <td>44.90</td>\n",
       "      <td>식약처('16) 제4권</td>\n",
       "      <td>...</td>\n",
       "      <td>2019</td>\n",
       "      <td>NaN</td>\n",
       "      <td>NaN</td>\n",
       "      <td>400.0</td>\n",
       "      <td>전국(대표)</td>\n",
       "      <td>AVG</td>\n",
       "      <td>평균</td>\n",
       "      <td>닭갈비</td>\n",
       "      <td>ZZ</td>\n",
       "      <td>D000007</td>\n",
       "    </tr>\n",
       "    <tr>\n",
       "      <th>2</th>\n",
       "      <td>11.30</td>\n",
       "      <td>0.30</td>\n",
       "      <td>31.60</td>\n",
       "      <td>8.50</td>\n",
       "      <td>1016.94</td>\n",
       "      <td>3</td>\n",
       "      <td>217.67</td>\n",
       "      <td>558.47</td>\n",
       "      <td>23.10</td>\n",
       "      <td>식약처('16) 제4권</td>\n",
       "      <td>...</td>\n",
       "      <td>2019</td>\n",
       "      <td>NaN</td>\n",
       "      <td>NaN</td>\n",
       "      <td>300.0</td>\n",
       "      <td>춘천</td>\n",
       "      <td>AVG</td>\n",
       "      <td>평균</td>\n",
       "      <td>닭갈비</td>\n",
       "      <td>66</td>\n",
       "      <td>D000008</td>\n",
       "    </tr>\n",
       "    <tr>\n",
       "      <th>3</th>\n",
       "      <td>2.32</td>\n",
       "      <td>0.04</td>\n",
       "      <td>8.57</td>\n",
       "      <td>3.15</td>\n",
       "      <td>286.91</td>\n",
       "      <td>4</td>\n",
       "      <td>31.44</td>\n",
       "      <td>176.72</td>\n",
       "      <td>13.35</td>\n",
       "      <td>식약처('12) 제1권</td>\n",
       "      <td>...</td>\n",
       "      <td>2019</td>\n",
       "      <td>NaN</td>\n",
       "      <td>NaN</td>\n",
       "      <td>70.0</td>\n",
       "      <td>전국(대표)</td>\n",
       "      <td>AVG</td>\n",
       "      <td>평균</td>\n",
       "      <td>닭꼬치</td>\n",
       "      <td>ZZ</td>\n",
       "      <td>D000009</td>\n",
       "    </tr>\n",
       "    <tr>\n",
       "      <th>4</th>\n",
       "      <td>0.80</td>\n",
       "      <td>0.00</td>\n",
       "      <td>5.20</td>\n",
       "      <td>11.60</td>\n",
       "      <td>743.37</td>\n",
       "      <td>5</td>\n",
       "      <td>0.12</td>\n",
       "      <td>184.00</td>\n",
       "      <td>31.10</td>\n",
       "      <td>식약처('17) 제5권</td>\n",
       "      <td>...</td>\n",
       "      <td>2019</td>\n",
       "      <td>NaN</td>\n",
       "      <td>NaN</td>\n",
       "      <td>100.0</td>\n",
       "      <td>전국(대표)</td>\n",
       "      <td>AVG</td>\n",
       "      <td>평균</td>\n",
       "      <td>더덕구이</td>\n",
       "      <td>ZZ</td>\n",
       "      <td>D000010</td>\n",
       "    </tr>\n",
       "  </tbody>\n",
       "</table>\n",
       "<p>5 rows × 21 columns</p>\n",
       "</div>"
      ],
      "text/plain": [
       "   NUTR_CONT8  NUTR_CONT9  NUTR_CONT4  NUTR_CONT5  NUTR_CONT6  NUM  \\\n",
       "0        1.90        0.10        8.50       16.90     1264.31    1   \n",
       "1        6.00        0.20       25.80       21.20     1535.83    2   \n",
       "2       11.30        0.30       31.60        8.50     1016.94    3   \n",
       "3        2.32        0.04        8.57        3.15      286.91    4   \n",
       "4        0.80        0.00        5.20       11.60      743.37    5   \n",
       "\n",
       "   NUTR_CONT7  NUTR_CONT1  NUTR_CONT2  SUB_REF_NAME  ...  RESEARCH_YEAR  \\\n",
       "0      106.18      368.80       39.70  식약처('16) 제4권  ...           2019   \n",
       "1      193.40      595.61       44.90  식약처('16) 제4권  ...           2019   \n",
       "2      217.67      558.47       23.10  식약처('16) 제4권  ...           2019   \n",
       "3       31.44      176.72       13.35  식약처('12) 제1권  ...           2019   \n",
       "4        0.12      184.00       31.10  식약처('17) 제5권  ...           2019   \n",
       "\n",
       "   MAKER_NAME GROUP_NAME SERVING_SIZE  SAMPLING_REGION_NAME SAMPLING_MONTH_CD  \\\n",
       "0         NaN        NaN        500.0                    충주               AVG   \n",
       "1         NaN        NaN        400.0                전국(대표)               AVG   \n",
       "2         NaN        NaN        300.0                    춘천               AVG   \n",
       "3         NaN        NaN         70.0                전국(대표)               AVG   \n",
       "4         NaN        NaN        100.0                전국(대표)               AVG   \n",
       "\n",
       "  SAMPLING_MONTH_NAME DESC_KOR SAMPLING_REGION_CD  FOOD_CD  \n",
       "0                  평균     꿩불고기                 94  D000006  \n",
       "1                  평균      닭갈비                 ZZ  D000007  \n",
       "2                  평균      닭갈비                 66  D000008  \n",
       "3                  평균      닭꼬치                 ZZ  D000009  \n",
       "4                  평균     더덕구이                 ZZ  D000010  \n",
       "\n",
       "[5 rows x 21 columns]"
      ]
     },
     "execution_count": 34,
     "metadata": {},
     "output_type": "execute_result"
    }
   ],
   "source": [
    "df.head(5)"
   ]
  },
  {
   "cell_type": "markdown",
   "metadata": {},
   "source": [
    "## Api data load"
   ]
  },
  {
   "cell_type": "code",
   "execution_count": 1,
   "metadata": {},
   "outputs": [],
   "source": [
    "import requests\n",
    "import json"
   ]
  },
  {
   "cell_type": "code",
   "execution_count": 2,
   "metadata": {},
   "outputs": [],
   "source": [
    "for i in range(1, 90000, 1000):\n",
    "    file_path = f\"./../dataset/{i}_{i+999}.json\"\n",
    "    url = f\"http://openapi.foodsafetykorea.go.kr/api/a8b61f7af3c34ea0930c/I2790/json/{i}/{i+999}\"\n",
    "    requestData = requests.post(url)\n",
    "    jsonData = None\n",
    "    jsonData = requestData.json()\n",
    "    jsonData = jsonData['I2790']['row']\n",
    "    with open(file_path, 'w', encoding='UTF-8') as outfile:\n",
    "        json.dump(jsonData, outfile, ensure_ascii=False)"
   ]
  },
  {
   "cell_type": "code",
   "execution_count": null,
   "metadata": {},
   "outputs": [],
   "source": []
  }
 ],
 "metadata": {
  "kernelspec": {
   "display_name": "Python 3",
   "language": "python",
   "name": "python3"
  },
  "language_info": {
   "codemirror_mode": {
    "name": "ipython",
    "version": 3
   },
   "file_extension": ".py",
   "mimetype": "text/x-python",
   "name": "python",
   "nbconvert_exporter": "python",
   "pygments_lexer": "ipython3",
   "version": "3.8.5"
  }
 },
 "nbformat": 4,
 "nbformat_minor": 4
}
