{
 "cells": [
  {
   "cell_type": "markdown",
   "metadata": {},
   "source": [
    "## Api data load"
   ]
  },
  {
   "cell_type": "code",
   "execution_count": 1,
   "metadata": {},
   "outputs": [],
   "source": [
    "import requests\n",
    "import json"
   ]
  },
  {
   "cell_type": "code",
   "execution_count": 2,
   "metadata": {},
   "outputs": [],
   "source": [
    "for i in range(1, 90000, 1000):\n",
    "    file_path = f\"./../dataset/{i}_{i+999}.json\"\n",
    "    url = f\"http://openapi.foodsafetykorea.go.kr/api/a8b61f7af3c34ea0930c/I2790/json/{i}/{i+999}\"\n",
    "    requestData = requests.post(url)\n",
    "    jsonData = None\n",
    "    jsonData = requestData.json()\n",
    "    jsonData = jsonData['I2790']['row']\n",
    "    with open(file_path, 'w', encoding='UTF-8') as outfile:\n",
    "        json.dump(jsonData, outfile, ensure_ascii=False)"
   ]
  },
  {
   "cell_type": "markdown",
   "metadata": {},
   "source": [
    "## json to csv"
   ]
  },
  {
   "cell_type": "code",
   "execution_count": 5,
   "metadata": {},
   "outputs": [],
   "source": [
    "df1 = pd.read_json(f'./../dataset/1_1000.json')\n",
    "for i in range(1001, 90000, 1000):\n",
    "    df2 = pd.read_json(f'./../dataset/{i}_{i+999}.json')\n",
    "    df1 = pd.concat([df1, df2])"
   ]
  },
  {
   "cell_type": "code",
   "execution_count": 3,
   "metadata": {},
   "outputs": [],
   "source": [
    "df = pd.read_json(f'./../dataset/{1}_{1+999}.json')"
   ]
  },
  {
   "cell_type": "code",
   "execution_count": 8,
   "metadata": {},
   "outputs": [],
   "source": [
    "df1.to_csv('./../dataset.csv', sep=',', na_rep='NaN')"
   ]
  },
  {
   "cell_type": "markdown",
   "metadata": {},
   "source": [
    "## load csv data"
   ]
  },
  {
   "cell_type": "code",
   "execution_count": 1,
   "metadata": {},
   "outputs": [],
   "source": [
    "import pandas as pd\n",
    "import json"
   ]
  },
  {
   "cell_type": "code",
   "execution_count": 2,
   "metadata": {},
   "outputs": [],
   "source": [
    "pd.set_option('display.max_rows', 21)"
   ]
  },
  {
   "cell_type": "code",
   "execution_count": 3,
   "metadata": {},
   "outputs": [
    {
     "data": {
      "text/plain": [
       "Index(['NUTR_CONT8', 'NUTR_CONT9', 'NUTR_CONT4', 'NUTR_CONT5', 'NUTR_CONT6',\n",
       "       'NUM', 'NUTR_CONT7', 'NUTR_CONT1', 'NUTR_CONT2', 'SUB_REF_NAME',\n",
       "       'NUTR_CONT3', 'RESEARCH_YEAR', 'MAKER_NAME', 'GROUP_NAME',\n",
       "       'SERVING_SIZE', 'SAMPLING_REGION_NAME', 'SAMPLING_MONTH_CD',\n",
       "       'SAMPLING_MONTH_NAME', 'DESC_KOR', 'SAMPLING_REGION_CD', 'FOOD_CD'],\n",
       "      dtype='object')"
      ]
     },
     "execution_count": 3,
     "metadata": {},
     "output_type": "execute_result"
    }
   ],
   "source": [
    "df = pd.read_csv('./../dataset.csv', index_col=0)\n",
    "df = pd.DataFrame(df)\n",
    "df.columns"
   ]
  },
  {
   "cell_type": "code",
   "execution_count": 4,
   "metadata": {},
   "outputs": [
    {
     "data": {
      "text/plain": [
       "'\\nDESC_KOR, NUTR_CONT2(탄), NUTR_CONT3(단), NUTR_CONT4(지)\\n'"
      ]
     },
     "execution_count": 4,
     "metadata": {},
     "output_type": "execute_result"
    }
   ],
   "source": [
    "'''\n",
    "DESC_KOR, NUTR_CONT2(탄), NUTR_CONT3(단), NUTR_CONT4(지)\n",
    "'''"
   ]
  },
  {
   "cell_type": "code",
   "execution_count": 9,
   "metadata": {},
   "outputs": [
    {
     "data": {
      "text/html": [
       "<div>\n",
       "<style scoped>\n",
       "    .dataframe tbody tr th:only-of-type {\n",
       "        vertical-align: middle;\n",
       "    }\n",
       "\n",
       "    .dataframe tbody tr th {\n",
       "        vertical-align: top;\n",
       "    }\n",
       "\n",
       "    .dataframe thead th {\n",
       "        text-align: right;\n",
       "    }\n",
       "</style>\n",
       "<table border=\"1\" class=\"dataframe\">\n",
       "  <thead>\n",
       "    <tr style=\"text-align: right;\">\n",
       "      <th></th>\n",
       "      <th>NUTR_CONT8</th>\n",
       "      <th>NUTR_CONT9</th>\n",
       "      <th>NUTR_CONT4</th>\n",
       "      <th>NUTR_CONT5</th>\n",
       "      <th>NUTR_CONT6</th>\n",
       "      <th>NUM</th>\n",
       "      <th>NUTR_CONT7</th>\n",
       "      <th>NUTR_CONT1</th>\n",
       "      <th>NUTR_CONT2</th>\n",
       "      <th>SUB_REF_NAME</th>\n",
       "      <th>...</th>\n",
       "      <th>RESEARCH_YEAR</th>\n",
       "      <th>MAKER_NAME</th>\n",
       "      <th>GROUP_NAME</th>\n",
       "      <th>SERVING_SIZE</th>\n",
       "      <th>SAMPLING_REGION_NAME</th>\n",
       "      <th>SAMPLING_MONTH_CD</th>\n",
       "      <th>SAMPLING_MONTH_NAME</th>\n",
       "      <th>DESC_KOR</th>\n",
       "      <th>SAMPLING_REGION_CD</th>\n",
       "      <th>FOOD_CD</th>\n",
       "    </tr>\n",
       "  </thead>\n",
       "  <tbody>\n",
       "    <tr>\n",
       "      <th>0</th>\n",
       "      <td>1.9</td>\n",
       "      <td>0.1</td>\n",
       "      <td>8.5</td>\n",
       "      <td>16.9</td>\n",
       "      <td>1264.31</td>\n",
       "      <td>1</td>\n",
       "      <td>106.18</td>\n",
       "      <td>368.8</td>\n",
       "      <td>39.7</td>\n",
       "      <td>식약처('16) 제4권</td>\n",
       "      <td>...</td>\n",
       "      <td>2019</td>\n",
       "      <td>NaN</td>\n",
       "      <td>NaN</td>\n",
       "      <td>500.0</td>\n",
       "      <td>충주</td>\n",
       "      <td>AVG</td>\n",
       "      <td>평균</td>\n",
       "      <td>꿩불고기</td>\n",
       "      <td>94</td>\n",
       "      <td>D000006</td>\n",
       "    </tr>\n",
       "  </tbody>\n",
       "</table>\n",
       "<p>1 rows × 21 columns</p>\n",
       "</div>"
      ],
      "text/plain": [
       "   NUTR_CONT8  NUTR_CONT9  NUTR_CONT4  NUTR_CONT5  NUTR_CONT6  NUM  \\\n",
       "0         1.9         0.1         8.5        16.9     1264.31    1   \n",
       "\n",
       "   NUTR_CONT7  NUTR_CONT1  NUTR_CONT2  SUB_REF_NAME  ...  RESEARCH_YEAR  \\\n",
       "0      106.18       368.8        39.7  식약처('16) 제4권  ...           2019   \n",
       "\n",
       "   MAKER_NAME GROUP_NAME SERVING_SIZE  SAMPLING_REGION_NAME SAMPLING_MONTH_CD  \\\n",
       "0         NaN        NaN        500.0                    충주               AVG   \n",
       "\n",
       "  SAMPLING_MONTH_NAME DESC_KOR SAMPLING_REGION_CD  FOOD_CD  \n",
       "0                  평균     꿩불고기                 94  D000006  \n",
       "\n",
       "[1 rows x 21 columns]"
      ]
     },
     "execution_count": 9,
     "metadata": {},
     "output_type": "execute_result"
    }
   ],
   "source": [
    "df.head(1)"
   ]
  },
  {
   "cell_type": "code",
   "execution_count": 6,
   "metadata": {},
   "outputs": [
    {
     "data": {
      "text/html": [
       "<div>\n",
       "<style scoped>\n",
       "    .dataframe tbody tr th:only-of-type {\n",
       "        vertical-align: middle;\n",
       "    }\n",
       "\n",
       "    .dataframe tbody tr th {\n",
       "        vertical-align: top;\n",
       "    }\n",
       "\n",
       "    .dataframe thead th {\n",
       "        text-align: right;\n",
       "    }\n",
       "</style>\n",
       "<table border=\"1\" class=\"dataframe\">\n",
       "  <thead>\n",
       "    <tr style=\"text-align: right;\">\n",
       "      <th></th>\n",
       "      <th>NUTR_CONT8</th>\n",
       "      <th>NUTR_CONT9</th>\n",
       "      <th>NUTR_CONT4</th>\n",
       "      <th>NUTR_CONT5</th>\n",
       "      <th>NUTR_CONT6</th>\n",
       "      <th>NUM</th>\n",
       "      <th>NUTR_CONT7</th>\n",
       "      <th>NUTR_CONT1</th>\n",
       "      <th>NUTR_CONT2</th>\n",
       "      <th>NUTR_CONT3</th>\n",
       "      <th>RESEARCH_YEAR</th>\n",
       "      <th>SERVING_SIZE</th>\n",
       "    </tr>\n",
       "  </thead>\n",
       "  <tbody>\n",
       "    <tr>\n",
       "      <th>count</th>\n",
       "      <td>87380.000000</td>\n",
       "      <td>79295.000000</td>\n",
       "      <td>81260.000000</td>\n",
       "      <td>87902.000000</td>\n",
       "      <td>87045.000000</td>\n",
       "      <td>90000.000000</td>\n",
       "      <td>78519.000000</td>\n",
       "      <td>89076.000000</td>\n",
       "      <td>80825.000000</td>\n",
       "      <td>88016.000000</td>\n",
       "      <td>90000.000000</td>\n",
       "      <td>90000.000000</td>\n",
       "    </tr>\n",
       "    <tr>\n",
       "      <th>mean</th>\n",
       "      <td>4.602364</td>\n",
       "      <td>0.083043</td>\n",
       "      <td>10.769317</td>\n",
       "      <td>15.820747</td>\n",
       "      <td>348.436035</td>\n",
       "      <td>45000.500000</td>\n",
       "      <td>19.996419</td>\n",
       "      <td>284.363411</td>\n",
       "      <td>37.482770</td>\n",
       "      <td>7.195494</td>\n",
       "      <td>2019.827344</td>\n",
       "      <td>152.246516</td>\n",
       "    </tr>\n",
       "    <tr>\n",
       "      <th>std</th>\n",
       "      <td>30.677214</td>\n",
       "      <td>1.545942</td>\n",
       "      <td>109.161781</td>\n",
       "      <td>149.647378</td>\n",
       "      <td>729.286026</td>\n",
       "      <td>25980.906451</td>\n",
       "      <td>74.151487</td>\n",
       "      <td>1085.177111</td>\n",
       "      <td>170.391824</td>\n",
       "      <td>14.220454</td>\n",
       "      <td>1.218203</td>\n",
       "      <td>716.990578</td>\n",
       "    </tr>\n",
       "    <tr>\n",
       "      <th>min</th>\n",
       "      <td>0.000000</td>\n",
       "      <td>0.000000</td>\n",
       "      <td>0.000000</td>\n",
       "      <td>0.000000</td>\n",
       "      <td>0.000000</td>\n",
       "      <td>1.000000</td>\n",
       "      <td>0.000000</td>\n",
       "      <td>0.000000</td>\n",
       "      <td>0.000000</td>\n",
       "      <td>0.000000</td>\n",
       "      <td>2006.000000</td>\n",
       "      <td>0.030000</td>\n",
       "    </tr>\n",
       "    <tr>\n",
       "      <th>25%</th>\n",
       "      <td>0.000000</td>\n",
       "      <td>0.000000</td>\n",
       "      <td>0.400000</td>\n",
       "      <td>2.000000</td>\n",
       "      <td>20.000000</td>\n",
       "      <td>22500.750000</td>\n",
       "      <td>0.000000</td>\n",
       "      <td>88.000000</td>\n",
       "      <td>11.000000</td>\n",
       "      <td>1.000000</td>\n",
       "      <td>2019.000000</td>\n",
       "      <td>75.000000</td>\n",
       "    </tr>\n",
       "    <tr>\n",
       "      <th>50%</th>\n",
       "      <td>1.480000</td>\n",
       "      <td>0.000000</td>\n",
       "      <td>4.000000</td>\n",
       "      <td>8.000000</td>\n",
       "      <td>100.000000</td>\n",
       "      <td>45000.500000</td>\n",
       "      <td>0.000000</td>\n",
       "      <td>204.000000</td>\n",
       "      <td>25.000000</td>\n",
       "      <td>4.000000</td>\n",
       "      <td>2020.000000</td>\n",
       "      <td>100.000000</td>\n",
       "    </tr>\n",
       "    <tr>\n",
       "      <th>75%</th>\n",
       "      <td>5.542500</td>\n",
       "      <td>0.000000</td>\n",
       "      <td>12.300000</td>\n",
       "      <td>18.000000</td>\n",
       "      <td>406.000000</td>\n",
       "      <td>67500.250000</td>\n",
       "      <td>19.000000</td>\n",
       "      <td>365.000000</td>\n",
       "      <td>50.000000</td>\n",
       "      <td>9.600000</td>\n",
       "      <td>2021.000000</td>\n",
       "      <td>180.000000</td>\n",
       "    </tr>\n",
       "    <tr>\n",
       "      <th>max</th>\n",
       "      <td>5500.000000</td>\n",
       "      <td>213.000000</td>\n",
       "      <td>26374.000000</td>\n",
       "      <td>26666.000000</td>\n",
       "      <td>33654.000000</td>\n",
       "      <td>90000.000000</td>\n",
       "      <td>8000.000000</td>\n",
       "      <td>135750.000000</td>\n",
       "      <td>26666.000000</td>\n",
       "      <td>1750.000000</td>\n",
       "      <td>2021.000000</td>\n",
       "      <td>200000.000000</td>\n",
       "    </tr>\n",
       "  </tbody>\n",
       "</table>\n",
       "</div>"
      ],
      "text/plain": [
       "         NUTR_CONT8    NUTR_CONT9    NUTR_CONT4    NUTR_CONT5    NUTR_CONT6  \\\n",
       "count  87380.000000  79295.000000  81260.000000  87902.000000  87045.000000   \n",
       "mean       4.602364      0.083043     10.769317     15.820747    348.436035   \n",
       "std       30.677214      1.545942    109.161781    149.647378    729.286026   \n",
       "min        0.000000      0.000000      0.000000      0.000000      0.000000   \n",
       "25%        0.000000      0.000000      0.400000      2.000000     20.000000   \n",
       "50%        1.480000      0.000000      4.000000      8.000000    100.000000   \n",
       "75%        5.542500      0.000000     12.300000     18.000000    406.000000   \n",
       "max     5500.000000    213.000000  26374.000000  26666.000000  33654.000000   \n",
       "\n",
       "                NUM    NUTR_CONT7     NUTR_CONT1    NUTR_CONT2    NUTR_CONT3  \\\n",
       "count  90000.000000  78519.000000   89076.000000  80825.000000  88016.000000   \n",
       "mean   45000.500000     19.996419     284.363411     37.482770      7.195494   \n",
       "std    25980.906451     74.151487    1085.177111    170.391824     14.220454   \n",
       "min        1.000000      0.000000       0.000000      0.000000      0.000000   \n",
       "25%    22500.750000      0.000000      88.000000     11.000000      1.000000   \n",
       "50%    45000.500000      0.000000     204.000000     25.000000      4.000000   \n",
       "75%    67500.250000     19.000000     365.000000     50.000000      9.600000   \n",
       "max    90000.000000   8000.000000  135750.000000  26666.000000   1750.000000   \n",
       "\n",
       "       RESEARCH_YEAR   SERVING_SIZE  \n",
       "count   90000.000000   90000.000000  \n",
       "mean     2019.827344     152.246516  \n",
       "std         1.218203     716.990578  \n",
       "min      2006.000000       0.030000  \n",
       "25%      2019.000000      75.000000  \n",
       "50%      2020.000000     100.000000  \n",
       "75%      2021.000000     180.000000  \n",
       "max      2021.000000  200000.000000  "
      ]
     },
     "execution_count": 6,
     "metadata": {},
     "output_type": "execute_result"
    }
   ],
   "source": [
    "df.describe()"
   ]
  },
  {
   "cell_type": "code",
   "execution_count": 13,
   "metadata": {},
   "outputs": [
    {
     "data": {
      "text/html": [
       "<div>\n",
       "<style scoped>\n",
       "    .dataframe tbody tr th:only-of-type {\n",
       "        vertical-align: middle;\n",
       "    }\n",
       "\n",
       "    .dataframe tbody tr th {\n",
       "        vertical-align: top;\n",
       "    }\n",
       "\n",
       "    .dataframe thead th {\n",
       "        text-align: right;\n",
       "    }\n",
       "</style>\n",
       "<table border=\"1\" class=\"dataframe\">\n",
       "  <thead>\n",
       "    <tr style=\"text-align: right;\">\n",
       "      <th></th>\n",
       "      <th>NUTR_CONT8</th>\n",
       "      <th>NUTR_CONT9</th>\n",
       "      <th>NUTR_CONT4</th>\n",
       "      <th>NUTR_CONT5</th>\n",
       "      <th>NUTR_CONT6</th>\n",
       "      <th>NUM</th>\n",
       "      <th>NUTR_CONT7</th>\n",
       "      <th>NUTR_CONT1</th>\n",
       "      <th>NUTR_CONT2</th>\n",
       "      <th>SUB_REF_NAME</th>\n",
       "      <th>...</th>\n",
       "      <th>RESEARCH_YEAR</th>\n",
       "      <th>MAKER_NAME</th>\n",
       "      <th>GROUP_NAME</th>\n",
       "      <th>SERVING_SIZE</th>\n",
       "      <th>SAMPLING_REGION_NAME</th>\n",
       "      <th>SAMPLING_MONTH_CD</th>\n",
       "      <th>SAMPLING_MONTH_NAME</th>\n",
       "      <th>DESC_KOR</th>\n",
       "      <th>SAMPLING_REGION_CD</th>\n",
       "      <th>FOOD_CD</th>\n",
       "    </tr>\n",
       "  </thead>\n",
       "  <tbody>\n",
       "    <tr>\n",
       "      <th>114</th>\n",
       "      <td>2.7</td>\n",
       "      <td>0.2</td>\n",
       "      <td>8.2</td>\n",
       "      <td>0.4</td>\n",
       "      <td>2301.55</td>\n",
       "      <td>115</td>\n",
       "      <td>47.81</td>\n",
       "      <td>418.35</td>\n",
       "      <td>58.6</td>\n",
       "      <td>식약처('16) 제4권</td>\n",
       "      <td>...</td>\n",
       "      <td>2019</td>\n",
       "      <td>NaN</td>\n",
       "      <td>NaN</td>\n",
       "      <td>800.0</td>\n",
       "      <td>안성</td>\n",
       "      <td>AVG</td>\n",
       "      <td>평균</td>\n",
       "      <td>국밥</td>\n",
       "      <td>104</td>\n",
       "      <td>D000208</td>\n",
       "    </tr>\n",
       "  </tbody>\n",
       "</table>\n",
       "<p>1 rows × 21 columns</p>\n",
       "</div>"
      ],
      "text/plain": [
       "     NUTR_CONT8  NUTR_CONT9  NUTR_CONT4  NUTR_CONT5  NUTR_CONT6  NUM  \\\n",
       "114         2.7         0.2         8.2         0.4     2301.55  115   \n",
       "\n",
       "     NUTR_CONT7  NUTR_CONT1  NUTR_CONT2  SUB_REF_NAME  ...  RESEARCH_YEAR  \\\n",
       "114       47.81      418.35        58.6  식약처('16) 제4권  ...           2019   \n",
       "\n",
       "     MAKER_NAME GROUP_NAME SERVING_SIZE  SAMPLING_REGION_NAME  \\\n",
       "114         NaN        NaN        800.0                    안성   \n",
       "\n",
       "    SAMPLING_MONTH_CD SAMPLING_MONTH_NAME DESC_KOR SAMPLING_REGION_CD  FOOD_CD  \n",
       "114               AVG                  평균       국밥                104  D000208  \n",
       "\n",
       "[1 rows x 21 columns]"
      ]
     },
     "execution_count": 13,
     "metadata": {},
     "output_type": "execute_result"
    }
   ],
   "source": [
    "df[df['DESC_KOR'] == '국밥']"
   ]
  },
  {
   "cell_type": "code",
   "execution_count": null,
   "metadata": {},
   "outputs": [],
   "source": []
  }
 ],
 "metadata": {
  "kernelspec": {
   "display_name": "Python 3",
   "language": "python",
   "name": "python3"
  },
  "language_info": {
   "codemirror_mode": {
    "name": "ipython",
    "version": 3
   },
   "file_extension": ".py",
   "mimetype": "text/x-python",
   "name": "python",
   "nbconvert_exporter": "python",
   "pygments_lexer": "ipython3",
   "version": "3.8.5"
  }
 },
 "nbformat": 4,
 "nbformat_minor": 4
}
